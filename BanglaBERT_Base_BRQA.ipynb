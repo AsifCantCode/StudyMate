{
  "metadata": {
    "colab": {
      "provenance": []
    },
    "kernelspec": {
      "name": "python3",
      "display_name": "Python 3",
      "language": "python"
    },
    "language_info": {
      "name": "python",
      "version": "3.10.13",
      "mimetype": "text/x-python",
      "codemirror_mode": {
        "name": "ipython",
        "version": 3
      },
      "pygments_lexer": "ipython3",
      "nbconvert_exporter": "python",
      "file_extension": ".py"
    },
    "kaggle": {
      "accelerator": "gpu",
      "dataSources": [
        {
          "sourceId": 8604663,
          "sourceType": "datasetVersion",
          "datasetId": 5148683
        }
      ],
      "dockerImageVersionId": 30733,
      "isInternetEnabled": true,
      "language": "python",
      "sourceType": "notebook",
      "isGpuEnabled": true
    }
  },
  "nbformat_minor": 0,
  "nbformat": 4,
  "cells": [
    {
      "cell_type": "markdown",
      "source": [
        "If you're opening this Notebook on colab, you will probably need to install 🤗 Transformers and 🤗 Datasets. Uncomment the following cell and run it."
      ],
      "metadata": {
        "id": "X4cRE8IbIrIV"
      }
    },
    {
      "cell_type": "code",
      "source": [
        "! pip install datasets transformers"
      ],
      "metadata": {
        "id": "MOsHUjgdIrIW",
        "execution": {
          "iopub.status.busy": "2024-06-15T14:38:11.882777Z",
          "iopub.execute_input": "2024-06-15T14:38:11.883443Z",
          "iopub.status.idle": "2024-06-15T14:38:27.135156Z",
          "shell.execute_reply.started": "2024-06-15T14:38:11.883411Z",
          "shell.execute_reply": "2024-06-15T14:38:27.134181Z"
        },
        "trusted": true,
        "outputId": "29811683-82c1-4996-8890-953bc9561aca"
      },
      "execution_count": null,
      "outputs": [
        {
          "name": "stdout",
          "text": "Requirement already satisfied: datasets in /opt/conda/lib/python3.10/site-packages (2.19.2)\nRequirement already satisfied: transformers in /opt/conda/lib/python3.10/site-packages (4.41.2)\nRequirement already satisfied: filelock in /opt/conda/lib/python3.10/site-packages (from datasets) (3.13.1)\nRequirement already satisfied: numpy>=1.17 in /opt/conda/lib/python3.10/site-packages (from datasets) (1.26.4)\nRequirement already satisfied: pyarrow>=12.0.0 in /opt/conda/lib/python3.10/site-packages (from datasets) (14.0.2)\nRequirement already satisfied: pyarrow-hotfix in /opt/conda/lib/python3.10/site-packages (from datasets) (0.6)\nRequirement already satisfied: dill<0.3.9,>=0.3.0 in /opt/conda/lib/python3.10/site-packages (from datasets) (0.3.8)\nRequirement already satisfied: pandas in /opt/conda/lib/python3.10/site-packages (from datasets) (2.2.1)\nRequirement already satisfied: requests>=2.32.1 in /opt/conda/lib/python3.10/site-packages (from datasets) (2.32.3)\nRequirement already satisfied: tqdm>=4.62.1 in /opt/conda/lib/python3.10/site-packages (from datasets) (4.66.4)\nRequirement already satisfied: xxhash in /opt/conda/lib/python3.10/site-packages (from datasets) (3.4.1)\nRequirement already satisfied: multiprocess in /opt/conda/lib/python3.10/site-packages (from datasets) (0.70.16)\nRequirement already satisfied: fsspec<=2024.3.1,>=2023.1.0 in /opt/conda/lib/python3.10/site-packages (from fsspec[http]<=2024.3.1,>=2023.1.0->datasets) (2024.3.1)\nRequirement already satisfied: aiohttp in /opt/conda/lib/python3.10/site-packages (from datasets) (3.9.1)\nRequirement already satisfied: huggingface-hub>=0.21.2 in /opt/conda/lib/python3.10/site-packages (from datasets) (0.23.2)\nRequirement already satisfied: packaging in /opt/conda/lib/python3.10/site-packages (from datasets) (21.3)\nRequirement already satisfied: pyyaml>=5.1 in /opt/conda/lib/python3.10/site-packages (from datasets) (6.0.1)\nRequirement already satisfied: regex!=2019.12.17 in /opt/conda/lib/python3.10/site-packages (from transformers) (2023.12.25)\nRequirement already satisfied: tokenizers<0.20,>=0.19 in /opt/conda/lib/python3.10/site-packages (from transformers) (0.19.1)\nRequirement already satisfied: safetensors>=0.4.1 in /opt/conda/lib/python3.10/site-packages (from transformers) (0.4.3)\nRequirement already satisfied: attrs>=17.3.0 in /opt/conda/lib/python3.10/site-packages (from aiohttp->datasets) (23.2.0)\nRequirement already satisfied: multidict<7.0,>=4.5 in /opt/conda/lib/python3.10/site-packages (from aiohttp->datasets) (6.0.4)\nRequirement already satisfied: yarl<2.0,>=1.0 in /opt/conda/lib/python3.10/site-packages (from aiohttp->datasets) (1.9.3)\nRequirement already satisfied: frozenlist>=1.1.1 in /opt/conda/lib/python3.10/site-packages (from aiohttp->datasets) (1.4.1)\nRequirement already satisfied: aiosignal>=1.1.2 in /opt/conda/lib/python3.10/site-packages (from aiohttp->datasets) (1.3.1)\nRequirement already satisfied: async-timeout<5.0,>=4.0 in /opt/conda/lib/python3.10/site-packages (from aiohttp->datasets) (4.0.3)\nRequirement already satisfied: typing-extensions>=3.7.4.3 in /opt/conda/lib/python3.10/site-packages (from huggingface-hub>=0.21.2->datasets) (4.9.0)\nRequirement already satisfied: pyparsing!=3.0.5,>=2.0.2 in /opt/conda/lib/python3.10/site-packages (from packaging->datasets) (3.1.1)\nRequirement already satisfied: charset-normalizer<4,>=2 in /opt/conda/lib/python3.10/site-packages (from requests>=2.32.1->datasets) (3.3.2)\nRequirement already satisfied: idna<4,>=2.5 in /opt/conda/lib/python3.10/site-packages (from requests>=2.32.1->datasets) (3.6)\nRequirement already satisfied: urllib3<3,>=1.21.1 in /opt/conda/lib/python3.10/site-packages (from requests>=2.32.1->datasets) (1.26.18)\nRequirement already satisfied: certifi>=2017.4.17 in /opt/conda/lib/python3.10/site-packages (from requests>=2.32.1->datasets) (2024.2.2)\nRequirement already satisfied: python-dateutil>=2.8.2 in /opt/conda/lib/python3.10/site-packages (from pandas->datasets) (2.9.0.post0)\nRequirement already satisfied: pytz>=2020.1 in /opt/conda/lib/python3.10/site-packages (from pandas->datasets) (2023.3.post1)\nRequirement already satisfied: tzdata>=2022.7 in /opt/conda/lib/python3.10/site-packages (from pandas->datasets) (2023.4)\nRequirement already satisfied: six>=1.5 in /opt/conda/lib/python3.10/site-packages (from python-dateutil>=2.8.2->pandas->datasets) (1.16.0)\n",
          "output_type": "stream"
        }
      ]
    },
    {
      "cell_type": "markdown",
      "source": [
        "If you're opening this notebook locally, make sure your environment has an install from the last version of those libraries.\n",
        "\n",
        "To be able to share your model with the community and generate results like the one shown in the picture below via the inference API, there are a few more steps to follow.\n",
        "\n",
        "First you have to store your authentication token from the Hugging Face website (sign up [here](https://huggingface.co/join) if you haven't already!) then execute the following cell and input your username and password:"
      ],
      "metadata": {
        "id": "jQOXdW11w2Dw"
      }
    },
    {
      "cell_type": "code",
      "source": [
        "from huggingface_hub import notebook_login\n",
        "\n",
        "notebook_login()"
      ],
      "metadata": {
        "id": "ibkuaKivw2Dw",
        "execution": {
          "iopub.status.busy": "2024-06-15T14:38:27.136985Z",
          "iopub.execute_input": "2024-06-15T14:38:27.137300Z",
          "iopub.status.idle": "2024-06-15T14:38:27.447759Z",
          "shell.execute_reply.started": "2024-06-15T14:38:27.137270Z",
          "shell.execute_reply": "2024-06-15T14:38:27.446657Z"
        },
        "trusted": true,
        "colab": {
          "referenced_widgets": [
            "d3f723cd92484cfca365184fb2f2a01a"
          ]
        },
        "outputId": "a148fa1e-3053-472a-ce7c-621b22771d60"
      },
      "execution_count": null,
      "outputs": [
        {
          "output_type": "display_data",
          "data": {
            "text/plain": "VBox(children=(HTML(value='<center> <img\\nsrc=https://huggingface.co/front/assets/huggingface_logo-noborder.sv…",
            "application/vnd.jupyter.widget-view+json": {
              "version_major": 2,
              "version_minor": 0,
              "model_id": "d3f723cd92484cfca365184fb2f2a01a"
            }
          },
          "metadata": {}
        }
      ]
    },
    {
      "cell_type": "markdown",
      "source": [
        "Then you need to install Git-LFS. Uncomment the following instructions:"
      ],
      "metadata": {
        "id": "U_F5xs7Pw2Dw"
      }
    },
    {
      "cell_type": "code",
      "source": [
        "# !apt install git-lfs"
      ],
      "metadata": {
        "id": "nz4DbvRJw2Dx",
        "execution": {
          "iopub.status.busy": "2024-06-10T08:20:17.535804Z",
          "iopub.execute_input": "2024-06-10T08:20:17.536644Z",
          "iopub.status.idle": "2024-06-10T08:20:17.540435Z",
          "shell.execute_reply.started": "2024-06-10T08:20:17.536611Z",
          "shell.execute_reply": "2024-06-10T08:20:17.539450Z"
        },
        "trusted": true
      },
      "execution_count": null,
      "outputs": []
    },
    {
      "cell_type": "markdown",
      "source": [
        "Make sure your version of Transformers is at least 4.11.0 since the functionality was introduced in that version:"
      ],
      "metadata": {
        "id": "6FjQUFZmw2Dx"
      }
    },
    {
      "cell_type": "code",
      "source": [
        "import transformers\n",
        "\n",
        "print(transformers.__version__)"
      ],
      "metadata": {
        "id": "aODkpq0tw2Dx",
        "execution": {
          "iopub.status.busy": "2024-06-15T14:38:41.520382Z",
          "iopub.execute_input": "2024-06-15T14:38:41.520802Z",
          "iopub.status.idle": "2024-06-15T14:38:45.067471Z",
          "shell.execute_reply.started": "2024-06-15T14:38:41.520770Z",
          "shell.execute_reply": "2024-06-15T14:38:45.066365Z"
        },
        "trusted": true,
        "outputId": "9a277db7-0aa9-4867-aecf-7899daa24452"
      },
      "execution_count": null,
      "outputs": [
        {
          "name": "stdout",
          "text": "4.41.2\n",
          "output_type": "stream"
        }
      ]
    },
    {
      "cell_type": "markdown",
      "source": [
        "You can find a script version of this notebook to fine-tune your model in a distributed fashion using multiple GPUs or TPUs [here](https://github.com/huggingface/transformers/tree/master/examples/question-answering)."
      ],
      "metadata": {
        "id": "HFASsisvIrIb"
      }
    },
    {
      "cell_type": "markdown",
      "source": [
        "We also quickly upload some telemetry - this tells us which examples and software versions are getting used so we know where to prioritize our maintenance efforts. We don't collect (or care about) any personally identifiable information, but if you'd prefer not to be counted, feel free to skip this step or delete this cell entirely."
      ],
      "metadata": {
        "id": "oRZRpmstw2Dy"
      }
    },
    {
      "cell_type": "code",
      "source": [
        "from transformers.utils import send_example_telemetry\n",
        "\n",
        "send_example_telemetry(\"question_answering_notebook\", framework=\"pytorch\")"
      ],
      "metadata": {
        "id": "tGmq-cTbw2Dy",
        "execution": {
          "iopub.status.busy": "2024-06-15T14:38:45.068955Z",
          "iopub.execute_input": "2024-06-15T14:38:45.069381Z",
          "iopub.status.idle": "2024-06-15T14:38:45.076529Z",
          "shell.execute_reply.started": "2024-06-15T14:38:45.069353Z",
          "shell.execute_reply": "2024-06-15T14:38:45.075071Z"
        },
        "trusted": true
      },
      "execution_count": null,
      "outputs": []
    },
    {
      "cell_type": "markdown",
      "source": [
        "# Fine-tuning a model on a question-answering task"
      ],
      "metadata": {
        "id": "rEJBSTyZIrIb"
      }
    },
    {
      "cell_type": "markdown",
      "source": [
        "In this notebook, we will see how to fine-tune one of the [🤗 Transformers](https://github.com/huggingface/transformers) model to a question answering task, which is the task of extracting the answer to a question from a given context. We will see how to easily load a dataset for these kinds of tasks and use the `Trainer` API to fine-tune a model on it.\n",
        "\n",
        "![Widget inference representing the QA task](https://github.com/huggingface/notebooks/blob/master/examples/images/question_answering.png?raw=1)\n",
        "\n",
        "**Note:** This notebook finetunes models that answer question by taking a substring of a context, not by generating new text."
      ],
      "metadata": {
        "id": "McEmFvdvw2Dy"
      }
    },
    {
      "cell_type": "markdown",
      "source": [
        "This notebook is built to run on any question answering task with the same format as SQUAD (version 1 or 2), with any model checkpoint from the [Model Hub](https://huggingface.co/models) as long as that model has a version with a token classification head and a fast tokenizer (check on [this table](https://huggingface.co/transformers/index.html#bigtable) if this is the case). It might just need some small adjustments if you decide to use a different dataset than the one used here. Depending on you model and the GPU you are using, you might need to adjust the batch size to avoid out-of-memory errors. Set those three parameters, then the rest of the notebook should run smoothly:"
      ],
      "metadata": {
        "id": "4RRkXuteIrIh"
      }
    },
    {
      "cell_type": "code",
      "source": [
        "# This flag is the difference between SQUAD v1 or 2 (if you're using another dataset, it indicates if impossible\n",
        "# answers are allowed or not).\n",
        "squad_v2 = False\n",
        "model_checkpoint = \"sagorsarker/bangla-bert-base\"\n",
        "batch_size = 16"
      ],
      "metadata": {
        "id": "zVvslsfMIrIh",
        "execution": {
          "iopub.status.busy": "2024-06-15T14:38:45.078155Z",
          "iopub.execute_input": "2024-06-15T14:38:45.078426Z",
          "iopub.status.idle": "2024-06-15T14:38:45.086533Z",
          "shell.execute_reply.started": "2024-06-15T14:38:45.078403Z",
          "shell.execute_reply": "2024-06-15T14:38:45.085641Z"
        },
        "trusted": true
      },
      "execution_count": null,
      "outputs": []
    },
    {
      "cell_type": "markdown",
      "source": [
        "## Loading the dataset"
      ],
      "metadata": {
        "id": "whPRbBNbIrIl"
      }
    },
    {
      "cell_type": "markdown",
      "source": [
        "We will use the [🤗 Datasets](https://github.com/huggingface/datasets) library to download the data and get the metric we need to use for evaluation (to compare our model to the benchmark). This can be easily done with the functions `load_dataset` and `load_metric`.  "
      ],
      "metadata": {
        "id": "W7QYTpxXIrIl"
      }
    },
    {
      "cell_type": "markdown",
      "source": [
        "For our example here, we'll use the [SQUAD dataset](https://rajpurkar.github.io/SQuAD-explorer/). The notebook should work with any question answering dataset provided by the 🤗 Datasets library. If you're using your own dataset defined from a JSON or csv file (see the [Datasets documentation](https://huggingface.co/docs/datasets/loading_datasets.html#from-local-files) on how to load them), it might need some adjustments in the names of the columns used."
      ],
      "metadata": {
        "id": "CKx2zKs5IrIq"
      }
    },
    {
      "cell_type": "markdown",
      "source": [
        "**RANDOMIZE**"
      ],
      "metadata": {
        "id": "CE_bV_fwFlXS"
      }
    },
    {
      "cell_type": "code",
      "source": [
        "from datasets import load_dataset, DatasetDict\n",
        "# Load the dataset\n",
        "dataset = load_dataset('shakun42/BanglaRQA_to_SquadBn_fact_confirm')"
      ],
      "metadata": {
        "id": "s_AY1ATSIrIq",
        "execution": {
          "iopub.status.busy": "2024-06-15T15:33:21.185117Z",
          "iopub.execute_input": "2024-06-15T15:33:21.185507Z",
          "iopub.status.idle": "2024-06-15T15:33:22.143035Z",
          "shell.execute_reply.started": "2024-06-15T15:33:21.185478Z",
          "shell.execute_reply": "2024-06-15T15:33:22.141507Z"
        },
        "trusted": true
      },
      "execution_count": null,
      "outputs": []
    },
    {
      "cell_type": "code",
      "source": [
        "datasets=dataset"
      ],
      "metadata": {
        "id": "GWiVUF0jIrIv",
        "execution": {
          "iopub.status.busy": "2024-06-15T15:35:16.766560Z",
          "iopub.execute_input": "2024-06-15T15:35:16.766989Z",
          "iopub.status.idle": "2024-06-15T15:35:16.773175Z",
          "shell.execute_reply.started": "2024-06-15T15:35:16.766960Z",
          "shell.execute_reply": "2024-06-15T15:35:16.771781Z"
        },
        "trusted": true
      },
      "execution_count": null,
      "outputs": []
    },
    {
      "cell_type": "markdown",
      "source": [
        "We can see the training, validation and test sets all have a column for the context, the question and the answers to those questions."
      ],
      "metadata": {
        "id": "MYCQycO0w2D0"
      }
    },
    {
      "cell_type": "markdown",
      "source": [
        "To access an actual element, you need to select a split first, then give an index:"
      ],
      "metadata": {
        "id": "u3EtYfeHIrIz"
      }
    },
    {
      "cell_type": "code",
      "source": [
        "# # Assuming datasets is a DatasetDict and we are working with the \"train\" split\n",
        "# entries_with_minus_one = datasets[\"train\"].filter(lambda x: any(start == -1 for start in x['answers']['answer_start']))\n",
        "\n",
        "# # Display all entries that have -1 in 'answer_start'\n",
        "# for entry in entries_with_minus_one:\n",
        "#     print(entry)"
      ],
      "metadata": {
        "execution": {
          "iopub.status.busy": "2024-06-15T14:40:36.451539Z",
          "iopub.execute_input": "2024-06-15T14:40:36.452509Z",
          "iopub.status.idle": "2024-06-15T14:40:36.460321Z",
          "shell.execute_reply.started": "2024-06-15T14:40:36.452475Z",
          "shell.execute_reply": "2024-06-15T14:40:36.459357Z"
        },
        "trusted": true,
        "id": "OO7TnnjOFlXe"
      },
      "execution_count": null,
      "outputs": []
    },
    {
      "cell_type": "code",
      "source": [
        "filtered_dataset = datasets[\"validation\"].filter(lambda x: all(start != -1 for start in x['answers']['answer_start']))"
      ],
      "metadata": {
        "execution": {
          "iopub.status.busy": "2024-06-15T15:35:21.461915Z",
          "iopub.execute_input": "2024-06-15T15:35:21.462363Z",
          "iopub.status.idle": "2024-06-15T15:35:21.551179Z",
          "shell.execute_reply.started": "2024-06-15T15:35:21.462327Z",
          "shell.execute_reply": "2024-06-15T15:35:21.549903Z"
        },
        "trusted": true,
        "colab": {
          "referenced_widgets": [
            "2299985db2b24160b9d8365e47319993"
          ]
        },
        "id": "n7X7QvxyFlXf",
        "outputId": "fa06f7cc-ef16-43c2-ff42-750a2541eb80"
      },
      "execution_count": null,
      "outputs": [
        {
          "output_type": "display_data",
          "data": {
            "text/plain": "Filter:   0%|          | 0/1182 [00:00<?, ? examples/s]",
            "application/vnd.jupyter.widget-view+json": {
              "version_major": 2,
              "version_minor": 0,
              "model_id": "2299985db2b24160b9d8365e47319993"
            }
          },
          "metadata": {}
        }
      ]
    },
    {
      "cell_type": "code",
      "source": [
        "len(filtered_dataset)"
      ],
      "metadata": {
        "id": "X6HrpprwIrIz",
        "outputId": "d7670bc0-42e4-4c09-8a6a-5c018ded7d95",
        "execution": {
          "iopub.status.busy": "2024-06-15T15:35:24.980645Z",
          "iopub.execute_input": "2024-06-15T15:35:24.981674Z",
          "iopub.status.idle": "2024-06-15T15:35:24.989151Z",
          "shell.execute_reply.started": "2024-06-15T15:35:24.981638Z",
          "shell.execute_reply": "2024-06-15T15:35:24.987938Z"
        },
        "trusted": true
      },
      "execution_count": null,
      "outputs": [
        {
          "execution_count": 82,
          "output_type": "execute_result",
          "data": {
            "text/plain": "1182"
          },
          "metadata": {}
        }
      ]
    },
    {
      "cell_type": "markdown",
      "source": [
        "We can see the answers are indicated by their start position in the text (here at character 515) and their full text, which is a substring of the context as we mentioned above."
      ],
      "metadata": {
        "id": "A78GGG71w2D0"
      }
    },
    {
      "cell_type": "markdown",
      "source": [
        "To get a sense of what the data looks like, the following function will show some examples picked randomly in the dataset (automatically decoding the labels in passing)."
      ],
      "metadata": {
        "id": "WHUmphG3IrI3"
      }
    },
    {
      "cell_type": "code",
      "source": [
        "from datasets import ClassLabel, Sequence\n",
        "import random\n",
        "import pandas as pd\n",
        "from IPython.display import display, HTML\n",
        "\n",
        "def show_random_elements(dataset, num_examples=10):\n",
        "    assert num_examples <= len(dataset), \"Can't pick more elements than there are in the dataset.\"\n",
        "    picks = []\n",
        "    for _ in range(num_examples):\n",
        "        pick = random.randint(0, len(dataset)-1)\n",
        "        while pick in picks:\n",
        "            pick = random.randint(0, len(dataset)-1)\n",
        "        picks.append(pick)\n",
        "\n",
        "    df = pd.DataFrame(dataset[picks])\n",
        "    for column, typ in dataset.features.items():\n",
        "        if isinstance(typ, ClassLabel):\n",
        "            df[column] = df[column].transform(lambda i: typ.names[i])\n",
        "        elif isinstance(typ, Sequence) and isinstance(typ.feature, ClassLabel):\n",
        "            df[column] = df[column].transform(lambda x: [typ.feature.names[i] for i in x])\n",
        "    display(HTML(df.to_html()))"
      ],
      "metadata": {
        "id": "i3j8APAoIrI3",
        "execution": {
          "iopub.status.busy": "2024-06-15T15:35:34.294956Z",
          "iopub.execute_input": "2024-06-15T15:35:34.295317Z",
          "iopub.status.idle": "2024-06-15T15:35:34.307054Z",
          "shell.execute_reply.started": "2024-06-15T15:35:34.295291Z",
          "shell.execute_reply": "2024-06-15T15:35:34.305625Z"
        },
        "trusted": true
      },
      "execution_count": null,
      "outputs": []
    },
    {
      "cell_type": "code",
      "source": [
        "show_random_elements(datasets[\"train\"])"
      ],
      "metadata": {
        "id": "SZy5tRB_IrI7",
        "outputId": "ba8f2124-e485-488f-8c0c-254f34f24f13",
        "scrolled": true,
        "execution": {
          "iopub.status.busy": "2024-06-15T15:35:35.317448Z",
          "iopub.execute_input": "2024-06-15T15:35:35.318212Z",
          "iopub.status.idle": "2024-06-15T15:35:35.341345Z",
          "shell.execute_reply.started": "2024-06-15T15:35:35.318174Z",
          "shell.execute_reply": "2024-06-15T15:35:35.340019Z"
        },
        "trusted": true
      },
      "execution_count": null,
      "outputs": [
        {
          "output_type": "display_data",
          "data": {
            "text/plain": "<IPython.core.display.HTML object>",
            "text/html": "<table border=\"1\" class=\"dataframe\">\n  <thead>\n    <tr style=\"text-align: right;\">\n      <th></th>\n      <th>id</th>\n      <th>title</th>\n      <th>context</th>\n      <th>question</th>\n      <th>answers</th>\n    </tr>\n  </thead>\n  <tbody>\n    <tr>\n      <th>0</th>\n      <td>bn_wiki_1270_03</td>\n      <td>বিসলেরি</td>\n      <td>বিসলেরি ইন্টারন্যাশনাল হল বোতলজাত পানির একটি ভারতীয় মার্কিা, যা ১৯৬৯ সালে জয়ন্তীলাল চৌহান এবং ফেলিস বিসলেরি দ্বারা গঠিত হয়েছিল। বিসলেরি ভারতে তার প্রধান ব্যবসা পরিচালনা করে, ১৩৫টি অপারেশনাল প্ল্যান্ট এবং ৩,০০০ পরিবেশক এবং ৫,০০০ পরিবেশক ট্রাকের একটি নেটওয়ার্ক।  কোম্পানিটি ভারত এবং প্রতিবেশী দেশ জুড়ে ব্যবসা পরিচালনা করে। কোম্পানিটি বোতলজাত পানি বিক্রি করে। বিসলেরি মূলত ফেলিস বিসলেরি দ্বারা তৈরি একটি ইতালীয় সংস্থা, যিনি প্রথম ভারতে বোতলজাত পানি বিক্রির ধারণা নিয়ে এসেছিলেন। বিসলেরি তখন ১৯৬৫ সালে আসামের শিলচরে কাচের বোতলে দুই প্রকারের পানি দিয়ে চালু করা হয়েছিল - একটি বুদবুদসহ ও অন্যটি বুদবুদ ছাড়া। বিসলেরি তার নিজস্ব ই-কমার্স প্ল্যাটফর্মও চালু করেছে।  বিসলেরির পণ্যগুলি অন্যান্য অনলাইন পোর্টাল যেমন বিগ বাস্কেট, জিফোর্স ইত্যাদিতেও পাওয়া যায়।</td>\n      <td>বিসলেরি ইন্টারন্যাশনাল কোন দেশের প্রতিষ্ঠান?</td>\n      <td>{'answer_start': [276, 45], 'text': ['ভারত ', 'ভারত']}</td>\n    </tr>\n    <tr>\n      <th>1</th>\n      <td>bn_wiki_0127_03</td>\n      <td>শনি গ্রহ</td>\n      <td>শনি হল সূর্য থেকে দূরত্বের নিরিখে ষষ্ঠ গ্রহ এবং বৃহস্পতির পরই সৌরজগতের দ্বিতীয়-বৃহত্তম গ্রহ। এটি একটি গ্যাসীয় দৈত্য, যার ব্যাসার্ধ পৃথিবীর ব্যাসার্ধের প্রায় নয় গুণ। শনি গ্রহের গড় ঘনত্ব অবশ্য পৃথিবীর গড় ঘনত্বের এক-অষ্টমাংশ। কিন্তু এই গ্রহের বৃহত্তর আয়তনের জন্য এটি পৃথিবীর তুলনায় ৯৫ গুণ বেশি ভারী। শনি গ্রহের বাংলা নামটি এসেছে হিন্দু গ্রহদেবতা শনির নাম থেকে। অন্যদিকে ইংরেজি নাম স্যাটার্ন এসেছে রোমান ধনসম্পদ ও কৃষিদেবতা স্যাটার্নের নাম থেকে এবং শনির জ্যোতির্বৈজ্ঞানিক চিহ্নটি (♄) উক্ত রোমান দেবতার কাস্তের প্রতীক।\\r\\n\\r\\nশনির অভ্যন্তরীণ অংশটি সম্ভবত লোহা-নিকেলের একটি কেন্দ্রস্থল ও পাথর (সিলিকন ও অক্সিজেন যৌগ) দ্বারা গঠিত। এই কেন্দ্রস্থলটিকে ঘিরে রয়েছে ধাতব হাইড্রোজেনের একটি গভীর স্তর, তরল হাইড্রোজেন ও তরল হিলিয়ামের একটি মধ্যবর্তী স্তর এবং সর্বোপরি একটি গ্যাসীয় বহিঃস্তর। বায়ুমণ্ডলের উপরিতলে অ্যামোনিয়া কেলাসের উপস্থিতির জন্য শনি গ্রহের রং একটি ফিকে হলুদ। ধাতব হাইড্রোজেনের মধ্যে প্রবহমান তড়িৎ প্রবাহটিকে শনির গ্রহগত চৌম্বক ক্ষেত্রের উৎস মনে করা হয়। এই চৌম্বক ক্ষেত্রটি পৃথিবীর চৌম্বক ক্ষেত্রের তুলনায় দুর্বল হলেও শনির বৃহত্তর আকারের জন্য এটির চৌম্বক মুহুর্ত পৃথিবীর তুলনায় ৫৮০ গুণ বেশি। শনির চৌম্বক ক্ষেত্রের শক্তি বৃহস্পতির কুড়িভাগের প্রায় একভাগ। গ্রহের বহিঃস্থ বায়ুমণ্ডল সাধারণভাবে বৈশিষ্ট্যহীন ও বৈচিত্র্যহীন। যদিও কিছু দীর্ঘস্থায়ী বৈশিষ্ট্যেরও উদ্ভব ঘটে থাকে। শনি গ্রহে বায়ুপ্রবাহের গতি ১,৮০০ কিমি/ঘ (১,১০০ মা/ঘ; ৫০০ মি/সে) পর্যন্ত পৌঁছাতে পারে, যা বৃহস্পতির বায়ুপ্রবাহের গতির থেকে বেশি হলেও নেপচুনের বায়ুপ্রভাবের গতির মতো অধিক মাত্রার নয়।</td>\n      <td>শনির ব্যাসার্ধ পৃথিবীর ব্যাসার্ধের কত গুণ?</td>\n      <td>{'answer_start': [153, 153], 'text': ['প্রায় নয়', 'প্রায় নয়']}</td>\n    </tr>\n    <tr>\n      <th>2</th>\n      <td>bn_wiki_2513_01</td>\n      <td>আদিনারীবাদ</td>\n      <td>রেনেসাঁর শুরুতে, নারীর একমাত্র ভূমিকা এবং সামাজিক তাৎপর্য ছিল কেবল প্রজনন করাতেই সীমাবদ্ধ। এই লৈঙ্গিক ভূমিকা একজন নারীর প্রধান পরিচয় এবং জীবনের উদ্দেশ্যকে সংজ্ঞায়িত করত। রেনেসাঁ মানবতাবাদীদের কাছে জ্ঞানপ্রেমী হিসেবে একজন আদর্শ ও সুপরিচিত ব্যক্তি সক্রেটিস বলেছিলেন, তিনি তার প্রথম স্ত্রী জ্যান্থিপ্পেকে সহ্য করেছিলেন, কারণ তিনি তাকে পুত্র দান করেছিলেন, ঠিক যেভাবে একটি হংসীর কোলাহল সহ্য করতে হয় কারণ তা ডিম ও বাচ্চা দেয়। এই উপমাটি এই দাবিকে সমর্থন করে যে, সেইসময় একজন নারীর একমাত্র ভূমিকা ছিল প্রজনন।\\n\\nরেনেসাঁর সময় বিবাহ একজন নারীকে সংজ্ঞায়িত করত: নারী কাকে বিবাহ করছে তার উপর ভিত্তি করে তার পরিচয় তৈরি হত। একজন অবিবাহিত নারী হচ্ছে তার পিতার কাছে সম্পত্তি, আর বিবাহের পর নারী তার স্বামীর সম্পত্তি হয়ে যায়। তার স্বামীর বা পিতা কর্তৃক প্রদত্ত সুবিধাগুলো ছাড়া তার খুব সামান্য অধিকারই ছিল। বিবাহিত নারীদেরকে তাদের স্বামীদের প্রতি বাধ্য থাকতে হত, এবং তারা সতী, আজ্ঞাবহ, আনন্দপূর্ণ, নম্র, বিনয়ী এবং যদি মিষ্টভাষী না হয় তবে নীরব থাকবে এটাই আশা করা হত। উইলিয়াম শেক্সপীয়ারের ১৫৯৩ সালের নাটক দ্য টেমিং অফ দ্য শ্রু -তে ক্যাথেরিনাকে তার বুদ্ধিমত্তা ও স্পষ্টভাষিতার কারণে তার নম্র স্বভাবের বোন বিয়াংকা এর তুলনায় অবিবাহযোগ্যা হিসেবে দেখানো হয়। পেট্রুশিও তাকে 'বশে আনবার' পর দেখা যায় পেট্রুশিও যেখানে যায় তার স্ত্রী ক্যাথেরিনও অনেকটা কুকুরের মত তাকে অনুসরণ করে। ক্যাথেরিনের এই বশ্যতা প্রসংশিত হয় এবং পার্টিতে আসা জনতা তাকে 'যথাযথ নারী' হিসেবে স্বীকার করে নেয়, কেননা তখন ক্যাথেরিনা গার্হস্থ্য বিষয়গুলোর সাথে নিজেকে মানিয়ে নিয়েছে।\\n\\nএরকম পরিস্থিতিতে, এতে অবাক হওয়ার কিছু নেই যে বেশিরভাগ নারীই খুব কমই শিক্ষিত ছিল। ১৪২৪ সালে মন্টেফেল্ট্রো এর লেডি ব্যাপতিস্তা মালেতেস্তাকে পাঠানো একটি চিঠিতে, মানবতাবাদী লিওনার্দো ব্রুনি লিখেছিলেন: \"আপনি এমন এক সময়ে বাস করেন, যেখানে শিক্ষার এতদূর ক্ষয়ক্ষতি হয়েছে যে, এখানে শিক্ষিত নারী দূরের কথা, কোন শিক্ষিত পুরুষের সাথে সাক্ষাত হওয়াই কাকতালীয় ব্যাপার\"। ব্রুনী নিজে ভাবতেন যে, নারীদের শিক্ষার কোন প্রয়োজন নেই, কেননা শিক্ষার প্রয়োজন আছে এমন কোন সামাজিক আলোচনায় নারীরা নিয়োজিত নন। একই চিঠিতে তিনি লেখেন,\\n\\nকেন হাজারটা ... সূক্ষ্ম..., প্রহেলিকাময় বিষয়ের বাগ্মিতাসংক্রান্ত আলোচনাসভায় নারীদের ক্ষমতা কাজ করবে, যেখানে নারীরা কোনদিন আলোচনাসভা দেখেই নি? আলোচনাসভার বিবাদসমূহ, যেমন রণনীতি ও যুদ্ধের বিষয়গুলো পুরুষের জায়গা। কথা বলতে শেখা, কোন সাক্ষীর পক্ষে বা বিপক্ষে কথা বলা, কোন শাস্তির পক্ষে বা বিপখে কথা বলা, বা কারও খ্যাতির পক্ষে বা বিপক্ষে কথা বলা নারীর কাজ নয় ... এক কথায় তাকে এই কঠোর ও রুক্ষ আলোচনাসভাকে পুরোপুরিভাবে পুরুষের হাতে ছেড়ে দিতে হবে।\\n\\nরেনেসাঁর সময়ের বিখ্যাত বৈঠকখানাগুলোতে সেইসময় বৌদ্ধিক বিতর্ক সংঘটিত হত, কিন্তু সেইসব স্থানে নারীদেরকে স্বাগত জানানো হয়নি। গণ আলোচনাসভাগুলোতে নারীদেরকে প্রবেশাধিকার না থাকা শিক্ষিত নারীদের জন্য সমস্যার সৃষ্টি করে, এবং তা সেইসময়ে নারীদের শিক্ষাগ্রহণের সম্ভাব্যতাকেও কমিয়ে দেয়।</td>\n      <td>রেনেসার শুরুতে নারীর সামাজিক তাৎপর্য কী ছিল?</td>\n      <td>{'answer_start': [62, 62], 'text': ['কেবল প্রজনন করা', 'কেবল প্রজনন করা']}</td>\n    </tr>\n    <tr>\n      <th>3</th>\n      <td>bn_wiki_0166_02</td>\n      <td>বীজগণিত ইতিহাস</td>\n      <td>বীজগণিতের উৎপত্তি প্রাচীন ব্যাবিলনীয়দের কাছে শনাক্ত করা যায়, যারা একটি উন্নত পাটিগণিত ব্যবস্থা তৈরি করেছিল, যার সাহায্যে তারা একটি অ্যালগরিদমিক প্রক্রিয়ায় গণনা করতে সক্ষম হয়েছিল। ব্যাবিলনীয়রা রৈখিক সমীকরণ, দ্বিঘাত সমীকরণ এবং অনির্দিষ্ট রৈখিক সমীকরণ ব্যবহার করে বর্তমানে সমাধান করা সমস্যাগুলির সমাধান করার জন্য সূত্র তৈরি করেছিল। বিপরীতে, এই যুগের বেশিরভাগ মিশরীয়রা, পাশাপাশি গ্রীক ও চীনা গণিতও খ্রিস্টপূর্ব ১ম সহস্রাব্দে, সাধারণত জ্যামিতিক পদ্ধতি দ্বারা সমীকরণগুলি সমাধান করেছিল। যেমন রিহিন্দ ম্যাথমেটিক্যাল পাপিরাস, ইউক্লিডের উপাদানসমূহ এবং দ্য ম্যাথমেটিকাল আর্টস এর নবম অধ্যায়ে যার উল্লেখ পাওয়া যায় । গ্রীকদের জ্যামিতিক কাজ সূত্রকে সাধারণীকরণের জন্য নির্দিষ্ট সূত্রকে আরও সাধারণ পদ্ধতিতে উল্লেখকরণ ও সমীকরণের সমাধানের বাইরে সূত্রকে সাধারণীকরণের কাঠামো সরবরাহ করেছিল, যদিও মধ্যযুগীয় ইসলামে গণিতের বিকাশ না হওয়া পর্যন্ত এটি উপলব্ধি করা সম্ভব হয়নি।\\n\\nপ্লেটোর সময়কালে গ্রিক গণিতের ক্ষেত্রে এক বিরাট পরিবর্তন ঘটে গেছে । গ্রীকরা একটি জ্যামিতিক বীজগণিত তৈরি করেছিল যেখানে পদগুলি জ্যামিতিক বস্তুর পক্ষ দ্বারা প্রতিনিধিত্ব করা হতো, সাধারণত রেখা যেগুলির সাথে অক্ষর যুক্ত ছিল। দাওফান্তাস (খ্রিস্টীয় তৃতীয় শতাব্দী) ছিলেন আলেকজান্দ্রীয় গ্রিক গণিতবিদ এবং অ্যারিথমেটিকা নামে একাধিক বইয়ের লেখক। এই গ্রন্থগুলি বীজগাণিতিক সমীকরণগুলি সমাধান করার বিষয়ে আলোচনা করে, এবং সংখ্যা তত্ত্বকে ডায়োফান্তাইন সমীকরণের আধুনিক ধারণার দিকে নিয়ে গেছে।</td>\n      <td>বীজগণিতের উৎপত্তি কাদের কাছে শনাক্ত করা যায়?</td>\n      <td>{'answer_start': [18, 18], 'text': ['প্রাচীন ব্যাবিলনীয়দের', 'প্রাচীন ব্যাবিলনীয়দের কাছে']}</td>\n    </tr>\n    <tr>\n      <th>4</th>\n      <td>bn_wiki_0826_05</td>\n      <td>ইন্টারনেটের ইতিহাস</td>\n      <td>ইন্টারনেটের ইতিহাস শুরু হয়, ইলেকট্রনিক কম্পিউটারের অগ্রগতির সাথে সাথে ১৯৫০ সালে। ইন্টারনেট সম্পর্কে জনসাধারণ প্রথম ধারণা প্রবর্তিত হয়েছিল, যখন কম্পিউটার বিজ্ঞান অধ্যাপক লিওনার্ড ক্রাইনরক তার গবেষণাগার ইউনিভার্সিটি অফ ক্যালিফোর্নিয়া, লস অ্যাঞ্জেলেস (ইউসিএলএ) থেকে অর্পানেটের মাধ্যমে একটি বার্তা স্ট্যানফোর্ড রিসার্চ ইনস্টিটিউট (এসআরআই) তে পাঠান। নেটওয়ার্ক সরঞ্জামের দ্বিতীয় অংশ সেখানে স্থাপিত করা হয়েছিল। ১৯৬০ সালের শেষ দিকে এবং ১৯৭০ সালের প্রথম দিকে প্যাকেট সুইচিং নেটওয়ার্ক যেমন ইউকের এনপিএল, সিক্লিডিস, মেরিট নেটওয়ার্ক, টিমনেট এবং টেলেনেট এর অর্পানেটে, মার্ক I বিভিন্ন প্রোটোকল ব্যবহার করে উন্নত করা হয়। অর্পানেট বিশেষ নেতৃত্ব দেয় ইন্টারনেটওয়ার্কিং এর প্রোটোকলের উন্নয়নের জন্য, যেখানে নেটওয়ার্কসমূহের একাধিক পৃথক নেটওয়ার্ক একটি নেটওয়ার্কের সাথে যোগ করা যেতে পারে। অর্পানেটের অ্যাক্সেসের জন্য ১৯৮১ সালে একে সম্প্রসারিত করা হয়, যখন ন্যাশনাল সাইন্স ফাউন্ডেশন (এনএসএফ) কম্পিউটার সাইন্স নেটওয়ার্কের (সিএসএনএটি) উন্নয়ন করে এবং আবার ১৯৮৬ সালে যখন এনএসএফনেট মার্কিন যুক্তরাষ্ট্রে গবেষণা এবং শিক্ষা প্রতিষ্ঠান থেকে সুপার কম্পিউটার সাইটগুলোতে সংযুক্ত হওয়ার সুযোগ দেয়। ১৯৮০ সালের শেষের দিকে এবং ১৯৯০ সালের শুরুর দিকে বাণিজ্যিক ইন্টারনেট সেবা প্রদানকারীরা (আইএসপির) আবির্ভাব হতে থাকে। ১৯৯০ সালে অর্পানেট কর্মবিরত করা হয়। ১৯৯৫ সালে ইন্টারনেটকে বাণিজ্যিক পণ্যে পরিণত হয়, যখন এনএসএফনেট কর্মবিরত হয়, ইন্টারনেট ব্যবহারের বাণিজ্যিক বহন শেষ নিষেধাজ্ঞা সরিয়ে ফেলা হয়।\\n১৯৯০ সালের মাঝামাঝি থেকে, ইন্টারনেট সংস্কৃতিতে ও বাণিজ্যে এবং কাছাঁকাছি-তাৎক্ষণিক যোগাযোগ যেমন, ইলেকট্রনিক মেইল, ইনস্ট্যান্ট মেসেজিং, ভয়েস ওভার ইন্টারনেট প্রোটোকল (ভিওআইপি) \"ফোন কল\", দ্বি-মুখ ইন্টারেক্টিভ ভিডিও কল এবং ওয়ার্ল্ড ওয়াইড ওয়েবসহ ইন্টারনেট ফোরাম, ব্লগ, সামাজিক নেটওয়ার্কিং পরিষেবা এবং অনলাইনে কেনাকাটার ওয়েব সাইটসমূহে একটি বিপ্লবী প্রভাব বিস্তার করে।\\nগবেষণার এবং শিক্ষা সম্প্রদায় অব্যাহত বিকাশ এবং উন্নত নেটওয়ার্ক যেমন, এনএসএফস'র অতি উচ্চ-দ্রুতগতির ব্যাকবোন নেটওয়ার্ক পরিষেবা(ভিবিএনএস), ইন্টারনেট২ এবং জাতীয় ল্যামডারেল ব্যবহার করে। বড় ধরনের তথ্য আদান-প্রদান হয়ে থাকে উচ্চতর গতিসম্পন্ন ফাইবার অপটিক নেটওয়ার্কের মধ্যে যা ১-জিবিট/এস, ১০-জিবিট/এস, বা আরও বেশি হয়।\\nআজ ইন্টারনেট অনলাইন তথ্য, ব্যবসা, বিনোদন এবং সামাজিক নেটওয়ার্কিং এর জন্য ক্রমাগত বৃদ্ধি পেয়ে চলেছে।</td>\n      <td>বিটনেট  কী ?</td>\n      <td>{'answer_start': [], 'text': []}</td>\n    </tr>\n    <tr>\n      <th>5</th>\n      <td>bn_wiki_1716_02</td>\n      <td>কাউবয় বেবপ</td>\n      <td>ওয়াতানাবে সিরিজটির মূল উপস্থাপনার সময় এটিকে প্রচার করার জন্য একটি বিশেষ ট্যাগলাইন তৈরি করেছে, এটিকে \"নিজের কাছে একটি নতুন ধারা\" বলে অভিহিত করেছে। এর জাপানি এবং মার্কিন সম্প্রচারের সময় বাণিজ্যিক বিরতির আগে এবং পরে লাইনটি ঢোকানো হয়েছিল। পরে, ওয়াতানাবে শব্দগুচ্ছটিকে একটি \"অতিরিক্ত\" বলে অভিহিত করেন। শোটি ওয়েস্টার্ন এবং পাল্প ফিকশন সহ একাধিক ঘরানার একটি সংকর। এটিকে \"জেনার-বাস্টিং স্পেস ওয়েস্টার্ন\"ও বলা হয়েছে।\\n\\nঅনেক পর্বের শিরোনামে বাদ্যযন্ত্রের শৈলীর উপর জোর দেওয়া হয়েছে। নায়ক।উল্লেখিত অন্যান্য ধারণার মধ্যে রয়েছে পরিবেশবাদ এবং পুঁজিবাদ। সিরিজটি জন উ এবং ব্রুস লি, মিডনাইট রান, ২০০১: এ স্পেস ওডিসি এবং এলিয়েনের কাজ সহ একাধিক চলচ্চিত্রের নির্দিষ্ট উল্লেখ বা পেস্টিচ করে। সিরিজটিতে বিজ্ঞান কল্পকাহিনী থেকে বিস্তৃত রেফারেন্স এবং উপাদানও রয়েছে, উইলিয়াম গিবসনের সাইবারপাঙ্ক ফিকশনের সাথে দৃঢ় মিল রয়েছে। গ্যানিমিডের মতো মহাজাগতিক বস্তুর রাস্তাগুলি একটি আধুনিক বন্দর শহরের মতো, যখন মঙ্গল গ্রহে শপিং মল, থিম পার্ক, ক্যাসিনো এবং শহরগুলি রয়েছে৷ কাউবয় বেবপ এর মহাবিশ্ব ভিডিও প্লেয়ার এবং হাইপারস্পেস গেটস, ইকো-রাজনীতি এবং মেলার মাঠ, স্পেসশিপ এবং নেটিভ আমেরিকান শ্যামান দিয়ে ভরা। এই সেটিংটিকে \"এক অংশ চীনা প্রবাসী এবং দুই অংশ বন্য পশ্চিম\" হিসাবে বর্ণনা করা হয়েছে।</td>\n      <td>কোন গ্রহে শপিং মল, থিম পার্ক, ক্যাসিনো এবং শহরগুলি রয়েছে?</td>\n      <td>{'answer_start': [890, 890], 'text': ['মঙ্গল গ্রহে', 'মঙ্গল গ্রহে']}</td>\n    </tr>\n    <tr>\n      <th>6</th>\n      <td>bn_wiki_1209_03</td>\n      <td>হস্তচালিত তাঁতের শাড়ি</td>\n      <td>হস্তচালিত তাঁতের শাড়ি বাংলাদেশ ও ভারতের একটি ঐতিহ্যবাহী টেক্সটাইল শিল্পকলার অনন্য নিদর্শন। পল্লী ভারতে অর্থনৈতিক বিকাশের জন্য তাঁতের শাড়ির উৎপাদন গুরুত্বপূর্ণ। একক শাড়ির কাজ শেষ হতে দুই থেকে তিন দিনের মত সময় লাগে। বেশ কয়েকটি অঞ্চলে তাঁত শাড়ির নিজস্ব ঐতিহ্য রয়েছে।  এটি সারা দেশে ঐতিহ্য যা তারা বিভিন্ন উপায়ে বুনেন পশ্চিমবঙ্গে সবচেয়ে ঐতিহ্যবাহী পোশাক এটি। ২০১০ সালের আদমশুমারিতে ৪.৪ মিলিয়ন পরিবার হস্ত বুননে নিযুক্ত ছিল। ২০১১ সালের ডিসেম্বরে, তাঁত শিল্প ৬.৯ বিলিয়ন বর্গমিটার কাপড় বোনা হয়। অন্ধ্র প্রদেশে প্রায় ৩৫৯,২১২ তাঁতি পরিবার যারা প্রাথমিক হস্তচালিত সমবায় তাঁত সমিতিতে কাজ করে তাদের পরিবার চালান বলে জানা যায়। প্রাথমিক হ্যান্ডলুম বা হস্তচালিত তাঁত সমবায় (পিএইচডাব্লুসিএস) নির্দিষ্ট ভৌগোলিক সীমাতে তাঁতিদের অন্তর্ভুক্ত করে এবং সদস্যদের উৎপাদন কাজ সরবরাহ করে। সমবায়ীরা তাঁতিরা ভাড়া মজুরি পায় কিনা তা দেখাশোনা করে এবং বিভিন্ন কল্যাণমূলক ব্যবস্থা গ্রহণ করে। হ্যাঁ</td>\n      <td>পশ্চিমবঙ্গে সবচেয়ে ঐতিহ্যবাহী পোশাক কি তাঁতের শাড়ি ?</td>\n      <td>{'answer_start': [878, 878], 'text': ['হ্যাঁ', 'হ্যাঁ']}</td>\n    </tr>\n    <tr>\n      <th>7</th>\n      <td>bn_wiki_0228_01</td>\n      <td>আন্তর্জাতিক মহাকাশ স্টেশন</td>\n      <td>আন্তর্জাতিক মহাকাশ স্টেশন হলো পৃথিবীর নিম্ন কক্ষপথে অবস্থিত একটি বাসযোগ্য কৃত্রিম উপগ্রহ। এটি আন্তর্জাতিক মহাকাশ সহযোগিতায় পাঁচটি মহাকাশ গবেষণা সংস্থার একটি সমন্বিত প্রকল্প। এই পাঁচটি সংস্থা হচ্ছে:\\n\\n রাশিয়া - রুশ মহাকাশ সংস্থা - রসকসমস\\n মার্কিন যুক্তরাষ্ট্র - মার্কিন মহাকাশ প্রশাসন - নাসা\\n জাপান - জাপানি মহাকাশ অনুসন্ধান সংস্থা\\n ইউরোপীয় ইউনিয়ন - ইউরোপীয় মহাকাশ সংস্থা (১১টি দেশ)\\n যুক্তরাজ্য\\n ফ্রান্স\\n ডেনমার্ক\\n স্পেন\\n ইতালি\\n নেদারল্যান্ডস\\n সুইডেন\\n জার্মানি\\n  সুইজারল্যান্ড\\n বেলজিয়াম\\n নরওয়ে\\n কানাডা - কানাডিয়ান স্পেস এজেন্সি\\nঅপরদিকে ব্রাজিল সরাসরি অংশ না নিয়ে নাসার সাথে স্থাপিত অন্য একটি চুক্তির মাধ্যমে আন্তর্জাতিক মহাকাশ স্টেশনের স্থাপনায় কাজ করে যাচ্ছে। ইতালি ইউরোপীয় মহাকাশ সংস্থার সক্রিয় সদস্য হওয়া সত্ত্বেও আন্তর্জাতিক মহাকাশ স্টেশনের কাজে সরাসরি অংশ না নিয়ে অনুরুপ কিছু চুক্তির মাধ্যমে কাজ করে। তবে ইতালির চুক্তিগুলো ইউরোপীয় মহাকাশ সংস্থার সাথে।\\n\\nঅন্যান্য সাবেক মহাকাশ স্টেশনের মত এটিও খালি চোখে পৃথিবী থেকে দেখা যায়। এটি প্রতিদিন ১৫.৭ বার পৃথিবীকে প্রদক্ষিণ করে। পৃথিবীতে করা সম্ভব না বা কঠিন এমন কিছু বৈজ্ঞানিক গবেষণা এখানে করা হয়ে থাকে।</td>\n      <td>রাশিয়ার মহাকাশ সংস্থার নাম কী?</td>\n      <td>{'answer_start': [211, 211], 'text': ['রুশ মহাকাশ সংস্থা - রসকসমস', 'রুশ মহাকাশ সংস্থা - রসকসমস']}</td>\n    </tr>\n    <tr>\n      <th>8</th>\n      <td>bn_wiki_1540_05</td>\n      <td>হিন্দুধর্মে নারী</td>\n      <td>পণ্ডিতরা বলছেন যে, মনুস্মৃতিতে ২,৬৮৫ টি শ্লোকের মধ্যে অর্ধেকেরও কম, অথবা মাত্র ১,২১৪ টি খাঁটি হতে পারে। আরও, শ্লোকগুলি অভ্যন্তরীণভাবে অসঙ্গতিপূর্ণ। যেমন মনুস্মৃতি এর ৩.৫৫-৩.৬২ শ্লোক, উদাহরণস্বরূপ, মহিলাদের অবস্থানকে মহিমান্বিত করে, যখন ৯.৩ ও ৯.১৭ এর মতো শ্লোকগুলি বিপরীত করে। মহাত্মা গান্ধী, স্মৃতি সম্পর্কে তাঁর মতামত সম্পর্কে জিজ্ঞাসা করলে তিনি বলেন, \"মুদ্রিত খণ্ডে এতগুলি বৈপরীত্য রয়েছে যে, যদি আপনি একটি অংশ গ্রহণ করেন, তাহলে আপনি সেই অংশগুলি সম্পূর্ণরূপে অসঙ্গত বলে প্রত্যাখ্যান করতে বাধ্য।\"মূল পাঠ্য কারো দখলে নেই।\\n\\nফ্লাভিয়া অ্যাগনেস বলেন যে, মনুস্মৃতি নারী অধিকারের দৃষ্টিকোণ থেকে একটি জটিল ভাষ্য, এবং ব্রিটিশ উপনিবেশিক যুগ হিন্দুদের জন্য এবং মুসলিমদের জন্য ইসলামী গ্রন্থ থেকে এটির উপর ভিত্তি করে নারীর অধিকারের আইনসংগ্রহ বাছাই করে এবং জোর দিয়েছিল দিকগুলি যখন এটি অন্যান্য বিভাগকে উপেক্ষা করে। উপনিবেশিক যুগে ব্যক্তিগত আইনের এই নির্মাণ দক্ষিণ এশিয়ায় মহিলাদের সাথে সম্পর্কিত বিষয়ে ধর্মগ্রন্থ হিসেবে মনুস্মৃতি ঐতিহাসিক ভূমিকাকে ঘিরে একটি আইনি কল্পকাহিনী তৈরি করেছিল।</td>\n      <td>\" মনুস্মৃতি নারী অধিকারের দৃষ্টিকোণ থেকে একটি জটিল ভাষ্য\"- কথাটি কে বলেন?</td>\n      <td>{'answer_start': [523, 523], 'text': ['ফ্লাভিয়া অ্যাগনেস', 'ফ্লাভিয়া অ্যাগনেস']}</td>\n    </tr>\n    <tr>\n      <th>9</th>\n      <td>bn_wiki_2538_04</td>\n      <td>ভারতে নারীবাদ</td>\n      <td>ভারতীয় নারীদের গড় জীবনের অধিকাংশই সাংসারিকভাবে অতিবাহিত হয়; অনেক নারী এখনও ১৮ বছর বয়সের আগে বিবাহিত, এবং ভারতে অবিবাহের ঘটনা কম। সন্তান ধারণ এবং শিশুদের লালন পালন ভারতীয় নারীদের জন্য প্রাথমিক প্রাপ্তবয়স্কতার মানদণ্ড। সুতরাং, যদি তারা আদৌ শ্রমশক্তিতে প্রবেশ করে তবে এটি ভারতীয় পুরুষদের চেয়ে অনেক পরে। শহুরে ভারতীয় পুরুষরা ২৫ থেকে ২৯ বছর বয়সের মধ্যে তাদের শ্রমশক্তির অংশগ্রহণের শীর্ষে পৌঁছেছেন, অন্যদিকে শহুরে ভারতীয় নারীরা ৪০ থেকে ৪৪ বছর বয়সের মধ্যে এটি করেন। এই কারণে নারীরা দক্ষতা অর্জনের জন্য কম সময় এবং চাকরির উন্নতির জন্য কম সুযোগ পেয়ে থাকেন।\\n\\nভারতীয় শ্রমশক্তিতে মধ্যে নারীদের একটি দুর্বল প্রতিনিধিত্ব রয়েছে। মাধ্যমিক ও প্রাথমিক বিদ্যালয়ে ছেলেদের তুলনায় মেয়েদের ঝরে পড়ার হার দশ শতাংশ বেশি, সেইসাথে পুরুষদের তুলনায় তাদের সাক্ষরতার মাত্রা কম। যেহেতু ভারতে বেকারত্বও বেশি, তাই নিয়োগকারীদের পক্ষে আইনটি হেরফের করা সহজ, বিশেষ করে যখন এটি নারীদের ক্ষেত্রে আসে। কারণ পুরুষদের সাথে নারীদের তর্ক না করা ভারতীয় সংস্কৃতির অংশ। উপরন্তু, শ্রমিক ইউনিয়নগুলি নারীদের চাহিদার প্রতি অসংবেদনশীল।\\n\\nভারতের গুলাবি গ্যাং গোলাপী শাড়ি পরে ও শারীরিক আক্রমণের বিরুদ্ধে সুরক্ষার জন্য লাঠি (বাঁশের লাঠি) বহন করে এবং অপমানকারী স্বামীদের শাস্তি দেয়, প্রকাশ্যে লজ্জা দেয় এবং কখনও কখনও তাদের মারধর করে। তারা যৌতুকজনিত মারধর, যৌতুকজনিত মৃত্যু, ধর্ষণ, বাল্যবিবাহ, পরিত্যাগ, মেয়েদের শিক্ষা থেকে বঞ্চিত করা, শিশু উত্ত্যক্তকরণ এবং যৌন হয়রানি সম্পর্কেও কাজ করে। তারা এই বিষয়গুলি এবং দুর্নীতির মতো সম্প্রদায়কে প্রভাবিত করে এমন অন্যান্য বিষয়গুলি তদন্তের দাবিতে পুলিশ স্টেশনগুলিতে আক্রমণ করেছে। ভারতের পুলিশরা কুখ্যাতভাবে দুর্নীতিগ্রস্ত এবং কখনও কখনও কেবলমাত্র একটি পূর্ণ মাত্রার নারী দাঙ্গার হুমকিই তাদেরকে কাজ করতে বাধ্য করে। তাদের মধ্যে কতজন আছে তা কেউ জানে না। অনুমান করা হয় যে তাদের সংখ্যা ২৭০,০০০ থেকে ৪০০,০০০ অবধি হতে পারে।\\n\\n২০১৮ সালে ভারতের সুপ্রিম কোর্ট \"একজন পুরুষের পক্ষে কোন বিবাহিত নারীর স্বামীর অনুমতি ছাড়া তার সাথে যৌন সম্পর্ক স্থাপনকরা অপরাধ\" আইন বাতিল করে দিয়েছে।</td>\n      <td>মাধ্যমিক ও প্রাথমিক বিদ্যালয়ে ছেলেদের তুলনায় মেয়েদের ঝরে পড়ার হার কতো শতাংশ বেশি?</td>\n      <td>{'answer_start': [699, 699], 'text': ['দশ', 'দশ']}</td>\n    </tr>\n  </tbody>\n</table>"
          },
          "metadata": {}
        }
      ]
    },
    {
      "cell_type": "markdown",
      "source": [
        "## Preprocessing the training data"
      ],
      "metadata": {
        "id": "n9qywopnIrJH"
      }
    },
    {
      "cell_type": "markdown",
      "source": [
        "Before we can feed those texts to our model, we need to preprocess them. This is done by a 🤗 Transformers `Tokenizer` which will (as the name indicates) tokenize the inputs (including converting the tokens to their corresponding IDs in the pretrained vocabulary) and put it in a format the model expects, as well as generate the other inputs that model requires.\n",
        "\n",
        "To do all of this, we instantiate our tokenizer with the `AutoTokenizer.from_pretrained` method, which will ensure:\n",
        "\n",
        "- we get a tokenizer that corresponds to the model architecture we want to use,\n",
        "- we download the vocabulary used when pretraining this specific checkpoint.\n",
        "\n",
        "That vocabulary will be cached, so it's not downloaded again the next time we run the cell."
      ],
      "metadata": {
        "id": "YVx71GdAIrJH"
      }
    },
    {
      "cell_type": "code",
      "source": [
        "from transformers import AutoTokenizer\n",
        "\n",
        "tokenizer = AutoTokenizer.from_pretrained(model_checkpoint)"
      ],
      "metadata": {
        "id": "eXNLu_-nIrJI",
        "execution": {
          "iopub.status.busy": "2024-06-15T15:35:35.877150Z",
          "iopub.execute_input": "2024-06-15T15:35:35.877559Z",
          "iopub.status.idle": "2024-06-15T15:35:36.357991Z",
          "shell.execute_reply.started": "2024-06-15T15:35:35.877527Z",
          "shell.execute_reply": "2024-06-15T15:35:36.356829Z"
        },
        "trusted": true,
        "outputId": "62bfbfd8-7c2e-45d7-b3f3-b88630963907"
      },
      "execution_count": null,
      "outputs": [
        {
          "name": "stderr",
          "text": "/opt/conda/lib/python3.10/site-packages/huggingface_hub/file_download.py:1132: FutureWarning: `resume_download` is deprecated and will be removed in version 1.0.0. Downloads always resume when possible. If you want to force a new download, use `force_download=True`.\n  warnings.warn(\n",
          "output_type": "stream"
        }
      ]
    },
    {
      "cell_type": "markdown",
      "source": [
        "The following assertion ensures that our tokenizer is a fast tokenizers (backed by Rust) from the 🤗 Tokenizers library. Those fast tokenizers are available for almost all models, and we will need some of the special features they have for our preprocessing."
      ],
      "metadata": {
        "id": "Vl6IidfdIrJK"
      }
    },
    {
      "cell_type": "code",
      "source": [
        "import transformers\n",
        "assert isinstance(tokenizer, transformers.PreTrainedTokenizerFast)"
      ],
      "metadata": {
        "id": "tOaNREDfw2D1",
        "execution": {
          "iopub.status.busy": "2024-06-15T15:35:36.360319Z",
          "iopub.execute_input": "2024-06-15T15:35:36.360765Z",
          "iopub.status.idle": "2024-06-15T15:35:36.368754Z",
          "shell.execute_reply.started": "2024-06-15T15:35:36.360726Z",
          "shell.execute_reply": "2024-06-15T15:35:36.367536Z"
        },
        "trusted": true
      },
      "execution_count": null,
      "outputs": []
    },
    {
      "cell_type": "markdown",
      "source": [
        "You can check which type of models have a fast tokenizer available and which don't on the [big table of models](https://huggingface.co/transformers/index.html#bigtable)."
      ],
      "metadata": {
        "id": "21lBgET6w2D1"
      }
    },
    {
      "cell_type": "markdown",
      "source": [
        "You can directly call this tokenizer on two sentences (one for the answer, one for the context):"
      ],
      "metadata": {
        "id": "rowT4iCLIrJK"
      }
    },
    {
      "cell_type": "code",
      "source": [
        "tokenizer(\"What is your name?\", \"My name is Sylvain.\")"
      ],
      "metadata": {
        "id": "a5hBlsrHIrJL",
        "outputId": "acdaa98a-a8cd-4a20-89b8-cc26437bbe90",
        "execution": {
          "iopub.status.busy": "2024-06-15T15:35:37.206398Z",
          "iopub.execute_input": "2024-06-15T15:35:37.206921Z",
          "iopub.status.idle": "2024-06-15T15:35:37.216744Z",
          "shell.execute_reply.started": "2024-06-15T15:35:37.206882Z",
          "shell.execute_reply": "2024-06-15T15:35:37.215280Z"
        },
        "trusted": true
      },
      "execution_count": null,
      "outputs": [
        {
          "execution_count": 87,
          "output_type": "execute_result",
          "data": {
            "text/plain": "{'input_ids': [101, 100, 100, 100, 100, 1045, 102, 100, 100, 100, 100, 1013, 102], 'token_type_ids': [0, 0, 0, 0, 0, 0, 0, 1, 1, 1, 1, 1, 1], 'attention_mask': [1, 1, 1, 1, 1, 1, 1, 1, 1, 1, 1, 1, 1]}"
          },
          "metadata": {}
        }
      ]
    },
    {
      "cell_type": "markdown",
      "source": [
        "Depending on the model you selected, you will see different keys in the dictionary returned by the cell above. They don't matter much for what we're doing here (just know they are required by the model we will instantiate later), you can learn more about them in [this tutorial](https://huggingface.co/transformers/preprocessing.html) if you're interested.\n",
        "\n",
        "Now one specific thing for the preprocessing in question answering is how to deal with very long documents. We usually truncate them in other tasks, when they are longer than the model maximum sentence length, but here, removing part of the the context might result in losing the answer we are looking for. To deal with this, we will allow one (long) example in our dataset to give several input features, each of length shorter than the maximum length of the model (or the one we set as a hyper-parameter). Also, just in case the answer lies at the point we split a long context, we allow some overlap between the features we generate controlled by the hyper-parameter `doc_stride`:"
      ],
      "metadata": {
        "id": "oqQ2CLb-w2D1"
      }
    },
    {
      "cell_type": "code",
      "source": [
        "max_length = 384 # The maximum length of a feature (question and context)\n",
        "doc_stride = 128 # The authorized overlap between two part of the context when splitting it is needed."
      ],
      "metadata": {
        "id": "4P0uKYRuw2D1",
        "execution": {
          "iopub.status.busy": "2024-06-15T15:35:37.537944Z",
          "iopub.execute_input": "2024-06-15T15:35:37.538710Z",
          "iopub.status.idle": "2024-06-15T15:35:37.544562Z",
          "shell.execute_reply.started": "2024-06-15T15:35:37.538674Z",
          "shell.execute_reply": "2024-06-15T15:35:37.543240Z"
        },
        "trusted": true
      },
      "execution_count": null,
      "outputs": []
    },
    {
      "cell_type": "markdown",
      "source": [
        "Let's find one long example in our dataset:"
      ],
      "metadata": {
        "id": "2UJIphP-w2D9"
      }
    },
    {
      "cell_type": "code",
      "source": [
        "for i, example in enumerate(datasets[\"train\"]):\n",
        "    if len(tokenizer(example[\"question\"], example[\"context\"])[\"input_ids\"]) > 384:\n",
        "        break\n",
        "example = datasets[\"train\"][i]"
      ],
      "metadata": {
        "id": "5jg0jZ6Gw2D9",
        "execution": {
          "iopub.status.busy": "2024-06-15T15:35:37.895730Z",
          "iopub.execute_input": "2024-06-15T15:35:37.896543Z",
          "iopub.status.idle": "2024-06-15T15:35:37.908034Z",
          "shell.execute_reply.started": "2024-06-15T15:35:37.896506Z",
          "shell.execute_reply": "2024-06-15T15:35:37.906884Z"
        },
        "trusted": true
      },
      "execution_count": null,
      "outputs": []
    },
    {
      "cell_type": "markdown",
      "source": [
        "Without any truncation, we get the following length for the input IDs:"
      ],
      "metadata": {
        "id": "VSWU9_HLw2D9"
      }
    },
    {
      "cell_type": "code",
      "source": [
        "len(tokenizer(example[\"question\"], example[\"context\"])[\"input_ids\"])"
      ],
      "metadata": {
        "id": "dWg7_JThw2D9",
        "outputId": "e5b31ac3-18a8-469a-ed8c-46e046f32973",
        "execution": {
          "iopub.status.busy": "2024-06-15T15:35:38.262772Z",
          "iopub.execute_input": "2024-06-15T15:35:38.263218Z",
          "iopub.status.idle": "2024-06-15T15:35:38.275733Z",
          "shell.execute_reply.started": "2024-06-15T15:35:38.263189Z",
          "shell.execute_reply": "2024-06-15T15:35:38.274668Z"
        },
        "trusted": true
      },
      "execution_count": null,
      "outputs": [
        {
          "execution_count": 90,
          "output_type": "execute_result",
          "data": {
            "text/plain": "542"
          },
          "metadata": {}
        }
      ]
    },
    {
      "cell_type": "markdown",
      "source": [
        "Now, if we just truncate, we will lose information (and possibly the answer to our question):"
      ],
      "metadata": {
        "id": "fDa18m0sw2D9"
      }
    },
    {
      "cell_type": "code",
      "source": [
        "len(tokenizer(example[\"question\"], example[\"context\"], max_length=max_length, truncation=\"only_second\")[\"input_ids\"])"
      ],
      "metadata": {
        "id": "qppHwgT9w2D9",
        "outputId": "253e6b6d-644a-4302-9b25-0530f27d97b6",
        "execution": {
          "iopub.status.busy": "2024-06-15T15:35:38.636894Z",
          "iopub.execute_input": "2024-06-15T15:35:38.637274Z",
          "iopub.status.idle": "2024-06-15T15:35:38.649713Z",
          "shell.execute_reply.started": "2024-06-15T15:35:38.637244Z",
          "shell.execute_reply": "2024-06-15T15:35:38.648406Z"
        },
        "trusted": true
      },
      "execution_count": null,
      "outputs": [
        {
          "execution_count": 91,
          "output_type": "execute_result",
          "data": {
            "text/plain": "384"
          },
          "metadata": {}
        }
      ]
    },
    {
      "cell_type": "markdown",
      "source": [
        "Note that we never want to truncate the question, only the context, else the `only_second` truncation picked. Now, our tokenizer can automatically return us a list of features capped by a certain maximum length, with the overlap we talked above, we just have to tell it with `return_overflowing_tokens=True` and by passing the stride:"
      ],
      "metadata": {
        "id": "EX2DHM0Bw2D9"
      }
    },
    {
      "cell_type": "code",
      "source": [
        "tokenized_example = tokenizer(\n",
        "    example[\"question\"],\n",
        "    example[\"context\"],\n",
        "    max_length=max_length,\n",
        "    truncation=\"only_second\",\n",
        "    return_overflowing_tokens=True,\n",
        "    stride=doc_stride\n",
        ")"
      ],
      "metadata": {
        "id": "S00XKvzNw2D9",
        "execution": {
          "iopub.status.busy": "2024-06-15T15:35:39.015050Z",
          "iopub.execute_input": "2024-06-15T15:35:39.015438Z",
          "iopub.status.idle": "2024-06-15T15:35:39.027410Z",
          "shell.execute_reply.started": "2024-06-15T15:35:39.015410Z",
          "shell.execute_reply": "2024-06-15T15:35:39.026253Z"
        },
        "trusted": true
      },
      "execution_count": null,
      "outputs": []
    },
    {
      "cell_type": "markdown",
      "source": [
        "Now we don't have one list of `input_ids`, but several:"
      ],
      "metadata": {
        "id": "kG9D9IXzw2D9"
      }
    },
    {
      "cell_type": "code",
      "source": [
        "[len(x) for x in tokenized_example[\"input_ids\"]]"
      ],
      "metadata": {
        "id": "syNI763Yw2D9",
        "outputId": "7ec41d41-f766-4519-adff-8e1091c99b01",
        "execution": {
          "iopub.status.busy": "2024-06-15T15:35:39.349914Z",
          "iopub.execute_input": "2024-06-15T15:35:39.350595Z",
          "iopub.status.idle": "2024-06-15T15:35:39.359810Z",
          "shell.execute_reply.started": "2024-06-15T15:35:39.350561Z",
          "shell.execute_reply": "2024-06-15T15:35:39.358521Z"
        },
        "trusted": true
      },
      "execution_count": null,
      "outputs": [
        {
          "execution_count": 93,
          "output_type": "execute_result",
          "data": {
            "text/plain": "[384, 321]"
          },
          "metadata": {}
        }
      ]
    },
    {
      "cell_type": "markdown",
      "source": [
        "And if we decode them, we can see the overlap:"
      ],
      "metadata": {
        "id": "ZZCm44MZw2D9"
      }
    },
    {
      "cell_type": "code",
      "source": [
        "for x in tokenized_example[\"input_ids\"][:2]:\n",
        "    print(tokenizer.decode(x))"
      ],
      "metadata": {
        "id": "xyVviuaew2D9",
        "outputId": "5721e20f-e6b3-4103-804e-7372175380e4",
        "execution": {
          "iopub.status.busy": "2024-06-15T15:35:39.691703Z",
          "iopub.execute_input": "2024-06-15T15:35:39.692765Z",
          "iopub.status.idle": "2024-06-15T15:35:39.714503Z",
          "shell.execute_reply.started": "2024-06-15T15:35:39.692727Z",
          "shell.execute_reply": "2024-06-15T15:35:39.712991Z"
        },
        "trusted": true
      },
      "execution_count": null,
      "outputs": [
        {
          "name": "stdout",
          "text": "[CLS] কত সালে ঢাকা আলিযা মাদরাসা ঢাকায সথানানতরের পরবে বাংলাদেশ ও ভারতের ফাজিল পরীকষা কলকাতা আলিযা মাদরাসার অধীনে অনষঠিত হতো? [SEP] ফাজিল পরীকষা বাংলাদেশ ও ভারতের আলিযা মাদরাসায অনষঠিত একটি সরকারি পরীকষা । ফাজিল পরীকষা বাংলাদেশে ডিগরি সমমানের, কখনো সনাতক সমমানের একটি পরীকষা, যা একটি ফাজিল মাদরাসায অনষঠিত হযে থাকে । তবে ভারতে ফাজিল পরীকষাকে উচচ মাধযমিক শরেণীর ( [UNK] বা [UNK] কলাস ) মান বলে বিবেচিত করা হয । ফাজিল পরীকষা বাংলাদেশ ভারত ও পাকিসতানের সরকারি সবীকত আলিযা মাদরাসায পরচলিত রযেছে । বাংলাদেশের ফাজিল পরীকষা ইসলামি আরবি বিশববিদযালযের অধীনে অনষঠিত হযে থাকে ও ভারতের ফাজিল পরীকষা পশচিমবঙগ মাদরাসা শিকষা পরষদের অধীনে অনষঠিত হযে থাকে । [UNK] সালে ঢাকা আলিযা মাদরাসা ঢাকায সথানানতরের পরবে বাংলাদেশ ও ভারতের ফাজিল পরীকষা কলকাতা আলিযা মাদরাসার অধীনে অনষঠিত হতো । ফাযিল পরীকষা বরতমানে ইসলামি আরবী বিশববিদযালযের অধীনে অনষঠিত হয । যা পরবে মাদরাসা বোরড ও ইসলামি বিশববিদযালযের আধীনে অনষঠিত হত । মাদরাসা - ই - আলিযা ঢাকায সথানানতরিত হলে [UNK] সালে মাদরাসা বোরডের ফাজিলগলো পরীকষা ঢাকা বিশববিদযালয করতক গহীত হতো । [UNK] সালের কদরত - এ - খদা শিকষা কমিশনের সপারিশে মাদরাসা বোরড নিযনতরিত আলিযা মাদরাসাসমহে জাতীয শিকষাকরম ও বহমখী পাঠযসচি পরবরতিত করা হয । [UNK] সালে অনষঠিত ফাজিল পরীকষায এই পাঠযসচী কারযকর হয । এই শিকষা কমিশন অনসারে ফাজিল শরেণীতে ইসলামি শিকষার পাশাপাশি সাধারণ [SEP]\n[CLS] কত সালে ঢাকা আলিযা মাদরাসা ঢাকায সথানানতরের পরবে বাংলাদেশ ও ভারতের ফাজিল পরীকষা কলকাতা আলিযা মাদরাসার অধীনে অনষঠিত হতো? [SEP] অনষঠিত হত । মাদরাসা - ই - আলিযা ঢাকায সথানানতরিত হলে [UNK] সালে মাদরাসা বোরডের ফাজিলগলো পরীকষা ঢাকা বিশববিদযালয করতক গহীত হতো । [UNK] সালের কদরত - এ - খদা শিকষা কমিশনের সপারিশে মাদরাসা বোরড নিযনতরিত আলিযা মাদরাসাসমহে জাতীয শিকষাকরম ও বহমখী পাঠযসচি পরবরতিত করা হয । [UNK] সালে অনষঠিত ফাজিল পরীকষায এই পাঠযসচী কারযকর হয । এই শিকষা কমিশন অনসারে ফাজিল শরেণীতে ইসলামি শিকষার পাশাপাশি সাধারণ পাঠযসচী অনতরভকত করে ফাজিল পরীকষাকে সাধারণ উচচ মাধযমিক এইচ এস সির সমমান ঘোষণা করা হয । [UNK] সালে অধযাপক মসতফা বিন কাসিমের নেততবে সিনিযর মাদরাসা শিকষা বযবসথা কমিটি গঠিত হয । এই কমিটির নিরদেশনায [UNK] সালে সাধারণ শিকষার সতরের সঙগে বাংলাদেশ মাদরাসা বোরড নিযনতরিত আলিযা মাদরাসা শিকষা সতরের সামঞজসয করা হয । ফাজিল সতরকে ২ বছর মেযাদী কোরসে উননিত করে, মোট [UNK] বছর বযাপী আলিযা মাদরাসার পরণাঙগ আধনিক শিকষা বযবসথা পরবরতন করা হয । এই কমিশনের মাধযমেই সরকার ফাজিল পরীকষাকে সাধারণ ডিগরি মান ঘোষণা করে । [SEP]\n",
          "output_type": "stream"
        }
      ]
    },
    {
      "cell_type": "markdown",
      "source": [
        "Now this will give us some work to properly treat the answers: we need to find in which of those features the answer actually is, and where exactly in that feature. The models we will use require the start and end positions of these answers in the tokens, so we will also need to to map parts of the original context to some tokens. Thankfully, the tokenizer we're using can help us with that by returning an `offset_mapping`:"
      ],
      "metadata": {
        "id": "N9NESL_dw2D-"
      }
    },
    {
      "cell_type": "code",
      "source": [
        "tokenized_example = tokenizer(\n",
        "    example[\"question\"],\n",
        "    example[\"context\"],\n",
        "    max_length=max_length,\n",
        "    truncation=\"only_second\",\n",
        "    return_overflowing_tokens=True,\n",
        "    return_offsets_mapping=True,\n",
        "    stride=doc_stride\n",
        ")\n",
        "print(tokenized_example[\"offset_mapping\"][0][:100])"
      ],
      "metadata": {
        "id": "FBwK2V0lw2D-",
        "outputId": "9ce1a925-dd15-403f-8141-46ee1cfa889b",
        "execution": {
          "iopub.status.busy": "2024-06-15T15:35:40.119682Z",
          "iopub.execute_input": "2024-06-15T15:35:40.120403Z",
          "iopub.status.idle": "2024-06-15T15:35:40.134578Z",
          "shell.execute_reply.started": "2024-06-15T15:35:40.120365Z",
          "shell.execute_reply": "2024-06-15T15:35:40.133257Z"
        },
        "trusted": true
      },
      "execution_count": null,
      "outputs": [
        {
          "name": "stdout",
          "text": "[(0, 0), (0, 2), (3, 7), (8, 12), (13, 16), (16, 19), (20, 28), (29, 33), (33, 34), (36, 37), (38, 42), (42, 43), (44, 46), (46, 48), (49, 55), (56, 64), (65, 66), (67, 73), (74, 79), (80, 83), (83, 86), (86, 87), (88, 94), (95, 98), (98, 101), (102, 111), (112, 117), (118, 120), (121, 122), (123, 126), (127, 130), (129, 130), (131, 132), (0, 0), (0, 5), (6, 9), (9, 12), (12, 13), (14, 22), (23, 24), (25, 31), (32, 35), (35, 38), (39, 47), (47, 48), (50, 52), (53, 54), (55, 58), (59, 63), (64, 70), (71, 74), (74, 77), (77, 78), (78, 79), (80, 85), (86, 89), (89, 92), (92, 93), (94, 103), (104, 107), (108, 110), (111, 118), (118, 119), (120, 123), (123, 124), (123, 124), (125, 128), (128, 130), (130, 131), (132, 139), (140, 144), (145, 148), (148, 151), (151, 152), (152, 153), (154, 156), (157, 161), (162, 167), (168, 176), (176, 177), (179, 181), (182, 183), (184, 187), (188, 190), (191, 192), (193, 197), (197, 198), (199, 202), (203, 208), (209, 214), (215, 218), (218, 221), (221, 224), (225, 229), (230, 233), (234, 236), (236, 238), (239, 242), (242, 243), (243, 245)]\n",
          "output_type": "stream"
        }
      ]
    },
    {
      "cell_type": "markdown",
      "source": [
        "This gives, for each index of our input IDS, the corresponding start and end character in the original text that gave our token. The very first token (`[CLS]`) has (0, 0) because it doesn't correspond to any part of the question/answer, then the second token is the same as the characters 0 to 3 of the question:"
      ],
      "metadata": {
        "id": "DR2d7y4hw2D-"
      }
    },
    {
      "cell_type": "code",
      "source": [
        "first_token_id = tokenized_example[\"input_ids\"][0][1]\n",
        "offsets = tokenized_example[\"offset_mapping\"][0][1]\n",
        "print(tokenizer.convert_ids_to_tokens([first_token_id])[0], example[\"question\"][offsets[0]:offsets[1]])"
      ],
      "metadata": {
        "id": "FWRnknAIw2D-",
        "outputId": "866b9dd2-33c1-42b4-be47-2240f8a78d86",
        "execution": {
          "iopub.status.busy": "2024-06-15T15:35:40.491318Z",
          "iopub.execute_input": "2024-06-15T15:35:40.491695Z",
          "iopub.status.idle": "2024-06-15T15:35:40.501159Z",
          "shell.execute_reply.started": "2024-06-15T15:35:40.491664Z",
          "shell.execute_reply": "2024-06-15T15:35:40.499909Z"
        },
        "trusted": true
      },
      "execution_count": null,
      "outputs": [
        {
          "name": "stdout",
          "text": "কত কত\n",
          "output_type": "stream"
        }
      ]
    },
    {
      "cell_type": "markdown",
      "source": [
        "So we can use this mapping to find the position of the start and end tokens of our answer in a given feature. We just have to distinguish which parts of the offsets correspond to the question and which part correspond to the context, this is where the `sequence_ids` method of our `tokenized_example` can be useful:"
      ],
      "metadata": {
        "id": "BwM6CAaMw2D-"
      }
    },
    {
      "cell_type": "code",
      "source": [
        "sequence_ids = tokenized_example.sequence_ids()\n",
        "print(sequence_ids)"
      ],
      "metadata": {
        "id": "WCZgd3w4w2D-",
        "outputId": "7e8a06fc-59f1-4292-c68a-4a781b31306b",
        "execution": {
          "iopub.status.busy": "2024-06-15T15:35:40.954633Z",
          "iopub.execute_input": "2024-06-15T15:35:40.955548Z",
          "iopub.status.idle": "2024-06-15T15:35:40.963156Z",
          "shell.execute_reply.started": "2024-06-15T15:35:40.955508Z",
          "shell.execute_reply": "2024-06-15T15:35:40.961633Z"
        },
        "trusted": true
      },
      "execution_count": null,
      "outputs": [
        {
          "name": "stdout",
          "text": "[None, 0, 0, 0, 0, 0, 0, 0, 0, 0, 0, 0, 0, 0, 0, 0, 0, 0, 0, 0, 0, 0, 0, 0, 0, 0, 0, 0, 0, 0, 0, 0, 0, None, 1, 1, 1, 1, 1, 1, 1, 1, 1, 1, 1, 1, 1, 1, 1, 1, 1, 1, 1, 1, 1, 1, 1, 1, 1, 1, 1, 1, 1, 1, 1, 1, 1, 1, 1, 1, 1, 1, 1, 1, 1, 1, 1, 1, 1, 1, 1, 1, 1, 1, 1, 1, 1, 1, 1, 1, 1, 1, 1, 1, 1, 1, 1, 1, 1, 1, 1, 1, 1, 1, 1, 1, 1, 1, 1, 1, 1, 1, 1, 1, 1, 1, 1, 1, 1, 1, 1, 1, 1, 1, 1, 1, 1, 1, 1, 1, 1, 1, 1, 1, 1, 1, 1, 1, 1, 1, 1, 1, 1, 1, 1, 1, 1, 1, 1, 1, 1, 1, 1, 1, 1, 1, 1, 1, 1, 1, 1, 1, 1, 1, 1, 1, 1, 1, 1, 1, 1, 1, 1, 1, 1, 1, 1, 1, 1, 1, 1, 1, 1, 1, 1, 1, 1, 1, 1, 1, 1, 1, 1, 1, 1, 1, 1, 1, 1, 1, 1, 1, 1, 1, 1, 1, 1, 1, 1, 1, 1, 1, 1, 1, 1, 1, 1, 1, 1, 1, 1, 1, 1, 1, 1, 1, 1, 1, 1, 1, 1, 1, 1, 1, 1, 1, 1, 1, 1, 1, 1, 1, 1, 1, 1, 1, 1, 1, 1, 1, 1, 1, 1, 1, 1, 1, 1, 1, 1, 1, 1, 1, 1, 1, 1, 1, 1, 1, 1, 1, 1, 1, 1, 1, 1, 1, 1, 1, 1, 1, 1, 1, 1, 1, 1, 1, 1, 1, 1, 1, 1, 1, 1, 1, 1, 1, 1, 1, 1, 1, 1, 1, 1, 1, 1, 1, 1, 1, 1, 1, 1, 1, 1, 1, 1, 1, 1, 1, 1, 1, 1, 1, 1, 1, 1, 1, 1, 1, 1, 1, 1, 1, 1, 1, 1, 1, 1, 1, 1, 1, 1, 1, 1, 1, 1, 1, 1, 1, 1, 1, 1, 1, 1, 1, 1, 1, 1, 1, 1, 1, 1, 1, 1, 1, 1, 1, 1, 1, 1, 1, 1, 1, 1, 1, 1, 1, 1, 1, 1, 1, 1, 1, 1, None]\n",
          "output_type": "stream"
        }
      ]
    },
    {
      "cell_type": "markdown",
      "source": [
        "It returns `None` for the special tokens, then 0 or 1 depending on whether the corresponding token comes from the first sentence past (the question) or the second (the context). Now with all of this, we can find the first and last token of the answer in one of our input feature (or if the answer is not in this feature):"
      ],
      "metadata": {
        "id": "ourFlAeXw2D-"
      }
    },
    {
      "cell_type": "code",
      "source": [
        "answers = example[\"answers\"]\n",
        "start_char = answers[\"answer_start\"][0]\n",
        "end_char = start_char + len(answers[\"text\"][0])\n",
        "\n",
        "# Start token index of the current span in the text.\n",
        "token_start_index = 0\n",
        "while sequence_ids[token_start_index] != 1:\n",
        "    token_start_index += 1\n",
        "\n",
        "# End token index of the current span in the text.\n",
        "token_end_index = len(tokenized_example[\"input_ids\"][0]) - 1\n",
        "while sequence_ids[token_end_index] != 1:\n",
        "    token_end_index -= 1\n",
        "\n",
        "# Detect if the answer is out of the span (in which case this feature is labeled with the CLS index).\n",
        "offsets = tokenized_example[\"offset_mapping\"][0]\n",
        "if (offsets[token_start_index][0] <= start_char and offsets[token_end_index][1] >= end_char):\n",
        "    # Move the token_start_index and token_end_index to the two ends of the answer.\n",
        "    # Note: we could go after the last offset if the answer is the last word (edge case).\n",
        "    while token_start_index < len(offsets) and offsets[token_start_index][0] <= start_char:\n",
        "        token_start_index += 1\n",
        "    start_position = token_start_index - 1\n",
        "    while offsets[token_end_index][1] >= end_char:\n",
        "        token_end_index -= 1\n",
        "    end_position = token_end_index + 1\n",
        "    print(start_position, end_position)\n",
        "else:\n",
        "    print(\"The answer is not in this feature.\")"
      ],
      "metadata": {
        "id": "3Yasb24rw2D-",
        "outputId": "60de6ee5-968f-4bb8-a538-89d6dfa11e44",
        "execution": {
          "iopub.status.busy": "2024-06-15T15:35:41.926886Z",
          "iopub.execute_input": "2024-06-15T15:35:41.927312Z",
          "iopub.status.idle": "2024-06-15T15:35:41.942187Z",
          "shell.execute_reply.started": "2024-06-15T15:35:41.927279Z",
          "shell.execute_reply": "2024-06-15T15:35:41.940890Z"
        },
        "trusted": true
      },
      "execution_count": null,
      "outputs": [
        {
          "name": "stdout",
          "text": "184 184\n",
          "output_type": "stream"
        }
      ]
    },
    {
      "cell_type": "markdown",
      "source": [
        "And we can double check that it is indeed the theoretical answer:"
      ],
      "metadata": {
        "id": "Tb8YZi6Nw2D-"
      }
    },
    {
      "cell_type": "code",
      "source": [
        "print(tokenizer.decode(tokenized_example[\"input_ids\"][0][start_position: end_position+1]))\n",
        "print(answers[\"text\"][0])"
      ],
      "metadata": {
        "id": "VECpa_rhw2D-",
        "outputId": "d2510149-3e8e-431b-d3d9-67b93074a6b9",
        "execution": {
          "iopub.status.busy": "2024-06-15T15:35:42.514908Z",
          "iopub.execute_input": "2024-06-15T15:35:42.515895Z",
          "iopub.status.idle": "2024-06-15T15:35:42.524136Z",
          "shell.execute_reply.started": "2024-06-15T15:35:42.515862Z",
          "shell.execute_reply": "2024-06-15T15:35:42.522904Z"
        },
        "trusted": true
      },
      "execution_count": null,
      "outputs": [
        {
          "name": "stdout",
          "text": "[UNK]\n১৯৪৭\n",
          "output_type": "stream"
        }
      ]
    },
    {
      "cell_type": "markdown",
      "source": [
        "For this notebook to work with any kind of models, we need to account for the special case where the model expects padding on the left (in which case we switch the order of the question and the context):"
      ],
      "metadata": {
        "id": "nQnfldBsw2D-"
      }
    },
    {
      "cell_type": "code",
      "source": [
        "pad_on_right = tokenizer.padding_side == \"right\""
      ],
      "metadata": {
        "id": "lLPTEjfYw2D-",
        "execution": {
          "iopub.status.busy": "2024-06-15T15:35:42.967670Z",
          "iopub.execute_input": "2024-06-15T15:35:42.968132Z",
          "iopub.status.idle": "2024-06-15T15:35:42.974449Z",
          "shell.execute_reply.started": "2024-06-15T15:35:42.968098Z",
          "shell.execute_reply": "2024-06-15T15:35:42.973116Z"
        },
        "trusted": true
      },
      "execution_count": null,
      "outputs": []
    },
    {
      "cell_type": "markdown",
      "source": [
        "Now let's put everything together in one function we will apply to our training set. In the case of impossible answers (the answer is in another feature given by an example with a long context), we set the cls index for both the start and end position. We could also simply discard those examples from the training set if the flag `allow_impossible_answers` is `False`. Since the preprocessing is already complex enough as it is, we've kept is simple for this part."
      ],
      "metadata": {
        "id": "iRlloYl_w2D_"
      }
    },
    {
      "cell_type": "code",
      "source": [
        "def prepare_train_features(examples):\n",
        "    # Some of the questions have lots of whitespace on the left, which is not useful and will make the\n",
        "    # truncation of the context fail (the tokenized question will take a lots of space). So we remove that\n",
        "    # left whitespace\n",
        "    examples[\"question\"] = [q.lstrip() for q in examples[\"question\"]]\n",
        "\n",
        "    # Tokenize our examples with truncation and padding, but keep the overflows using a stride. This results\n",
        "    # in one example possible giving several features when a context is long, each of those features having a\n",
        "    # context that overlaps a bit the context of the previous feature.\n",
        "    tokenized_examples = tokenizer(\n",
        "        examples[\"question\" if pad_on_right else \"context\"],\n",
        "        examples[\"context\" if pad_on_right else \"question\"],\n",
        "        truncation=\"only_second\" if pad_on_right else \"only_first\",\n",
        "        max_length=max_length,\n",
        "        stride=doc_stride,\n",
        "        return_overflowing_tokens=True,\n",
        "        return_offsets_mapping=True,\n",
        "        padding=\"max_length\",\n",
        "    )\n",
        "\n",
        "    # Since one example might give us several features if it has a long context, we need a map from a feature to\n",
        "    # its corresponding example. This key gives us just that.\n",
        "    sample_mapping = tokenized_examples.pop(\"overflow_to_sample_mapping\")\n",
        "    # The offset mappings will give us a map from token to character position in the original context. This will\n",
        "    # help us compute the start_positions and end_positions.\n",
        "    offset_mapping = tokenized_examples.pop(\"offset_mapping\")\n",
        "\n",
        "    # Let's label those examples!\n",
        "    tokenized_examples[\"start_positions\"] = []\n",
        "    tokenized_examples[\"end_positions\"] = []\n",
        "\n",
        "    for i, offsets in enumerate(offset_mapping):\n",
        "        # We will label impossible answers with the index of the CLS token.\n",
        "        input_ids = tokenized_examples[\"input_ids\"][i]\n",
        "        cls_index = input_ids.index(tokenizer.cls_token_id)\n",
        "\n",
        "        # Grab the sequence corresponding to that example (to know what is the context and what is the question).\n",
        "        sequence_ids = tokenized_examples.sequence_ids(i)\n",
        "\n",
        "        # One example can give several spans, this is the index of the example containing this span of text.\n",
        "        sample_index = sample_mapping[i]\n",
        "        answers = examples[\"answers\"][sample_index]\n",
        "        # If no answers are given, set the cls_index as answer.\n",
        "        if len(answers[\"answer_start\"]) == 0:\n",
        "            tokenized_examples[\"start_positions\"].append(cls_index)\n",
        "            tokenized_examples[\"end_positions\"].append(cls_index)\n",
        "        else:\n",
        "            # Start/end character index of the answer in the text.\n",
        "            start_char = answers[\"answer_start\"][0]\n",
        "            end_char = start_char + len(answers[\"text\"][0])\n",
        "\n",
        "            # Start token index of the current span in the text.\n",
        "            token_start_index = 0\n",
        "            while sequence_ids[token_start_index] != (1 if pad_on_right else 0):\n",
        "                token_start_index += 1\n",
        "\n",
        "            # End token index of the current span in the text.\n",
        "            token_end_index = len(input_ids) - 1\n",
        "            while sequence_ids[token_end_index] != (1 if pad_on_right else 0):\n",
        "                token_end_index -= 1\n",
        "\n",
        "            # Detect if the answer is out of the span (in which case this feature is labeled with the CLS index).\n",
        "            if not (offsets[token_start_index][0] <= start_char and offsets[token_end_index][1] >= end_char):\n",
        "                tokenized_examples[\"start_positions\"].append(cls_index)\n",
        "                tokenized_examples[\"end_positions\"].append(cls_index)\n",
        "            else:\n",
        "                # Otherwise move the token_start_index and token_end_index to the two ends of the answer.\n",
        "                # Note: we could go after the last offset if the answer is the last word (edge case).\n",
        "                while token_start_index < len(offsets) and offsets[token_start_index][0] <= start_char:\n",
        "                    token_start_index += 1\n",
        "                tokenized_examples[\"start_positions\"].append(token_start_index - 1)\n",
        "                while offsets[token_end_index][1] >= end_char:\n",
        "                    token_end_index -= 1\n",
        "                tokenized_examples[\"end_positions\"].append(token_end_index + 1)\n",
        "\n",
        "    return tokenized_examples"
      ],
      "metadata": {
        "id": "R5Ou_Vnnw2D_",
        "execution": {
          "iopub.status.busy": "2024-06-15T15:35:43.483456Z",
          "iopub.execute_input": "2024-06-15T15:35:43.483847Z",
          "iopub.status.idle": "2024-06-15T15:35:43.502362Z",
          "shell.execute_reply.started": "2024-06-15T15:35:43.483801Z",
          "shell.execute_reply": "2024-06-15T15:35:43.501050Z"
        },
        "trusted": true
      },
      "execution_count": null,
      "outputs": []
    },
    {
      "cell_type": "markdown",
      "source": [
        "This function works with one or several examples. In the case of several examples, the tokenizer will return a list of lists for each key:"
      ],
      "metadata": {
        "id": "0lm8ozrJIrJR"
      }
    },
    {
      "cell_type": "code",
      "source": [
        "features = prepare_train_features(datasets['train'][:5])"
      ],
      "metadata": {
        "id": "-b70jh26IrJS",
        "execution": {
          "iopub.status.busy": "2024-06-15T15:35:43.967975Z",
          "iopub.execute_input": "2024-06-15T15:35:43.968397Z",
          "iopub.status.idle": "2024-06-15T15:35:43.991071Z",
          "shell.execute_reply.started": "2024-06-15T15:35:43.968366Z",
          "shell.execute_reply": "2024-06-15T15:35:43.989890Z"
        },
        "trusted": true
      },
      "execution_count": null,
      "outputs": []
    },
    {
      "cell_type": "markdown",
      "source": [
        "To apply this function on all the sentences (or pairs of sentences) in our dataset, we just use the `map` method of our `dataset` object we created earlier. This will apply the function on all the elements of all the splits in `dataset`, so our training, validation and testing data will be preprocessed in one single command. Since our preprocessing changes the number of samples, we need to remove the old columns when applying it."
      ],
      "metadata": {
        "id": "zS-6iXTkIrJT"
      }
    },
    {
      "cell_type": "code",
      "source": [
        "tokenized_datasets = datasets.map(prepare_train_features, batched=True, remove_columns=datasets[\"train\"].column_names)"
      ],
      "metadata": {
        "id": "DDtsaJeVIrJT",
        "outputId": "aa4734bf-4ef5-4437-9948-2c16363da719",
        "execution": {
          "iopub.status.busy": "2024-06-15T15:35:44.460477Z",
          "iopub.execute_input": "2024-06-15T15:35:44.460872Z",
          "iopub.status.idle": "2024-06-15T15:36:20.545124Z",
          "shell.execute_reply.started": "2024-06-15T15:35:44.460808Z",
          "shell.execute_reply": "2024-06-15T15:36:20.542863Z"
        },
        "trusted": true,
        "colab": {
          "referenced_widgets": [
            "3b5f1d757ab946db9a7fb2d7562d0b9e",
            "0680e871989943bdafbd2bf68f4186a2",
            "225a578da81e4872ab0572b0035c4790"
          ]
        }
      },
      "execution_count": null,
      "outputs": [
        {
          "name": "stdout",
          "text": "The OrderedVocab you are attempting to save contains holes for indices [1015, 1016, 1017, 1018, 1053, 1054, 1055, 1056, 1057, 1060, 1061, 1062, 1064, 1065, 1066, 1067, 1068, 1069, 1070, 1071, 1072, 1073, 1074, 1075, 1076, 1077, 1079, 1080, 1081, 1082, 1083, 1084, 1085, 1086, 1087, 1088, 1089, 1090, 1091, 1092, 1093, 1094, 1095, 1099, 1101, 1112, 1113, 1556, 1557, 1568], your vocabulary could be corrupted !\n",
          "output_type": "stream"
        },
        {
          "output_type": "display_data",
          "data": {
            "text/plain": "Map:   0%|          | 0/9565 [00:00<?, ? examples/s]",
            "application/vnd.jupyter.widget-view+json": {
              "version_major": 2,
              "version_minor": 0,
              "model_id": "3b5f1d757ab946db9a7fb2d7562d0b9e"
            }
          },
          "metadata": {}
        },
        {
          "name": "stdout",
          "text": "The OrderedVocab you are attempting to save contains holes for indices [1015, 1016, 1017, 1018, 1053, 1054, 1055, 1056, 1057, 1060, 1061, 1062, 1064, 1065, 1066, 1067, 1068, 1069, 1070, 1071, 1072, 1073, 1074, 1075, 1076, 1077, 1079, 1080, 1081, 1082, 1083, 1084, 1085, 1086, 1087, 1088, 1089, 1090, 1091, 1092, 1093, 1094, 1095, 1099, 1101, 1112, 1113, 1556, 1557, 1568], your vocabulary could be corrupted !\n",
          "output_type": "stream"
        },
        {
          "output_type": "display_data",
          "data": {
            "text/plain": "Map:   0%|          | 0/1182 [00:00<?, ? examples/s]",
            "application/vnd.jupyter.widget-view+json": {
              "version_major": 2,
              "version_minor": 0,
              "model_id": "0680e871989943bdafbd2bf68f4186a2"
            }
          },
          "metadata": {}
        },
        {
          "name": "stdout",
          "text": "The OrderedVocab you are attempting to save contains holes for indices [1015, 1016, 1017, 1018, 1053, 1054, 1055, 1056, 1057, 1060, 1061, 1062, 1064, 1065, 1066, 1067, 1068, 1069, 1070, 1071, 1072, 1073, 1074, 1075, 1076, 1077, 1079, 1080, 1081, 1082, 1083, 1084, 1085, 1086, 1087, 1088, 1089, 1090, 1091, 1092, 1093, 1094, 1095, 1099, 1101, 1112, 1113, 1556, 1557, 1568], your vocabulary could be corrupted !\n",
          "output_type": "stream"
        },
        {
          "output_type": "display_data",
          "data": {
            "text/plain": "Map:   0%|          | 0/1172 [00:00<?, ? examples/s]",
            "application/vnd.jupyter.widget-view+json": {
              "version_major": 2,
              "version_minor": 0,
              "model_id": "225a578da81e4872ab0572b0035c4790"
            }
          },
          "metadata": {}
        }
      ]
    },
    {
      "cell_type": "markdown",
      "source": [
        "Even better, the results are automatically cached by the 🤗 Datasets library to avoid spending time on this step the next time you run your notebook. The 🤗 Datasets library is normally smart enough to detect when the function you pass to map has changed (and thus requires to not use the cache data). For instance, it will properly detect if you change the task in the first cell and rerun the notebook. 🤗 Datasets warns you when it uses cached files, you can pass `load_from_cache_file=False` in the call to `map` to not use the cached files and force the preprocessing to be applied again.\n",
        "\n",
        "Note that we passed `batched=True` to encode the texts by batches together. This is to leverage the full benefit of the fast tokenizer we loaded earlier, which will use multi-threading to treat the texts in a batch concurrently."
      ],
      "metadata": {
        "id": "voWiw8C7IrJV"
      }
    },
    {
      "cell_type": "markdown",
      "source": [
        "## Fine-tuning the model"
      ],
      "metadata": {
        "id": "545PP3o8IrJV"
      }
    },
    {
      "cell_type": "markdown",
      "source": [
        "Now that our data is ready for training, we can download the pretrained model and fine-tune it. Since our task is question answering, we use the `AutoModelForQuestionAnswering` class. Like with the tokenizer, the `from_pretrained` method will download and cache the model for us:"
      ],
      "metadata": {
        "id": "FBiW8UpKIrJW"
      }
    },
    {
      "cell_type": "code",
      "source": [
        "from transformers import AutoModelForQuestionAnswering, TrainingArguments, Trainer\n",
        "\n",
        "model = AutoModelForQuestionAnswering.from_pretrained(model_checkpoint)"
      ],
      "metadata": {
        "id": "TlqNaB8jIrJW",
        "outputId": "84916cf3-6e6c-47f3-d081-032ec30a4132",
        "execution": {
          "iopub.status.busy": "2024-06-15T15:36:20.547225Z",
          "iopub.execute_input": "2024-06-15T15:36:20.547654Z",
          "iopub.status.idle": "2024-06-15T15:36:20.972416Z",
          "shell.execute_reply.started": "2024-06-15T15:36:20.547615Z",
          "shell.execute_reply": "2024-06-15T15:36:20.971137Z"
        },
        "trusted": true
      },
      "execution_count": null,
      "outputs": [
        {
          "name": "stderr",
          "text": "Some weights of BertForQuestionAnswering were not initialized from the model checkpoint at sagorsarker/bangla-bert-base and are newly initialized: ['qa_outputs.bias', 'qa_outputs.weight']\nYou should probably TRAIN this model on a down-stream task to be able to use it for predictions and inference.\n",
          "output_type": "stream"
        }
      ]
    },
    {
      "cell_type": "markdown",
      "source": [
        "The warning is telling us we are throwing away some weights (the `vocab_transform` and `vocab_layer_norm` layers) and randomly initializing some other (the `pre_classifier` and `classifier` layers). This is absolutely normal in this case, because we are removing the head used to pretrain the model on a masked language modeling objective and replacing it with a new head for which we don't have pretrained weights, so the library warns us we should fine-tune this model before using it for inference, which is exactly what we are going to do."
      ],
      "metadata": {
        "id": "CczA5lJlIrJX"
      }
    },
    {
      "cell_type": "markdown",
      "source": [
        "\n",
        "To instantiate a `Trainer`, we will need to define three more things. The most important is the [`TrainingArguments`](https://huggingface.co/transformers/main_classes/trainer.html#transformers.TrainingArguments), which is a class that contains all the attributes to customize the training. It requires one folder name, which will be used to save the checkpoints of the model, and all other arguments are optional:"
      ],
      "metadata": {
        "id": "_N8urzhyIrJY"
      }
    },
    {
      "cell_type": "code",
      "source": [
        "model_name = model_checkpoint.split(\"/\")[-1]\n",
        "args = TrainingArguments(\n",
        "#     f\"{model_name}-finetuned-squad1.2\",\n",
        "    f\"{model_name}-finetuned-brqa-confirmation\",\n",
        "    evaluation_strategy = \"epoch\",\n",
        "    learning_rate=2e-5,\n",
        "    per_device_train_batch_size=batch_size,\n",
        "    per_device_eval_batch_size=batch_size,\n",
        "    num_train_epochs=3,\n",
        "    weight_decay=0.01,\n",
        "    save_strategy=\"no\",\n",
        "    push_to_hub=True,\n",
        ")"
      ],
      "metadata": {
        "id": "Bliy8zgjIrJY",
        "execution": {
          "iopub.status.busy": "2024-06-15T15:36:20.974018Z",
          "iopub.execute_input": "2024-06-15T15:36:20.974496Z",
          "iopub.status.idle": "2024-06-15T15:36:21.010091Z",
          "shell.execute_reply.started": "2024-06-15T15:36:20.974452Z",
          "shell.execute_reply": "2024-06-15T15:36:21.008756Z"
        },
        "trusted": true,
        "outputId": "3cf7b719-49e0-4156-be00-1b7ab9da7855"
      },
      "execution_count": null,
      "outputs": [
        {
          "name": "stderr",
          "text": "/opt/conda/lib/python3.10/site-packages/transformers/training_args.py:1474: FutureWarning: `evaluation_strategy` is deprecated and will be removed in version 4.46 of 🤗 Transformers. Use `eval_strategy` instead\n  warnings.warn(\n",
          "output_type": "stream"
        }
      ]
    },
    {
      "cell_type": "markdown",
      "source": [
        "Here we set the evaluation to be done at the end of each epoch, tweak the learning rate, use the `batch_size` defined at the top of the notebook and customize the number of epochs for training, as well as the weight decay.\n",
        "\n",
        "The last argument to setup everything so we can push the model to the [Hub](https://huggingface.co/models) regularly during training. Remove it if you didn't follow the installation steps at the top of the notebook. If you want to save your model locally in a name that is different than the name of the repository it will be pushed, or if you want to push your model under an organization and not your name space, use the `hub_model_id` argument to set the repo name (it needs to be the full name, including your namespace: for instance `\"sgugger/bert-finetuned-squad\"` or `\"huggingface/bert-finetuned-squad\"`)."
      ],
      "metadata": {
        "id": "km3pGVdTIrJc"
      }
    },
    {
      "cell_type": "markdown",
      "source": [
        "Then we will need a data collator that will batch our processed examples together, here the default one will work:"
      ],
      "metadata": {
        "id": "I-84Z1Vxw2D_"
      }
    },
    {
      "cell_type": "code",
      "source": [
        "from transformers import default_data_collator\n",
        "\n",
        "data_collator = default_data_collator"
      ],
      "metadata": {
        "id": "-NIrFiIjw2D_",
        "execution": {
          "iopub.status.busy": "2024-06-15T15:36:21.012622Z",
          "iopub.execute_input": "2024-06-15T15:36:21.012948Z",
          "iopub.status.idle": "2024-06-15T15:36:21.019176Z",
          "shell.execute_reply.started": "2024-06-15T15:36:21.012922Z",
          "shell.execute_reply": "2024-06-15T15:36:21.018002Z"
        },
        "trusted": true
      },
      "execution_count": null,
      "outputs": []
    },
    {
      "cell_type": "markdown",
      "source": [
        "We will evaluate our model and compute metrics in the next section (this is a very long operation, so we will only compute the evaluation loss during training).\n",
        "\n",
        "Then we just need to pass all of this along with our datasets to the `Trainer`:"
      ],
      "metadata": {
        "id": "rXuFTAzDIrJe"
      }
    },
    {
      "cell_type": "code",
      "source": [
        "# small_train_dataset = tokenized_datasets[\"train\"].select(range(80000))  # Selecting the first 1000 examples\n",
        "\n",
        "# Now, you can pass this smaller dataset to the Trainer\n",
        "trainer = Trainer(\n",
        "    model,\n",
        "    args,\n",
        "    train_dataset=tokenized_datasets[\"train\"],\n",
        "    eval_dataset=tokenized_datasets[\"validation\"],\n",
        "    data_collator=data_collator,\n",
        "    tokenizer=tokenizer,\n",
        ")"
      ],
      "metadata": {
        "id": "imY1oC3SIrJf",
        "execution": {
          "iopub.status.busy": "2024-06-15T15:36:21.020324Z",
          "iopub.execute_input": "2024-06-15T15:36:21.020642Z",
          "iopub.status.idle": "2024-06-15T15:36:21.513490Z",
          "shell.execute_reply.started": "2024-06-15T15:36:21.020616Z",
          "shell.execute_reply": "2024-06-15T15:36:21.512264Z"
        },
        "trusted": true
      },
      "execution_count": null,
      "outputs": []
    },
    {
      "cell_type": "markdown",
      "source": [
        "We can now finetune our model by just calling the `train` method:"
      ],
      "metadata": {
        "id": "CdzABDVcIrJg"
      }
    },
    {
      "cell_type": "code",
      "source": [
        "trainer.train()"
      ],
      "metadata": {
        "id": "uNx5pyRlIrJh",
        "outputId": "077e661e-d36c-469b-89b8-7ff7f73541ec",
        "execution": {
          "iopub.status.busy": "2024-06-15T15:36:21.514947Z",
          "iopub.execute_input": "2024-06-15T15:36:21.515280Z",
          "iopub.status.idle": "2024-06-15T16:15:32.633353Z",
          "shell.execute_reply.started": "2024-06-15T15:36:21.515251Z",
          "shell.execute_reply": "2024-06-15T16:15:32.632164Z"
        },
        "trusted": true
      },
      "execution_count": null,
      "outputs": [
        {
          "output_type": "display_data",
          "data": {
            "text/plain": "<IPython.core.display.HTML object>",
            "text/html": "\n    <div>\n      \n      <progress value='3405' max='3405' style='width:300px; height:20px; vertical-align: middle;'></progress>\n      [3405/3405 39:09, Epoch 3/3]\n    </div>\n    <table border=\"1\" class=\"dataframe\">\n  <thead>\n <tr style=\"text-align: left;\">\n      <th>Epoch</th>\n      <th>Training Loss</th>\n      <th>Validation Loss</th>\n    </tr>\n  </thead>\n  <tbody>\n    <tr>\n      <td>1</td>\n      <td>1.760100</td>\n      <td>1.531993</td>\n    </tr>\n    <tr>\n      <td>2</td>\n      <td>1.416800</td>\n      <td>1.366440</td>\n    </tr>\n    <tr>\n      <td>3</td>\n      <td>1.110100</td>\n      <td>1.414183</td>\n    </tr>\n  </tbody>\n</table><p>"
          },
          "metadata": {}
        },
        {
          "execution_count": 108,
          "output_type": "execute_result",
          "data": {
            "text/plain": "TrainOutput(global_step=3405, training_loss=1.4806568924375918, metrics={'train_runtime': 2350.6469, 'train_samples_per_second': 23.174, 'train_steps_per_second': 1.449, 'total_flos': 1.0675409644827648e+16, 'train_loss': 1.4806568924375918, 'epoch': 3.0})"
          },
          "metadata": {}
        }
      ]
    },
    {
      "cell_type": "markdown",
      "source": [
        "Since this training is particularly long, let's save the model just in case we need to restart."
      ],
      "metadata": {
        "id": "MCbpvHopw2EA"
      }
    },
    {
      "cell_type": "code",
      "source": [
        "trainer.save_model(\"test-brqa-squad-augmented-trained-indic\")\n",
        "# trainer.save_model(\"test-BanglaRQA-squad-trained-indic\")"
      ],
      "metadata": {
        "id": "FM8cWwnvw2EA",
        "execution": {
          "iopub.status.busy": "2024-06-12T04:47:23.297673Z",
          "iopub.execute_input": "2024-06-12T04:47:23.298090Z",
          "iopub.status.idle": "2024-06-12T04:47:30.527270Z",
          "shell.execute_reply.started": "2024-06-12T04:47:23.298035Z",
          "shell.execute_reply": "2024-06-12T04:47:30.526110Z"
        },
        "trusted": true
      },
      "execution_count": null,
      "outputs": []
    },
    {
      "cell_type": "markdown",
      "source": [
        "## Evaluation"
      ],
      "metadata": {
        "id": "L1P5VpM4w2EA"
      }
    },
    {
      "cell_type": "markdown",
      "source": [
        "Evaluating our model will require a bit more work, as we will need to map the predictions of our model back to parts of the context. The model itself predicts logits for the start and en position of our answers: if we take a batch from our validation datalaoder, here is the output our model gives us:"
      ],
      "metadata": {
        "id": "bmOY1b2Lw2EA"
      }
    },
    {
      "cell_type": "code",
      "source": [
        "import torch\n",
        "\n",
        "for batch in trainer.get_eval_dataloader():\n",
        "    break\n",
        "batch = {k: v.to(trainer.args.device) for k, v in batch.items()}\n",
        "with torch.no_grad():\n",
        "    output = trainer.model(**batch)\n",
        "output.keys()"
      ],
      "metadata": {
        "id": "0R6UKhL7w2EA",
        "outputId": "2ccaec67-e456-42b0-ce44-4cdcb1c82353",
        "execution": {
          "iopub.status.busy": "2024-06-15T16:16:11.596112Z",
          "iopub.execute_input": "2024-06-15T16:16:11.596530Z",
          "iopub.status.idle": "2024-06-15T16:16:11.669495Z",
          "shell.execute_reply.started": "2024-06-15T16:16:11.596502Z",
          "shell.execute_reply": "2024-06-15T16:16:11.668161Z"
        },
        "trusted": true
      },
      "execution_count": null,
      "outputs": [
        {
          "execution_count": 109,
          "output_type": "execute_result",
          "data": {
            "text/plain": "odict_keys(['loss', 'start_logits', 'end_logits'])"
          },
          "metadata": {}
        }
      ]
    },
    {
      "cell_type": "markdown",
      "source": [
        "The output of the model is a dict-like object that contains the loss (since we provided labels), the start and end logits. We won't need the loss for our predictions, let's have a look a the logits:"
      ],
      "metadata": {
        "id": "CefzV1Oqw2EA"
      }
    },
    {
      "cell_type": "code",
      "source": [
        "output.start_logits.shape, output.end_logits.shape"
      ],
      "metadata": {
        "id": "VETC3NLdw2EA",
        "outputId": "5bade4c5-a3aa-4d7a-a28c-5b14713297d7",
        "execution": {
          "iopub.status.busy": "2024-06-15T16:16:11.916562Z",
          "iopub.execute_input": "2024-06-15T16:16:11.916968Z",
          "iopub.status.idle": "2024-06-15T16:16:11.925684Z",
          "shell.execute_reply.started": "2024-06-15T16:16:11.916936Z",
          "shell.execute_reply": "2024-06-15T16:16:11.924178Z"
        },
        "trusted": true
      },
      "execution_count": null,
      "outputs": [
        {
          "execution_count": 110,
          "output_type": "execute_result",
          "data": {
            "text/plain": "(torch.Size([16, 384]), torch.Size([16, 384]))"
          },
          "metadata": {}
        }
      ]
    },
    {
      "cell_type": "markdown",
      "source": [
        "We have one logit for each feature and each token. The most obvious thing to predict an answer for each featyre is to take the index for the maximum of the start logits as a start position and the index of the maximum of the end logits as an end position."
      ],
      "metadata": {
        "id": "JJnbu47hw2EA"
      }
    },
    {
      "cell_type": "code",
      "source": [
        "output.start_logits.argmax(dim=-1), output.end_logits.argmax(dim=-1)"
      ],
      "metadata": {
        "id": "h6A7QokVw2EA",
        "outputId": "8cb18000-10f7-40da-980f-4c5d433ba9d5",
        "execution": {
          "iopub.status.busy": "2024-06-15T16:16:12.262300Z",
          "iopub.execute_input": "2024-06-15T16:16:12.263239Z",
          "iopub.status.idle": "2024-06-15T16:16:12.276393Z",
          "shell.execute_reply.started": "2024-06-15T16:16:12.263202Z",
          "shell.execute_reply": "2024-06-15T16:16:12.275346Z"
        },
        "trusted": true
      },
      "execution_count": null,
      "outputs": [
        {
          "execution_count": 111,
          "output_type": "execute_result",
          "data": {
            "text/plain": "(tensor([ 96,   0, 125,   0,   0,   0, 186,   0,   0,   0,  32,   0,  25,   0,\n           0,   0], device='cuda:0'),\n tensor([103,   0,   0,   0,   0,   0,   0,   0,   0,   0,  34,   0,  25,   0,\n           0,   0], device='cuda:0'))"
          },
          "metadata": {}
        }
      ]
    },
    {
      "cell_type": "markdown",
      "source": [
        "This will work great in a lot of cases, but what if this prediction gives us something impossible: the start position could be greater than the end position, or point to a span of text in the question instead of the answer. In that case, we might want to look at the second best prediction to see if it gives a possible answer and select that instead.\n",
        "\n",
        "However, picking the second best answer is not as easy as picking the best one: is it the second best index in the start logits with the best index in the end logits? Or the best index in the start logits with the second best index in the end logits? And if that second best answer is not possible either, it gets even trickier for the third best answer.\n",
        "\n",
        "\n",
        "To classify our answers, we will use the score obtained by adding the start and end logits. We won't try to order all the possible answers and limit ourselves to with a hyper-parameter we call `n_best_size`. We'll pick the best indices in the start and end logits and gather all the answers this predicts. After checking if each one is valid, we will sort them by their score and keep the best one. Here is how we would do this on the first feature in the batch:"
      ],
      "metadata": {
        "id": "uJQJZJYRw2EA"
      }
    },
    {
      "cell_type": "code",
      "source": [
        "n_best_size = 10"
      ],
      "metadata": {
        "id": "9ffQ5ca_w2EA",
        "execution": {
          "iopub.status.busy": "2024-06-15T16:16:12.563287Z",
          "iopub.execute_input": "2024-06-15T16:16:12.563687Z",
          "iopub.status.idle": "2024-06-15T16:16:12.570022Z",
          "shell.execute_reply.started": "2024-06-15T16:16:12.563658Z",
          "shell.execute_reply": "2024-06-15T16:16:12.568774Z"
        },
        "trusted": true
      },
      "execution_count": null,
      "outputs": []
    },
    {
      "cell_type": "code",
      "source": [
        "import numpy as np\n",
        "\n",
        "start_logits = output.start_logits[0].cpu().numpy()\n",
        "end_logits = output.end_logits[0].cpu().numpy()\n",
        "# Gather the indices the best start/end logits:\n",
        "start_indexes = np.argsort(start_logits)[-1 : -n_best_size - 1 : -1].tolist()\n",
        "end_indexes = np.argsort(end_logits)[-1 : -n_best_size - 1 : -1].tolist()\n",
        "valid_answers = []\n",
        "for start_index in start_indexes:\n",
        "    for end_index in end_indexes:\n",
        "        if start_index <= end_index: # We need to refine that test to check the answer is inside the context\n",
        "            valid_answers.append(\n",
        "                {\n",
        "                    \"score\": start_logits[start_index] + end_logits[end_index],\n",
        "                    \"text\": \"\" # We need to find a way to get back the original substring corresponding to the answer in the context\n",
        "                }\n",
        "            )"
      ],
      "metadata": {
        "id": "b-adKL89w2EA",
        "execution": {
          "iopub.status.busy": "2024-06-15T16:16:12.987021Z",
          "iopub.execute_input": "2024-06-15T16:16:12.987421Z",
          "iopub.status.idle": "2024-06-15T16:16:12.997967Z",
          "shell.execute_reply.started": "2024-06-15T16:16:12.987393Z",
          "shell.execute_reply": "2024-06-15T16:16:12.996767Z"
        },
        "trusted": true
      },
      "execution_count": null,
      "outputs": []
    },
    {
      "cell_type": "markdown",
      "source": [
        "And then we can sort the `valid_answers` according to their `score` and only keep the best one. The only point left is how to check a given span is inside the context (and not the question) and how to get back the text inside. To do this, we need to add two things to our validation features:\n",
        "- the ID of the example that generated the feature (since each example can generate several features, as seen before);\n",
        "- the offset mapping that will give us a map from token indices to character positions in the context.\n",
        "\n",
        "That's why we will re-process the validation set with the following function, slightly different from `prepare_train_features`:"
      ],
      "metadata": {
        "id": "N-pXkEb3w2EA"
      }
    },
    {
      "cell_type": "code",
      "source": [
        "def prepare_validation_features(examples):\n",
        "    # Some of the questions have lots of whitespace on the left, which is not useful and will make the\n",
        "    # truncation of the context fail (the tokenized question will take a lots of space). So we remove that\n",
        "    # left whitespace\n",
        "    examples[\"question\"] = [q.lstrip() for q in examples[\"question\"]]\n",
        "\n",
        "    # Tokenize our examples with truncation and maybe padding, but keep the overflows using a stride. This results\n",
        "    # in one example possible giving several features when a context is long, each of those features having a\n",
        "    # context that overlaps a bit the context of the previous feature.\n",
        "    tokenized_examples = tokenizer(\n",
        "        examples[\"question\" if pad_on_right else \"context\"],\n",
        "        examples[\"context\" if pad_on_right else \"question\"],\n",
        "        truncation=\"only_second\" if pad_on_right else \"only_first\",\n",
        "        max_length=max_length,\n",
        "        stride=doc_stride,\n",
        "        return_overflowing_tokens=True,\n",
        "        return_offsets_mapping=True,\n",
        "        padding=\"max_length\",\n",
        "    )\n",
        "\n",
        "    # Since one example might give us several features if it has a long context, we need a map from a feature to\n",
        "    # its corresponding example. This key gives us just that.\n",
        "    sample_mapping = tokenized_examples.pop(\"overflow_to_sample_mapping\")\n",
        "\n",
        "    # We keep the example_id that gave us this feature and we will store the offset mappings.\n",
        "    tokenized_examples[\"example_id\"] = []\n",
        "\n",
        "    for i in range(len(tokenized_examples[\"input_ids\"])):\n",
        "        # Grab the sequence corresponding to that example (to know what is the context and what is the question).\n",
        "        sequence_ids = tokenized_examples.sequence_ids(i)\n",
        "        context_index = 1 if pad_on_right else 0\n",
        "\n",
        "        # One example can give several spans, this is the index of the example containing this span of text.\n",
        "        sample_index = sample_mapping[i]\n",
        "        tokenized_examples[\"example_id\"].append(examples[\"id\"][sample_index])\n",
        "\n",
        "        # Set to None the offset_mapping that are not part of the context so it's easy to determine if a token\n",
        "        # position is part of the context or not.\n",
        "        tokenized_examples[\"offset_mapping\"][i] = [\n",
        "            (o if sequence_ids[k] == context_index else None)\n",
        "            for k, o in enumerate(tokenized_examples[\"offset_mapping\"][i])\n",
        "        ]\n",
        "\n",
        "    return tokenized_examples"
      ],
      "metadata": {
        "id": "RPszZgmew2EA",
        "execution": {
          "iopub.status.busy": "2024-06-15T16:16:13.426168Z",
          "iopub.execute_input": "2024-06-15T16:16:13.426878Z",
          "iopub.status.idle": "2024-06-15T16:16:13.439996Z",
          "shell.execute_reply.started": "2024-06-15T16:16:13.426843Z",
          "shell.execute_reply": "2024-06-15T16:16:13.438266Z"
        },
        "trusted": true
      },
      "execution_count": null,
      "outputs": []
    },
    {
      "cell_type": "markdown",
      "source": [
        "And like before, we can apply that function to our validation set easily:"
      ],
      "metadata": {
        "id": "ovv2b2CEw2EB"
      }
    },
    {
      "cell_type": "code",
      "source": [
        "validation_features = datasets[\"validation\"].map(\n",
        "    prepare_validation_features,\n",
        "    batched=True,\n",
        "    remove_columns=datasets[\"validation\"].column_names\n",
        ")"
      ],
      "metadata": {
        "id": "kfzv5g0ww2EB",
        "outputId": "93fad142-d7ec-4a2f-893d-b909ca7096ea",
        "execution": {
          "iopub.status.busy": "2024-06-15T16:16:13.900296Z",
          "iopub.execute_input": "2024-06-15T16:16:13.900684Z",
          "iopub.status.idle": "2024-06-15T16:16:18.429347Z",
          "shell.execute_reply.started": "2024-06-15T16:16:13.900654Z",
          "shell.execute_reply": "2024-06-15T16:16:18.427743Z"
        },
        "trusted": true,
        "colab": {
          "referenced_widgets": [
            "3c18dcaeb421400fac60c30c192f31f9"
          ]
        }
      },
      "execution_count": null,
      "outputs": [
        {
          "name": "stdout",
          "text": "The OrderedVocab you are attempting to save contains holes for indices [1015, 1016, 1017, 1018, 1053, 1054, 1055, 1056, 1057, 1060, 1061, 1062, 1064, 1065, 1066, 1067, 1068, 1069, 1070, 1071, 1072, 1073, 1074, 1075, 1076, 1077, 1079, 1080, 1081, 1082, 1083, 1084, 1085, 1086, 1087, 1088, 1089, 1090, 1091, 1092, 1093, 1094, 1095, 1099, 1101, 1112, 1113, 1556, 1557, 1568], your vocabulary could be corrupted !\n",
          "output_type": "stream"
        },
        {
          "output_type": "display_data",
          "data": {
            "text/plain": "Map:   0%|          | 0/1182 [00:00<?, ? examples/s]",
            "application/vnd.jupyter.widget-view+json": {
              "version_major": 2,
              "version_minor": 0,
              "model_id": "3c18dcaeb421400fac60c30c192f31f9"
            }
          },
          "metadata": {}
        }
      ]
    },
    {
      "cell_type": "markdown",
      "source": [
        "Now we can grab the predictions for all features by using the `Trainer.predict` method:"
      ],
      "metadata": {
        "id": "sGpSTWzgw2EB"
      }
    },
    {
      "cell_type": "code",
      "source": [
        "raw_predictions = trainer.predict(validation_features)"
      ],
      "metadata": {
        "id": "Et4sZmqQw2EB",
        "outputId": "98a3ca75-e328-4691-d8b6-a598d4298404",
        "execution": {
          "iopub.status.busy": "2024-06-15T16:16:18.431491Z",
          "iopub.execute_input": "2024-06-15T16:16:18.432429Z",
          "iopub.status.idle": "2024-06-15T16:16:48.873803Z",
          "shell.execute_reply.started": "2024-06-15T16:16:18.432387Z",
          "shell.execute_reply": "2024-06-15T16:16:48.872680Z"
        },
        "trusted": true
      },
      "execution_count": null,
      "outputs": [
        {
          "output_type": "display_data",
          "data": {
            "text/plain": "<IPython.core.display.HTML object>",
            "text/html": ""
          },
          "metadata": {}
        }
      ]
    },
    {
      "cell_type": "markdown",
      "source": [
        "The `Trainer` *hides* the columns that are not used by the model (here `example_id` and `offset_mapping` which we will need for our post-processing), so we set them back:"
      ],
      "metadata": {
        "id": "BC1T0lh3w2EB"
      }
    },
    {
      "cell_type": "code",
      "source": [
        "validation_features.set_format(type=validation_features.format[\"type\"], columns=list(validation_features.features.keys()))"
      ],
      "metadata": {
        "id": "2Z_X9fTGw2EB",
        "execution": {
          "iopub.status.busy": "2024-06-15T16:16:48.875216Z",
          "iopub.execute_input": "2024-06-15T16:16:48.875533Z",
          "iopub.status.idle": "2024-06-15T16:16:48.883114Z",
          "shell.execute_reply.started": "2024-06-15T16:16:48.875506Z",
          "shell.execute_reply": "2024-06-15T16:16:48.881241Z"
        },
        "trusted": true
      },
      "execution_count": null,
      "outputs": []
    },
    {
      "cell_type": "markdown",
      "source": [
        "We can now refine the test we had before: since we set `None` in the offset mappings when it corresponds to a part of the question, it's easy to check if an answer is fully inside the context. We also eliminate very long answers from our considerations (with an hyper-parameter we can tune)"
      ],
      "metadata": {
        "id": "Ke82o_Faw2EB"
      }
    },
    {
      "cell_type": "code",
      "source": [
        "max_answer_length = 15"
      ],
      "metadata": {
        "id": "O486GLyuw2EB",
        "execution": {
          "iopub.status.busy": "2024-06-15T16:16:48.886285Z",
          "iopub.execute_input": "2024-06-15T16:16:48.886655Z",
          "iopub.status.idle": "2024-06-15T16:16:48.895504Z",
          "shell.execute_reply.started": "2024-06-15T16:16:48.886626Z",
          "shell.execute_reply": "2024-06-15T16:16:48.894364Z"
        },
        "trusted": true
      },
      "execution_count": null,
      "outputs": []
    },
    {
      "cell_type": "code",
      "source": [
        "start_logits = output.start_logits[0].cpu().numpy()\n",
        "end_logits = output.end_logits[0].cpu().numpy()\n",
        "offset_mapping = validation_features[0][\"offset_mapping\"]\n",
        "# The first feature comes from the first example. For the more general case, we will need to be match the example_id to\n",
        "# an example index\n",
        "context = datasets[\"validation\"][0][\"context\"]\n",
        "\n",
        "# Gather the indices the best start/end logits:\n",
        "start_indexes = np.argsort(start_logits)[-1 : -n_best_size - 1 : -1].tolist()\n",
        "end_indexes = np.argsort(end_logits)[-1 : -n_best_size - 1 : -1].tolist()\n",
        "valid_answers = []\n",
        "for start_index in start_indexes:\n",
        "    for end_index in end_indexes:\n",
        "        # Don't consider out-of-scope answers, either because the indices are out of bounds or correspond\n",
        "        # to part of the input_ids that are not in the context.\n",
        "        if (\n",
        "            start_index >= len(offset_mapping)\n",
        "            or end_index >= len(offset_mapping)\n",
        "            or offset_mapping[start_index] is None\n",
        "            or offset_mapping[end_index] is None\n",
        "        ):\n",
        "            continue\n",
        "        # Don't consider answers with a length that is either < 0 or > max_answer_length.\n",
        "        if end_index < start_index or end_index - start_index + 1 > max_answer_length:\n",
        "            continue\n",
        "        if start_index <= end_index: # We need to refine that test to check the answer is inside the context\n",
        "            start_char = offset_mapping[start_index][0]\n",
        "            end_char = offset_mapping[end_index][1]\n",
        "            valid_answers.append(\n",
        "                {\n",
        "                    \"score\": start_logits[start_index] + end_logits[end_index],\n",
        "                    \"text\": context[start_char: end_char]\n",
        "                }\n",
        "            )\n",
        "\n",
        "valid_answers = sorted(valid_answers, key=lambda x: x[\"score\"], reverse=True)[:n_best_size]\n",
        "valid_answers"
      ],
      "metadata": {
        "id": "Nd4-9OwVw2EB",
        "outputId": "8e510576-1b5b-4999-d7c0-77b524f6b91d",
        "execution": {
          "iopub.status.busy": "2024-06-15T16:16:48.896926Z",
          "iopub.execute_input": "2024-06-15T16:16:48.897207Z",
          "iopub.status.idle": "2024-06-15T16:16:48.925331Z",
          "shell.execute_reply.started": "2024-06-15T16:16:48.897182Z",
          "shell.execute_reply": "2024-06-15T16:16:48.924042Z"
        },
        "trusted": true
      },
      "execution_count": null,
      "outputs": [
        {
          "execution_count": 119,
          "output_type": "execute_result",
          "data": {
            "text/plain": "[{'score': 12.790541, 'text': 'ল্যুভর জাদুঘরে দুটি'},\n {'score': 11.724857, 'text': 'ল্যুভর'},\n {'score': 11.325287, 'text': 'ল্যুভর জা'},\n {'score': 10.995988, 'text': 'দুটি'},\n {'score': 10.4099045, 'text': 'ল্যুভর জাদুঘরে'},\n {'score': 10.1669, 'text': 'ল্যুভর জাদুঘরে দুটি সারগনিক'},\n {'score': 8.510694, 'text': 'ল্যুভর জাদুঘরে দুটি সারগনিক বিজ'},\n {'score': 8.372347, 'text': 'দুটি সারগনিক'},\n {'score': 8.316573, 'text': 'ল্যুভর জাদ'},\n {'score': 8.312844, 'text': 'ল্যুভর জাদুঘরে দ'}]"
          },
          "metadata": {}
        }
      ]
    },
    {
      "cell_type": "markdown",
      "source": [
        "We can compare to the actual ground-truth answer:"
      ],
      "metadata": {
        "id": "_SzL9tUWw2EB"
      }
    },
    {
      "cell_type": "code",
      "source": [
        "datasets[\"validation\"][0][\"answers\"]"
      ],
      "metadata": {
        "id": "omSsQ4Pjw2EB",
        "outputId": "4753889e-47ad-45a7-c07a-7e6dbeffcf1f",
        "execution": {
          "iopub.status.busy": "2024-06-15T16:16:48.926858Z",
          "iopub.execute_input": "2024-06-15T16:16:48.927703Z",
          "iopub.status.idle": "2024-06-15T16:16:48.937223Z",
          "shell.execute_reply.started": "2024-06-15T16:16:48.927663Z",
          "shell.execute_reply": "2024-06-15T16:16:48.935423Z"
        },
        "trusted": true
      },
      "execution_count": null,
      "outputs": [
        {
          "execution_count": 120,
          "output_type": "execute_result",
          "data": {
            "text/plain": "{'answer_start': [292, 292], 'text': ['ল্যুভর জাদুঘরে', 'ল্যুভর জাদুঘরে']}"
          },
          "metadata": {}
        }
      ]
    },
    {
      "cell_type": "markdown",
      "source": [
        "Our model picked the right as the most likely answer!\n",
        "\n",
        "As we mentioned in the code above, this was easy on the first feature because we knew it comes from the first example. For the other features, we will need a map between examples and their corresponding features. Also, since one example can give several features, we will need to gather together all the answers in all the features generated by a given example, then pick the best one. The following code builds a map from example index to its corresponding features indices:"
      ],
      "metadata": {
        "id": "XG5kWsMGw2EB"
      }
    },
    {
      "cell_type": "code",
      "source": [
        "import collections\n",
        "\n",
        "examples = datasets[\"validation\"]\n",
        "features = validation_features\n",
        "\n",
        "example_id_to_index = {k: i for i, k in enumerate(examples[\"id\"])}\n",
        "features_per_example = collections.defaultdict(list)\n",
        "for i, feature in enumerate(features):\n",
        "    features_per_example[example_id_to_index[feature[\"example_id\"]]].append(i)"
      ],
      "metadata": {
        "id": "7suYtpYjw2EB",
        "execution": {
          "iopub.status.busy": "2024-06-15T16:16:48.938807Z",
          "iopub.execute_input": "2024-06-15T16:16:48.939874Z",
          "iopub.status.idle": "2024-06-15T16:16:54.328747Z",
          "shell.execute_reply.started": "2024-06-15T16:16:48.939837Z",
          "shell.execute_reply": "2024-06-15T16:16:54.327557Z"
        },
        "trusted": true
      },
      "execution_count": null,
      "outputs": []
    },
    {
      "cell_type": "markdown",
      "source": [
        "We're almost ready for our post-processing function. The last bit to deal with is the impossible answer (when `squad_v2 = True`). The code above only keeps answers that are inside the context, we need to also grab the score for the impossible answer (which has start and end indices corresponding to the index of the CLS token). When one example gives several features, we have to predict the impossible answer when all the features give a high score to the impossible answer (since one feature could predict the impossible answer just because the answer isn't in the part of the context it has access too), which is why the score of the impossible answer for one example is the *minimum* of the scores for the impossible answer in each feature generated by the example.\n",
        "\n",
        "We then predict the impossible answer when that score is greater than the score of the best non-impossible answer. All combined together, this gives us this post-processing function:"
      ],
      "metadata": {
        "id": "hcB5GyLPw2EB"
      }
    },
    {
      "cell_type": "code",
      "source": [
        "from tqdm.auto import tqdm\n",
        "\n",
        "def postprocess_qa_predictions(examples, features, raw_predictions, n_best_size = 20, max_answer_length = 30):\n",
        "    all_start_logits, all_end_logits = raw_predictions\n",
        "    # Build a map example to its corresponding features.\n",
        "    example_id_to_index = {k: i for i, k in enumerate(examples[\"id\"])}\n",
        "    features_per_example = collections.defaultdict(list)\n",
        "    for i, feature in enumerate(features):\n",
        "        features_per_example[example_id_to_index[feature[\"example_id\"]]].append(i)\n",
        "\n",
        "    # The dictionaries we have to fill.\n",
        "    predictions = collections.OrderedDict()\n",
        "\n",
        "    # Logging.\n",
        "    print(f\"Post-processing {len(examples)} example predictions split into {len(features)} features.\")\n",
        "\n",
        "    # Let's loop over all the examples!\n",
        "    for example_index, example in enumerate(tqdm(examples)):\n",
        "        # Those are the indices of the features associated to the current example.\n",
        "        feature_indices = features_per_example[example_index]\n",
        "\n",
        "        min_null_score = None # Only used if squad_v2 is True.\n",
        "        valid_answers = []\n",
        "\n",
        "        context = example[\"context\"]\n",
        "        # Looping through all the features associated to the current example.\n",
        "        for feature_index in feature_indices:\n",
        "            # We grab the predictions of the model for this feature.\n",
        "            start_logits = all_start_logits[feature_index]\n",
        "            end_logits = all_end_logits[feature_index]\n",
        "            # This is what will allow us to map some the positions in our logits to span of texts in the original\n",
        "            # context.\n",
        "            offset_mapping = features[feature_index][\"offset_mapping\"]\n",
        "\n",
        "            # Update minimum null prediction.\n",
        "            cls_index = features[feature_index][\"input_ids\"].index(tokenizer.cls_token_id)\n",
        "            feature_null_score = start_logits[cls_index] + end_logits[cls_index]\n",
        "            if min_null_score is None or min_null_score < feature_null_score:\n",
        "                min_null_score = feature_null_score\n",
        "\n",
        "            # Go through all possibilities for the `n_best_size` greater start and end logits.\n",
        "            start_indexes = np.argsort(start_logits)[-1 : -n_best_size - 1 : -1].tolist()\n",
        "            end_indexes = np.argsort(end_logits)[-1 : -n_best_size - 1 : -1].tolist()\n",
        "            for start_index in start_indexes:\n",
        "                for end_index in end_indexes:\n",
        "                    # Don't consider out-of-scope answers, either because the indices are out of bounds or correspond\n",
        "                    # to part of the input_ids that are not in the context.\n",
        "                    if (\n",
        "                        start_index >= len(offset_mapping)\n",
        "                        or end_index >= len(offset_mapping)\n",
        "                        or offset_mapping[start_index] is None\n",
        "                        or offset_mapping[end_index] is None\n",
        "                    ):\n",
        "                        continue\n",
        "                    # Don't consider answers with a length that is either < 0 or > max_answer_length.\n",
        "                    if end_index < start_index or end_index - start_index + 1 > max_answer_length:\n",
        "                        continue\n",
        "\n",
        "                    start_char = offset_mapping[start_index][0]\n",
        "                    end_char = offset_mapping[end_index][1]\n",
        "                    valid_answers.append(\n",
        "                        {\n",
        "                            \"score\": start_logits[start_index] + end_logits[end_index],\n",
        "                            \"text\": context[start_char: end_char]\n",
        "                        }\n",
        "                    )\n",
        "\n",
        "        if len(valid_answers) > 0:\n",
        "            best_answer = sorted(valid_answers, key=lambda x: x[\"score\"], reverse=True)[0]\n",
        "        else:\n",
        "            # In the very rare edge case we have not a single non-null prediction, we create a fake prediction to avoid\n",
        "            # failure.\n",
        "            best_answer = {\"text\": \"\", \"score\": 0.0}\n",
        "\n",
        "        # Let's pick our final answer: the best one or the null answer (only for squad_v2)\n",
        "        if not squad_v2:\n",
        "            predictions[example[\"id\"]] = best_answer[\"text\"]\n",
        "        else:\n",
        "            answer = best_answer[\"text\"] if best_answer[\"score\"] > min_null_score else \"\"\n",
        "            predictions[example[\"id\"]] = answer\n",
        "\n",
        "    return predictions"
      ],
      "metadata": {
        "id": "ASgyIP4Rw2EB",
        "execution": {
          "iopub.status.busy": "2024-06-15T16:16:54.330796Z",
          "iopub.execute_input": "2024-06-15T16:16:54.331240Z",
          "iopub.status.idle": "2024-06-15T16:16:54.349563Z",
          "shell.execute_reply.started": "2024-06-15T16:16:54.331202Z",
          "shell.execute_reply": "2024-06-15T16:16:54.348569Z"
        },
        "trusted": true
      },
      "execution_count": null,
      "outputs": []
    },
    {
      "cell_type": "markdown",
      "source": [
        "And we can apply our post-processing function to our raw predictions:"
      ],
      "metadata": {
        "id": "4sSSQRBlw2EC"
      }
    },
    {
      "cell_type": "code",
      "source": [
        "final_predictions = postprocess_qa_predictions(datasets[\"validation\"], validation_features, raw_predictions.predictions)"
      ],
      "metadata": {
        "id": "p593YBskw2EC",
        "outputId": "5a280295-d51a-42b2-cef2-4f5e119a979e",
        "execution": {
          "iopub.status.busy": "2024-06-15T16:16:54.350877Z",
          "iopub.execute_input": "2024-06-15T16:16:54.351176Z",
          "iopub.status.idle": "2024-06-15T16:17:13.147891Z",
          "shell.execute_reply.started": "2024-06-15T16:16:54.351150Z",
          "shell.execute_reply": "2024-06-15T16:17:13.146328Z"
        },
        "trusted": true,
        "colab": {
          "referenced_widgets": [
            "10a69a5738eb4baeb2df306bd8849b34"
          ]
        }
      },
      "execution_count": null,
      "outputs": [
        {
          "name": "stdout",
          "text": "Post-processing 1182 example predictions split into 2279 features.\n",
          "output_type": "stream"
        },
        {
          "output_type": "display_data",
          "data": {
            "text/plain": "  0%|          | 0/1182 [00:00<?, ?it/s]",
            "application/vnd.jupyter.widget-view+json": {
              "version_major": 2,
              "version_minor": 0,
              "model_id": "10a69a5738eb4baeb2df306bd8849b34"
            }
          },
          "metadata": {}
        }
      ]
    },
    {
      "cell_type": "markdown",
      "source": [
        "Then we can load the metric from the datasets library."
      ],
      "metadata": {
        "id": "NanNCGPVw2EC"
      }
    },
    {
      "cell_type": "code",
      "source": [
        "\n",
        "!pip install evaluate -q"
      ],
      "metadata": {
        "execution": {
          "iopub.status.busy": "2024-06-15T16:17:13.152917Z",
          "iopub.execute_input": "2024-06-15T16:17:13.153378Z",
          "iopub.status.idle": "2024-06-15T16:17:27.210424Z",
          "shell.execute_reply.started": "2024-06-15T16:17:13.153337Z",
          "shell.execute_reply": "2024-06-15T16:17:27.209156Z"
        },
        "trusted": true,
        "id": "ABey_t1sFlX2",
        "outputId": "6c82e8b7-ac5d-47bd-ff4b-bbbb96aef47a"
      },
      "execution_count": null,
      "outputs": [
        {
          "name": "stderr",
          "text": "/opt/conda/lib/python3.10/pty.py:89: RuntimeWarning: os.fork() was called. os.fork() is incompatible with multithreaded code, and JAX is multithreaded, so this will likely lead to a deadlock.\n  pid, fd = os.forkpty()\n",
          "output_type": "stream"
        }
      ]
    },
    {
      "cell_type": "code",
      "source": [
        "import evaluate\n",
        "\n",
        "metric = evaluate.load(\"squad_v2\")"
      ],
      "metadata": {
        "id": "SxSZEwIkw2EC",
        "execution": {
          "iopub.status.busy": "2024-06-15T16:17:27.211961Z",
          "iopub.execute_input": "2024-06-15T16:17:27.212309Z",
          "iopub.status.idle": "2024-06-15T16:17:27.568210Z",
          "shell.execute_reply.started": "2024-06-15T16:17:27.212266Z",
          "shell.execute_reply": "2024-06-15T16:17:27.567088Z"
        },
        "trusted": true
      },
      "execution_count": null,
      "outputs": []
    },
    {
      "cell_type": "code",
      "source": [
        "theoretical_answers = [\n",
        "    {\"id\": ex[\"id\"], \"answers\": ex[\"answers\"]} for ex in datasets[\"validation\"]\n",
        "]"
      ],
      "metadata": {
        "execution": {
          "iopub.status.busy": "2024-06-15T16:17:27.569554Z",
          "iopub.execute_input": "2024-06-15T16:17:27.569942Z",
          "iopub.status.idle": "2024-06-15T16:17:27.720942Z",
          "shell.execute_reply.started": "2024-06-15T16:17:27.569905Z",
          "shell.execute_reply": "2024-06-15T16:17:27.716684Z"
        },
        "trusted": true,
        "id": "qKqWuUh0FlX2"
      },
      "execution_count": null,
      "outputs": []
    },
    {
      "cell_type": "code",
      "source": [
        " formatted_predictions = [{\"id\": k, \"prediction_text\": v} for k, v in final_predictions.items()]\n",
        "formatted_predictions = [{\"id\": k, \"prediction_text\": v, \"no_answer_probability\": 0.0} for k, v in final_predictions.items()]\n",
        ""
      ],
      "metadata": {
        "execution": {
          "iopub.status.busy": "2024-06-15T16:17:27.722789Z",
          "iopub.execute_input": "2024-06-15T16:17:27.723237Z",
          "iopub.status.idle": "2024-06-15T16:17:27.734525Z",
          "shell.execute_reply.started": "2024-06-15T16:17:27.723196Z",
          "shell.execute_reply": "2024-06-15T16:17:27.733165Z"
        },
        "trusted": true,
        "id": "6J2MuTBwFlX2"
      },
      "execution_count": null,
      "outputs": []
    },
    {
      "cell_type": "code",
      "source": [
        "for pred, true in zip(formatted_predictions, theoretical_answers):\n",
        "    print(\"ID:\", pred[\"id\"])\n",
        "    print(\"Predicted Answer:\", pred[\"prediction_text\"])\n",
        "    print(\"True Answer:\", true[\"answers\"])\n",
        "    print()"
      ],
      "metadata": {
        "trusted": true,
        "id": "BsqXpfoBFlX3"
      },
      "execution_count": null,
      "outputs": []
    },
    {
      "cell_type": "code",
      "source": [
        "theoretical_answers[2]\n",
        ""
      ],
      "metadata": {
        "execution": {
          "iopub.status.busy": "2024-06-15T16:17:28.571541Z",
          "iopub.execute_input": "2024-06-15T16:17:28.571960Z",
          "iopub.status.idle": "2024-06-15T16:17:28.580878Z",
          "shell.execute_reply.started": "2024-06-15T16:17:28.571924Z",
          "shell.execute_reply": "2024-06-15T16:17:28.579726Z"
        },
        "trusted": true,
        "id": "j4NsblLWFlX3",
        "outputId": "ce13716e-d6de-4d04-fdaf-6d29aa7e1f1c"
      },
      "execution_count": null,
      "outputs": [
        {
          "execution_count": 129,
          "output_type": "execute_result",
          "data": {
            "text/plain": "{'id': 'bn_wiki_2812_03',\n 'answers': {'answer_start': [399, 399],\n  'text': ['দ্বাদশ শতাব্দীতে', 'দ্বাদশ শতাব্দীতে']}}"
          },
          "metadata": {}
        }
      ]
    },
    {
      "cell_type": "markdown",
      "source": [
        "Then we can call compute on it. We just need to format predictions and labels a bit as it expects a list of dictionaries and not one big dictionary. In the case of squad_v2, we also have to set a `no_answer_probability` argument (which we set to 0.0 here as we have already set the answer to empty if we picked it)."
      ],
      "metadata": {
        "id": "gi-AbCjpw2EC"
      }
    },
    {
      "cell_type": "code",
      "source": [
        "metric.compute(predictions=formatted_predictions, references=theoretical_answers)"
      ],
      "metadata": {
        "execution": {
          "iopub.status.busy": "2024-06-15T16:17:28.582255Z",
          "iopub.execute_input": "2024-06-15T16:17:28.582622Z",
          "iopub.status.idle": "2024-06-15T16:17:28.860754Z",
          "shell.execute_reply.started": "2024-06-15T16:17:28.582590Z",
          "shell.execute_reply": "2024-06-15T16:17:28.859645Z"
        },
        "trusted": true,
        "id": "0F21e4SKFlX3",
        "outputId": "d7050d89-7af9-4444-e0a2-761baaf2c11c"
      },
      "execution_count": null,
      "outputs": [
        {
          "execution_count": 130,
          "output_type": "execute_result",
          "data": {
            "text/plain": "{'exact': 18.95093062605753,\n 'f1': 29.891786130011873,\n 'total': 1182,\n 'HasAns_exact': 25.806451612903224,\n 'HasAns_f1': 40.705174200085295,\n 'HasAns_total': 868,\n 'NoAns_exact': 0.0,\n 'NoAns_f1': 0.0,\n 'NoAns_total': 314,\n 'best_exact': 26.73434856175973,\n 'best_exact_thresh': 0.0,\n 'best_f1': 31.799368113736023,\n 'best_f1_thresh': 0.0}"
          },
          "metadata": {}
        }
      ]
    },
    {
      "cell_type": "code",
      "source": [
        "context = 'পৃথিবী বাঁচার সম্পর্কে জানা গেছে যে জলবায়ু পরিবর্তনের কারণে একটি প্রধান সংকেত বৃদ্ধি পাবে বিপ্লবী পরিবেশ। জলবায়ু পরিবর্তনের মোট প্রভাব ও প্রতিক্রিয়া এখনো সম্পূর্ণ জানা নেই। তবে, এটির সাথে সম্পর্কিত অনেক কারণ ও কারণ সমূহ অবশ্যই বিবেচনা করা উচিত। এটি মানুষের জীবনের অনেক দিক প্রভাবিত করতে পারে, যেমন আপেক্ষিক তাপমাত্রা, সমুদ্র স্তর, ও জলপাই ঘাতক প্রাকৃতিক ঘটনা সহ।'\n",
        "question='কোন উপায়ে মানুষের কার্বন নির্গত অংশ কমিয়ে তুলতে পারে এবং পরিবেশের জলবায়ু পরিবর্তনের প্রতিরোধ করতে সাহায্য করতে পারে?'"
      ],
      "metadata": {
        "execution": {
          "iopub.status.busy": "2024-06-15T16:17:28.862179Z",
          "iopub.execute_input": "2024-06-15T16:17:28.862582Z",
          "iopub.status.idle": "2024-06-15T16:17:28.870612Z",
          "shell.execute_reply.started": "2024-06-15T16:17:28.862545Z",
          "shell.execute_reply": "2024-06-15T16:17:28.869665Z"
        },
        "trusted": true,
        "id": "7oA4p63XFlX4"
      },
      "execution_count": null,
      "outputs": []
    },
    {
      "cell_type": "code",
      "source": [
        "import torch\n",
        "\n",
        "# Tokenize inputs\n",
        "tokenized_input = tokenizer.encode_plus(context, question, return_tensors=\"pt\")\n",
        "\n",
        "# Print tokenized input\n",
        "print(\"Tokenized Input:\", tokenized_input)\n",
        "\n",
        "# Model Inference\n",
        "with torch.no_grad():\n",
        "    # Move input tensors to the same device as the model\n",
        "    tokenized_input = {key: value.to(model.device) for key, value in tokenized_input.items()}\n",
        "    # Forward pass\n",
        "    outputs = model(**tokenized_input)\n",
        "    start_logits, end_logits = outputs.start_logits, outputs.end_logits\n",
        "\n",
        "# Decode Answers\n",
        "start_index = torch.argmax(start_logits)\n",
        "end_index = torch.argmax(end_logits)\n",
        "answer_span = tokenized_input['input_ids'][0][start_index : end_index + 1]\n",
        "\n",
        "# Post-processing\n",
        "answer = tokenizer.decode(answer_span)\n",
        "\n",
        "print(\"Predicted Answer:\", answer)\n",
        "print(\"Start Logits:\", start_logits)\n",
        "print(\"End Logits:\", end_logits)\n"
      ],
      "metadata": {
        "id": "6X8dijfrw2EC",
        "outputId": "18856d34-b382-44d8-ecde-b8637000f5e8",
        "execution": {
          "iopub.status.busy": "2024-06-15T16:17:28.872015Z",
          "iopub.execute_input": "2024-06-15T16:17:28.872282Z",
          "iopub.status.idle": "2024-06-15T16:17:28.917196Z",
          "shell.execute_reply.started": "2024-06-15T16:17:28.872257Z",
          "shell.execute_reply": "2024-06-15T16:17:28.915977Z"
        },
        "trusted": true
      },
      "execution_count": null,
      "outputs": [
        {
          "name": "stdout",
          "text": "Tokenized Input: {'input_ids': tensor([[  101,  2415, 21701,  2765, 37053,  2046,  7505, 12041,  2071,  2295,\n          2149,  2060,  4368,  4393,  9294, 96754,  2040,  2147,  2051,  2076,\n         21992,  6311, 26535, 19349,  3428, 37320, 44929,  2765,  2679,  1014,\n          4368,  4393,  9294, 96754,  2040,  2446, 21327,  2076, 14504,  2038,\n         50569,  3924,  5561,  7724,  2112,  2094,  2395,  7505, 12041,  2772,\n          2295,  2128,  1014,  2087,  1011,  5182,  2179,  7505, 12041, 59134,\n          2115,  2164,  2038,  2164,  7505,  5694, 26465,  9294,  2062,  3388,\n          2047,  2351,  1014,  2135,  3175, 47678,  2960,  2115,  2753,  2076,\n         53609,  3283,  2059,  2083,  1011,  2292, 67162, 77260,  3924,  8230,\n         32641,  2429,  1011,  7505, 23054, 36079,  2046,  1011,  2038, 11012,\n         14018,  6407, 81528,  3012,  2367,  3169,  1014,   102,  2285,  5803,\n         43006,  8844,  3175, 47678,  3697, 12532, 21962,  4359,  2202, 46972,\n          8844, 14973,  2200,  2083,  2042,  6359,  4368,  4393,  9294, 96754,\n          2040, 50569,  4999,  2094, 41100,  2059,  6475,  9294,  9294,  2059,\n          2083,  1045,   102]]), 'token_type_ids': tensor([[0, 0, 0, 0, 0, 0, 0, 0, 0, 0, 0, 0, 0, 0, 0, 0, 0, 0, 0, 0, 0, 0, 0, 0,\n         0, 0, 0, 0, 0, 0, 0, 0, 0, 0, 0, 0, 0, 0, 0, 0, 0, 0, 0, 0, 0, 0, 0, 0,\n         0, 0, 0, 0, 0, 0, 0, 0, 0, 0, 0, 0, 0, 0, 0, 0, 0, 0, 0, 0, 0, 0, 0, 0,\n         0, 0, 0, 0, 0, 0, 0, 0, 0, 0, 0, 0, 0, 0, 0, 0, 0, 0, 0, 0, 0, 0, 0, 0,\n         0, 0, 0, 0, 0, 0, 0, 0, 0, 0, 0, 0, 1, 1, 1, 1, 1, 1, 1, 1, 1, 1, 1, 1,\n         1, 1, 1, 1, 1, 1, 1, 1, 1, 1, 1, 1, 1, 1, 1, 1, 1, 1, 1, 1, 1, 1, 1]]), 'attention_mask': tensor([[1, 1, 1, 1, 1, 1, 1, 1, 1, 1, 1, 1, 1, 1, 1, 1, 1, 1, 1, 1, 1, 1, 1, 1,\n         1, 1, 1, 1, 1, 1, 1, 1, 1, 1, 1, 1, 1, 1, 1, 1, 1, 1, 1, 1, 1, 1, 1, 1,\n         1, 1, 1, 1, 1, 1, 1, 1, 1, 1, 1, 1, 1, 1, 1, 1, 1, 1, 1, 1, 1, 1, 1, 1,\n         1, 1, 1, 1, 1, 1, 1, 1, 1, 1, 1, 1, 1, 1, 1, 1, 1, 1, 1, 1, 1, 1, 1, 1,\n         1, 1, 1, 1, 1, 1, 1, 1, 1, 1, 1, 1, 1, 1, 1, 1, 1, 1, 1, 1, 1, 1, 1, 1,\n         1, 1, 1, 1, 1, 1, 1, 1, 1, 1, 1, 1, 1, 1, 1, 1, 1, 1, 1, 1, 1, 1, 1]])}\nPredicted Answer: [CLS]\nStart Logits: tensor([[ 4.3395, -2.8876, -8.3012, -8.1855, -6.4529, -7.3566, -6.9940, -8.8108,\n         -8.0185, -4.8803, -6.2676, -3.0920, -2.4744, -8.2482, -9.0657, -6.9918,\n         -7.3104, -7.4851, -3.9663, -4.6169, -9.0099, -6.8742, -5.9281, -8.0416,\n         -6.0703, -4.6515, -8.9681, -7.3131, -5.8038, -4.0417, -3.6265, -8.4361,\n         -8.8463, -7.1976, -7.0293, -6.5081, -8.0805, -5.5713, -8.2897, -6.5721,\n         -6.3822, -9.3016, -9.2049, -8.5780, -6.5429, -6.8912, -6.5083, -5.7386,\n         -8.6458, -8.6420, -5.2396, -5.3032, -4.2562, -6.4843, -6.0493, -5.7187,\n         -6.0359, -4.8189, -8.6246, -8.4222, -4.0347, -5.1338, -6.3164, -5.5098,\n         -5.5652, -8.2341, -7.3631, -9.0276, -7.6611, -5.9998, -6.9072, -5.0491,\n         -4.5024, -5.1392, -3.0890, -9.7776, -5.9287, -6.6005, -8.6197, -7.6453,\n         -9.4747, -7.6918, -7.7033, -7.4310, -7.1424, -6.9090, -3.7552, -7.9275,\n         -7.9478, -4.9195, -8.6378, -7.4025, -6.4188, -3.3919, -8.4985, -7.6802,\n         -9.1210, -7.2115, -4.9935, -3.1840, -3.2634, -4.5247, -9.1992, -8.4167,\n         -5.3767, -7.3377, -4.4622, -1.2253, -2.4649, -7.2989, -5.3191, -8.0062,\n         -4.8804, -7.3471, -4.0755, -6.5739, -5.1641, -7.2208, -6.5801, -3.8973,\n         -8.4401, -7.3469, -8.1278, -6.9740, -5.2763, -3.6073, -4.5729, -6.0614,\n         -7.4958, -3.7656, -7.1744, -2.9077, -7.1485, -7.7320, -8.2384, -6.6127,\n         -4.1245, -8.1861, -7.9740, -6.3707, -6.6895, -6.2200, -4.3452]],\n       device='cuda:0')\nEnd Logits: tensor([[ 3.8646, -8.2319, -8.1371, -7.7747, -7.9576, -6.8723, -9.2322, -6.7571,\n         -6.1280, -6.9226, -5.1570, -6.1342, -7.6632, -8.3469, -8.4735, -7.7779,\n         -6.7262, -5.4065, -7.2959, -7.7076, -7.9811, -5.8924, -8.7441, -7.6087,\n         -5.9648, -7.8481, -8.1212, -8.2479, -2.8681, -2.5824, -6.9047, -7.7674,\n         -8.4356, -7.5400, -7.3857, -9.1100, -6.6899, -6.2162, -6.4820, -7.1119,\n         -8.8568, -8.0635, -7.6037, -5.2153, -7.7579, -7.4735, -7.6924, -8.9496,\n         -8.8999, -6.7825, -5.5778, -3.8373, -2.7160, -6.7373, -8.1694, -7.7343,\n         -8.1855, -8.7735, -9.0440, -8.1008, -6.9840, -5.7285, -7.2952, -4.5153,\n         -8.0425, -6.5268, -7.0262, -6.7418, -6.1348, -7.4773, -6.7045, -3.5048,\n         -2.9072, -8.0555, -8.9924, -5.8873, -7.4117, -7.8055, -6.5452, -7.8762,\n         -9.0171, -8.1005, -8.3243, -4.9074, -6.5060, -7.1741, -8.4863, -8.8989,\n         -7.3746, -6.8999, -7.5574, -4.8946, -6.3554, -8.2578, -7.5103, -7.3852,\n         -4.9467, -6.8620, -7.1729, -4.4632, -2.4500, -5.9783, -8.2724, -5.1929,\n         -3.4038, -4.1120, -3.0317, -2.2254, -6.0917, -7.5381, -7.4330, -6.3015,\n         -6.1812, -5.8878, -7.5620, -5.3927, -6.8619, -6.1684, -5.2042, -8.2115,\n         -6.3530, -6.3096, -4.7650, -2.5555, -4.0522, -5.1064, -5.1768, -5.5764,\n         -6.4236, -4.4036, -4.8031, -5.9968, -4.6860, -4.9094, -6.2001, -7.2232,\n         -4.9208, -5.9950, -7.0011, -7.5436, -2.3072, -4.5759, -3.8996]],\n       device='cuda:0')\n",
          "output_type": "stream"
        }
      ]
    },
    {
      "cell_type": "code",
      "source": [
        "print(answer)"
      ],
      "metadata": {
        "execution": {
          "iopub.status.busy": "2024-06-15T16:17:28.918745Z",
          "iopub.execute_input": "2024-06-15T16:17:28.919061Z",
          "iopub.status.idle": "2024-06-15T16:17:28.925236Z",
          "shell.execute_reply.started": "2024-06-15T16:17:28.919036Z",
          "shell.execute_reply": "2024-06-15T16:17:28.924140Z"
        },
        "trusted": true,
        "id": "C0ys2_WFFlX4",
        "outputId": "aa58e126-8a7f-4587-ab4e-5f2a1148aad1"
      },
      "execution_count": null,
      "outputs": [
        {
          "name": "stdout",
          "text": "[CLS]\n",
          "output_type": "stream"
        }
      ]
    },
    {
      "cell_type": "markdown",
      "source": [
        "You can now upload the result of the training to the Hub, just execute this instruction:"
      ],
      "metadata": {
        "id": "pRhdqJq8w2EC"
      }
    },
    {
      "cell_type": "code",
      "source": [
        "trainer.push_to_hub()"
      ],
      "metadata": {
        "id": "23qNplt8w2EC",
        "execution": {
          "iopub.status.busy": "2024-06-15T16:20:19.397627Z",
          "iopub.execute_input": "2024-06-15T16:20:19.398559Z",
          "iopub.status.idle": "2024-06-15T16:20:24.672809Z",
          "shell.execute_reply.started": "2024-06-15T16:20:19.398524Z",
          "shell.execute_reply": "2024-06-15T16:20:24.671780Z"
        },
        "trusted": true,
        "outputId": "420476db-a660-4d2d-f984-f23b703a6ade"
      },
      "execution_count": null,
      "outputs": [
        {
          "name": "stdout",
          "text": "The OrderedVocab you are attempting to save contains holes for indices [1015, 1016, 1017, 1018, 1053, 1054, 1055, 1056, 1057, 1060, 1061, 1062, 1064, 1065, 1066, 1067, 1068, 1069, 1070, 1071, 1072, 1073, 1074, 1075, 1076, 1077, 1079, 1080, 1081, 1082, 1083, 1084, 1085, 1086, 1087, 1088, 1089, 1090, 1091, 1092, 1093, 1094, 1095, 1099, 1101, 1112, 1113, 1556, 1557, 1568], your vocabulary could be corrupted !\n",
          "output_type": "stream"
        },
        {
          "execution_count": 135,
          "output_type": "execute_result",
          "data": {
            "text/plain": "CommitInfo(commit_url='https://huggingface.co/shakun42/bangla-bert-base-finetuned-brqa-confirmation/commit/6231d2718a84405a198bc5c78162c84a229eed56', commit_message='End of training', commit_description='', oid='6231d2718a84405a198bc5c78162c84a229eed56', pr_url=None, pr_revision=None, pr_num=None)"
          },
          "metadata": {}
        }
      ]
    },
    {
      "cell_type": "markdown",
      "source": [
        "You can now share this model with all your friends, family, favorite pets: they can all load it with the identifier `\"your-username/the-name-you-picked\"` so for instance:\n",
        "\n",
        "```python\n",
        "from transformers import AutoModelForQuestionAnswering\n",
        "\n",
        "model = AutoModelForQuestionAnswering.from_pretrained(\"sgugger/my-awesome-model\")\n",
        "```"
      ],
      "metadata": {
        "id": "7jVZosDPw2EC"
      }
    },
    {
      "cell_type": "code",
      "source": [
        "from transformers import AutoModelForQuestionAnswering, AutoTokenizer, pipeline\n",
        "\n",
        "model_name = \"shakun42/bangla-bert-base-finetuned-brqa-confirmation\"\n",
        "model = AutoModelForQuestionAnswering.from_pretrained(model_name)\n",
        "tokenizer = AutoTokenizer.from_pretrained(model_name)\n",
        "\n",
        "nlp = pipeline('question-answering', model=model_name, tokenizer=model_name)\n"
      ],
      "metadata": {
        "id": "9p-yLV09w2EC",
        "execution": {
          "iopub.status.busy": "2024-06-15T16:20:51.687359Z",
          "iopub.execute_input": "2024-06-15T16:20:51.687737Z",
          "iopub.status.idle": "2024-06-15T16:21:00.389188Z",
          "shell.execute_reply.started": "2024-06-15T16:20:51.687710Z",
          "shell.execute_reply": "2024-06-15T16:21:00.388051Z"
        },
        "trusted": true,
        "colab": {
          "referenced_widgets": [
            "3a302c9ecc7640e9baadad4d6aebc816",
            "44920fc402664c9792771a206870c40c",
            "b44720cf6a6a49b3a7eb2e76df18018a",
            "8b8dd66d25cf4468ada876395faae283",
            "caf05e019fde46e780960424e7ef318b",
            "665547d9007c41338469cd24e218910d"
          ]
        },
        "outputId": "5852f3e1-2e8d-4ce0-cbb4-a92ff301431a"
      },
      "execution_count": null,
      "outputs": [
        {
          "output_type": "display_data",
          "data": {
            "text/plain": "config.json:   0%|          | 0.00/650 [00:00<?, ?B/s]",
            "application/vnd.jupyter.widget-view+json": {
              "version_major": 2,
              "version_minor": 0,
              "model_id": "3a302c9ecc7640e9baadad4d6aebc816"
            }
          },
          "metadata": {}
        },
        {
          "output_type": "display_data",
          "data": {
            "text/plain": "model.safetensors:   0%|          | 0.00/655M [00:00<?, ?B/s]",
            "application/vnd.jupyter.widget-view+json": {
              "version_major": 2,
              "version_minor": 0,
              "model_id": "44920fc402664c9792771a206870c40c"
            }
          },
          "metadata": {}
        },
        {
          "output_type": "display_data",
          "data": {
            "text/plain": "tokenizer_config.json:   0%|          | 0.00/1.27k [00:00<?, ?B/s]",
            "application/vnd.jupyter.widget-view+json": {
              "version_major": 2,
              "version_minor": 0,
              "model_id": "b44720cf6a6a49b3a7eb2e76df18018a"
            }
          },
          "metadata": {}
        },
        {
          "output_type": "display_data",
          "data": {
            "text/plain": "vocab.txt:   0%|          | 0.00/2.24M [00:00<?, ?B/s]",
            "application/vnd.jupyter.widget-view+json": {
              "version_major": 2,
              "version_minor": 0,
              "model_id": "8b8dd66d25cf4468ada876395faae283"
            }
          },
          "metadata": {}
        },
        {
          "output_type": "display_data",
          "data": {
            "text/plain": "tokenizer.json:   0%|          | 0.00/3.86M [00:00<?, ?B/s]",
            "application/vnd.jupyter.widget-view+json": {
              "version_major": 2,
              "version_minor": 0,
              "model_id": "caf05e019fde46e780960424e7ef318b"
            }
          },
          "metadata": {}
        },
        {
          "output_type": "display_data",
          "data": {
            "text/plain": "special_tokens_map.json:   0%|          | 0.00/125 [00:00<?, ?B/s]",
            "application/vnd.jupyter.widget-view+json": {
              "version_major": 2,
              "version_minor": 0,
              "model_id": "665547d9007c41338469cd24e218910d"
            }
          },
          "metadata": {}
        }
      ]
    },
    {
      "cell_type": "code",
      "source": [
        "qa_input = {\n",
        "    'question': 'লালন ফকির কোন সঙ্গীতধারার প্রধান ব্যক্তিত্ব?',\n",
        "    'context': 'বাংলায় বাউল সংগীত একটি জনপ্রিয় সঙ্গীতধারা। লালন ফকির বাউল গানের একজন প্রধান ব্যক্তিত্ব। তার গানগুলির মধ্যে দার্শনিক ও আধ্যাত্মিক বিষয়বস্তু আছে।'\n",
        "}\n",
        "result = nlp(qa_input)\n",
        "print(result)"
      ],
      "metadata": {
        "execution": {
          "iopub.status.busy": "2024-06-15T16:21:00.393229Z",
          "iopub.execute_input": "2024-06-15T16:21:00.393568Z",
          "iopub.status.idle": "2024-06-15T16:21:00.522944Z",
          "shell.execute_reply.started": "2024-06-15T16:21:00.393539Z",
          "shell.execute_reply": "2024-06-15T16:21:00.521559Z"
        },
        "trusted": true,
        "id": "DOnrM8KJFlX5",
        "outputId": "cb4ab8d5-a57b-404f-e46b-2fb36c86f0c2"
      },
      "execution_count": null,
      "outputs": [
        {
          "name": "stdout",
          "text": "{'score': 0.16350600123405457, 'start': 55, 'end': 65, 'answer': 'বাউল গানের'}\n",
          "output_type": "stream"
        }
      ]
    },
    {
      "cell_type": "code",
      "source": [],
      "metadata": {
        "id": "VpNT2jC7FlX6"
      },
      "execution_count": null,
      "outputs": []
    }
  ]
}