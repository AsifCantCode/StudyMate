{
  "metadata": {
    "colab": {
      "provenance": []
    },
    "kernelspec": {
      "name": "python3",
      "display_name": "Python 3",
      "language": "python"
    },
    "language_info": {
      "name": "python",
      "version": "3.10.13",
      "mimetype": "text/x-python",
      "codemirror_mode": {
        "name": "ipython",
        "version": 3
      },
      "pygments_lexer": "ipython3",
      "nbconvert_exporter": "python",
      "file_extension": ".py"
    },
    "kaggle": {
      "accelerator": "gpu",
      "dataSources": [
        {
          "sourceId": 8604663,
          "sourceType": "datasetVersion",
          "datasetId": 5148683
        }
      ],
      "dockerImageVersionId": 30733,
      "isInternetEnabled": true,
      "language": "python",
      "sourceType": "notebook",
      "isGpuEnabled": true
    }
  },
  "nbformat_minor": 0,
  "nbformat": 4,
  "cells": [
    {
      "cell_type": "markdown",
      "source": [
        "If you're opening this Notebook on colab, you will probably need to install 🤗 Transformers and 🤗 Datasets. Uncomment the following cell and run it."
      ],
      "metadata": {
        "id": "X4cRE8IbIrIV"
      }
    },
    {
      "cell_type": "code",
      "source": [
        "! pip install datasets transformers"
      ],
      "metadata": {
        "id": "MOsHUjgdIrIW",
        "execution": {
          "iopub.status.busy": "2024-06-15T14:38:11.882777Z",
          "iopub.execute_input": "2024-06-15T14:38:11.883443Z",
          "iopub.status.idle": "2024-06-15T14:38:27.135156Z",
          "shell.execute_reply.started": "2024-06-15T14:38:11.883411Z",
          "shell.execute_reply": "2024-06-15T14:38:27.134181Z"
        },
        "trusted": true,
        "outputId": "704fc4bf-5de9-46f0-81df-8e8fcd4c90d1"
      },
      "execution_count": null,
      "outputs": [
        {
          "name": "stdout",
          "text": "Requirement already satisfied: datasets in /opt/conda/lib/python3.10/site-packages (2.19.2)\nRequirement already satisfied: transformers in /opt/conda/lib/python3.10/site-packages (4.41.2)\nRequirement already satisfied: filelock in /opt/conda/lib/python3.10/site-packages (from datasets) (3.13.1)\nRequirement already satisfied: numpy>=1.17 in /opt/conda/lib/python3.10/site-packages (from datasets) (1.26.4)\nRequirement already satisfied: pyarrow>=12.0.0 in /opt/conda/lib/python3.10/site-packages (from datasets) (14.0.2)\nRequirement already satisfied: pyarrow-hotfix in /opt/conda/lib/python3.10/site-packages (from datasets) (0.6)\nRequirement already satisfied: dill<0.3.9,>=0.3.0 in /opt/conda/lib/python3.10/site-packages (from datasets) (0.3.8)\nRequirement already satisfied: pandas in /opt/conda/lib/python3.10/site-packages (from datasets) (2.2.1)\nRequirement already satisfied: requests>=2.32.1 in /opt/conda/lib/python3.10/site-packages (from datasets) (2.32.3)\nRequirement already satisfied: tqdm>=4.62.1 in /opt/conda/lib/python3.10/site-packages (from datasets) (4.66.4)\nRequirement already satisfied: xxhash in /opt/conda/lib/python3.10/site-packages (from datasets) (3.4.1)\nRequirement already satisfied: multiprocess in /opt/conda/lib/python3.10/site-packages (from datasets) (0.70.16)\nRequirement already satisfied: fsspec<=2024.3.1,>=2023.1.0 in /opt/conda/lib/python3.10/site-packages (from fsspec[http]<=2024.3.1,>=2023.1.0->datasets) (2024.3.1)\nRequirement already satisfied: aiohttp in /opt/conda/lib/python3.10/site-packages (from datasets) (3.9.1)\nRequirement already satisfied: huggingface-hub>=0.21.2 in /opt/conda/lib/python3.10/site-packages (from datasets) (0.23.2)\nRequirement already satisfied: packaging in /opt/conda/lib/python3.10/site-packages (from datasets) (21.3)\nRequirement already satisfied: pyyaml>=5.1 in /opt/conda/lib/python3.10/site-packages (from datasets) (6.0.1)\nRequirement already satisfied: regex!=2019.12.17 in /opt/conda/lib/python3.10/site-packages (from transformers) (2023.12.25)\nRequirement already satisfied: tokenizers<0.20,>=0.19 in /opt/conda/lib/python3.10/site-packages (from transformers) (0.19.1)\nRequirement already satisfied: safetensors>=0.4.1 in /opt/conda/lib/python3.10/site-packages (from transformers) (0.4.3)\nRequirement already satisfied: attrs>=17.3.0 in /opt/conda/lib/python3.10/site-packages (from aiohttp->datasets) (23.2.0)\nRequirement already satisfied: multidict<7.0,>=4.5 in /opt/conda/lib/python3.10/site-packages (from aiohttp->datasets) (6.0.4)\nRequirement already satisfied: yarl<2.0,>=1.0 in /opt/conda/lib/python3.10/site-packages (from aiohttp->datasets) (1.9.3)\nRequirement already satisfied: frozenlist>=1.1.1 in /opt/conda/lib/python3.10/site-packages (from aiohttp->datasets) (1.4.1)\nRequirement already satisfied: aiosignal>=1.1.2 in /opt/conda/lib/python3.10/site-packages (from aiohttp->datasets) (1.3.1)\nRequirement already satisfied: async-timeout<5.0,>=4.0 in /opt/conda/lib/python3.10/site-packages (from aiohttp->datasets) (4.0.3)\nRequirement already satisfied: typing-extensions>=3.7.4.3 in /opt/conda/lib/python3.10/site-packages (from huggingface-hub>=0.21.2->datasets) (4.9.0)\nRequirement already satisfied: pyparsing!=3.0.5,>=2.0.2 in /opt/conda/lib/python3.10/site-packages (from packaging->datasets) (3.1.1)\nRequirement already satisfied: charset-normalizer<4,>=2 in /opt/conda/lib/python3.10/site-packages (from requests>=2.32.1->datasets) (3.3.2)\nRequirement already satisfied: idna<4,>=2.5 in /opt/conda/lib/python3.10/site-packages (from requests>=2.32.1->datasets) (3.6)\nRequirement already satisfied: urllib3<3,>=1.21.1 in /opt/conda/lib/python3.10/site-packages (from requests>=2.32.1->datasets) (1.26.18)\nRequirement already satisfied: certifi>=2017.4.17 in /opt/conda/lib/python3.10/site-packages (from requests>=2.32.1->datasets) (2024.2.2)\nRequirement already satisfied: python-dateutil>=2.8.2 in /opt/conda/lib/python3.10/site-packages (from pandas->datasets) (2.9.0.post0)\nRequirement already satisfied: pytz>=2020.1 in /opt/conda/lib/python3.10/site-packages (from pandas->datasets) (2023.3.post1)\nRequirement already satisfied: tzdata>=2022.7 in /opt/conda/lib/python3.10/site-packages (from pandas->datasets) (2023.4)\nRequirement already satisfied: six>=1.5 in /opt/conda/lib/python3.10/site-packages (from python-dateutil>=2.8.2->pandas->datasets) (1.16.0)\n",
          "output_type": "stream"
        }
      ]
    },
    {
      "cell_type": "markdown",
      "source": [
        "If you're opening this notebook locally, make sure your environment has an install from the last version of those libraries.\n",
        "\n",
        "To be able to share your model with the community and generate results like the one shown in the picture below via the inference API, there are a few more steps to follow.\n",
        "\n",
        "First you have to store your authentication token from the Hugging Face website (sign up [here](https://huggingface.co/join) if you haven't already!) then execute the following cell and input your username and password:"
      ],
      "metadata": {
        "id": "jQOXdW11w2Dw"
      }
    },
    {
      "cell_type": "code",
      "source": [
        "from huggingface_hub import notebook_login\n",
        "\n",
        "notebook_login()"
      ],
      "metadata": {
        "id": "ibkuaKivw2Dw",
        "execution": {
          "iopub.status.busy": "2024-06-15T14:38:27.136985Z",
          "iopub.execute_input": "2024-06-15T14:38:27.137300Z",
          "iopub.status.idle": "2024-06-15T14:38:27.447759Z",
          "shell.execute_reply.started": "2024-06-15T14:38:27.137270Z",
          "shell.execute_reply": "2024-06-15T14:38:27.446657Z"
        },
        "trusted": true,
        "colab": {
          "referenced_widgets": [
            "d3f723cd92484cfca365184fb2f2a01a"
          ]
        },
        "outputId": "caca5abb-d727-4d8d-aa26-ad7ece9e80fd"
      },
      "execution_count": null,
      "outputs": [
        {
          "output_type": "display_data",
          "data": {
            "text/plain": "VBox(children=(HTML(value='<center> <img\\nsrc=https://huggingface.co/front/assets/huggingface_logo-noborder.sv…",
            "application/vnd.jupyter.widget-view+json": {
              "version_major": 2,
              "version_minor": 0,
              "model_id": "d3f723cd92484cfca365184fb2f2a01a"
            }
          },
          "metadata": {}
        }
      ]
    },
    {
      "cell_type": "markdown",
      "source": [
        "Then you need to install Git-LFS. Uncomment the following instructions:"
      ],
      "metadata": {
        "id": "U_F5xs7Pw2Dw"
      }
    },
    {
      "cell_type": "code",
      "source": [
        "# !apt install git-lfs"
      ],
      "metadata": {
        "id": "nz4DbvRJw2Dx",
        "execution": {
          "iopub.status.busy": "2024-06-10T08:20:17.535804Z",
          "iopub.execute_input": "2024-06-10T08:20:17.536644Z",
          "iopub.status.idle": "2024-06-10T08:20:17.540435Z",
          "shell.execute_reply.started": "2024-06-10T08:20:17.536611Z",
          "shell.execute_reply": "2024-06-10T08:20:17.539450Z"
        },
        "trusted": true
      },
      "execution_count": null,
      "outputs": []
    },
    {
      "cell_type": "markdown",
      "source": [
        "Make sure your version of Transformers is at least 4.11.0 since the functionality was introduced in that version:"
      ],
      "metadata": {
        "id": "6FjQUFZmw2Dx"
      }
    },
    {
      "cell_type": "code",
      "source": [
        "import transformers\n",
        "\n",
        "print(transformers.__version__)"
      ],
      "metadata": {
        "id": "aODkpq0tw2Dx",
        "execution": {
          "iopub.status.busy": "2024-06-15T14:38:41.520382Z",
          "iopub.execute_input": "2024-06-15T14:38:41.520802Z",
          "iopub.status.idle": "2024-06-15T14:38:45.067471Z",
          "shell.execute_reply.started": "2024-06-15T14:38:41.520770Z",
          "shell.execute_reply": "2024-06-15T14:38:45.066365Z"
        },
        "trusted": true,
        "outputId": "4c2dd5c1-4523-47ed-d936-13d44ebd0ab1"
      },
      "execution_count": null,
      "outputs": [
        {
          "name": "stdout",
          "text": "4.41.2\n",
          "output_type": "stream"
        }
      ]
    },
    {
      "cell_type": "markdown",
      "source": [
        "You can find a script version of this notebook to fine-tune your model in a distributed fashion using multiple GPUs or TPUs [here](https://github.com/huggingface/transformers/tree/master/examples/question-answering)."
      ],
      "metadata": {
        "id": "HFASsisvIrIb"
      }
    },
    {
      "cell_type": "markdown",
      "source": [
        "We also quickly upload some telemetry - this tells us which examples and software versions are getting used so we know where to prioritize our maintenance efforts. We don't collect (or care about) any personally identifiable information, but if you'd prefer not to be counted, feel free to skip this step or delete this cell entirely."
      ],
      "metadata": {
        "id": "oRZRpmstw2Dy"
      }
    },
    {
      "cell_type": "code",
      "source": [
        "from transformers.utils import send_example_telemetry\n",
        "\n",
        "send_example_telemetry(\"question_answering_notebook\", framework=\"pytorch\")"
      ],
      "metadata": {
        "id": "tGmq-cTbw2Dy",
        "execution": {
          "iopub.status.busy": "2024-06-15T14:38:45.068955Z",
          "iopub.execute_input": "2024-06-15T14:38:45.069381Z",
          "iopub.status.idle": "2024-06-15T14:38:45.076529Z",
          "shell.execute_reply.started": "2024-06-15T14:38:45.069353Z",
          "shell.execute_reply": "2024-06-15T14:38:45.075071Z"
        },
        "trusted": true
      },
      "execution_count": null,
      "outputs": []
    },
    {
      "cell_type": "markdown",
      "source": [
        "# Fine-tuning a model on a question-answering task"
      ],
      "metadata": {
        "id": "rEJBSTyZIrIb"
      }
    },
    {
      "cell_type": "markdown",
      "source": [
        "In this notebook, we will see how to fine-tune one of the [🤗 Transformers](https://github.com/huggingface/transformers) model to a question answering task, which is the task of extracting the answer to a question from a given context. We will see how to easily load a dataset for these kinds of tasks and use the `Trainer` API to fine-tune a model on it.\n",
        "\n",
        "![Widget inference representing the QA task](https://github.com/huggingface/notebooks/blob/master/examples/images/question_answering.png?raw=1)\n",
        "\n",
        "**Note:** This notebook finetunes models that answer question by taking a substring of a context, not by generating new text."
      ],
      "metadata": {
        "id": "McEmFvdvw2Dy"
      }
    },
    {
      "cell_type": "markdown",
      "source": [
        "This notebook is built to run on any question answering task with the same format as SQUAD (version 1 or 2), with any model checkpoint from the [Model Hub](https://huggingface.co/models) as long as that model has a version with a token classification head and a fast tokenizer (check on [this table](https://huggingface.co/transformers/index.html#bigtable) if this is the case). It might just need some small adjustments if you decide to use a different dataset than the one used here. Depending on you model and the GPU you are using, you might need to adjust the batch size to avoid out-of-memory errors. Set those three parameters, then the rest of the notebook should run smoothly:"
      ],
      "metadata": {
        "id": "4RRkXuteIrIh"
      }
    },
    {
      "cell_type": "code",
      "source": [
        "# This flag is the difference between SQUAD v1 or 2 (if you're using another dataset, it indicates if impossible\n",
        "# answers are allowed or not).\n",
        "squad_v2 = False\n",
        "model_checkpoint = \"sagorsarker/bangla-bert-base\"\n",
        "batch_size = 16"
      ],
      "metadata": {
        "id": "zVvslsfMIrIh",
        "execution": {
          "iopub.status.busy": "2024-06-15T14:38:45.078155Z",
          "iopub.execute_input": "2024-06-15T14:38:45.078426Z",
          "iopub.status.idle": "2024-06-15T14:38:45.086533Z",
          "shell.execute_reply.started": "2024-06-15T14:38:45.078403Z",
          "shell.execute_reply": "2024-06-15T14:38:45.085641Z"
        },
        "trusted": true
      },
      "execution_count": null,
      "outputs": []
    },
    {
      "cell_type": "markdown",
      "source": [
        "## Loading the dataset"
      ],
      "metadata": {
        "id": "whPRbBNbIrIl"
      }
    },
    {
      "cell_type": "markdown",
      "source": [
        "We will use the [🤗 Datasets](https://github.com/huggingface/datasets) library to download the data and get the metric we need to use for evaluation (to compare our model to the benchmark). This can be easily done with the functions `load_dataset` and `load_metric`.  "
      ],
      "metadata": {
        "id": "W7QYTpxXIrIl"
      }
    },
    {
      "cell_type": "markdown",
      "source": [
        "For our example here, we'll use the [SQUAD dataset](https://rajpurkar.github.io/SQuAD-explorer/). The notebook should work with any question answering dataset provided by the 🤗 Datasets library. If you're using your own dataset defined from a JSON or csv file (see the [Datasets documentation](https://huggingface.co/docs/datasets/loading_datasets.html#from-local-files) on how to load them), it might need some adjustments in the names of the columns used."
      ],
      "metadata": {
        "id": "CKx2zKs5IrIq"
      }
    },
    {
      "cell_type": "markdown",
      "source": [
        "**RANDOMIZE**"
      ],
      "metadata": {
        "id": "U7nmXyUZDzub"
      }
    },
    {
      "cell_type": "code",
      "source": [
        "from datasets import load_dataset, DatasetDict\n",
        "# Load the dataset\n",
        "dataset = load_dataset('csebuetnlp/squad_bn')"
      ],
      "metadata": {
        "id": "s_AY1ATSIrIq",
        "outputId": "fd0578d1-8895-443d-b56f-5908de9f1b6b",
        "execution": {
          "iopub.status.busy": "2024-06-15T15:31:54.987733Z",
          "iopub.execute_input": "2024-06-15T15:31:54.988436Z",
          "iopub.status.idle": "2024-06-15T15:31:57.451094Z",
          "shell.execute_reply.started": "2024-06-15T15:31:54.988402Z",
          "shell.execute_reply": "2024-06-15T15:31:57.449679Z"
        },
        "trusted": true,
        "colab": {
          "referenced_widgets": [
            "255db21a8c8f42e5971dc91d7e5d0f78",
            "2c39c8477bb84c32831f53ce4869f78b",
            "c354536481754bf8a40482bda8a65da2",
            "9a425e0d131745dfbca4d9978e96980b",
            "b3540fcceb8e45fcb9447072264b0c85",
            "1212a03340974257bbf8a336c8782403",
            "bbfc2d8ee06046bd8efd924665ba592f"
          ]
        }
      },
      "execution_count": null,
      "outputs": [
        {
          "output_type": "display_data",
          "data": {
            "text/plain": "Downloading readme:   0%|          | 0.00/714 [00:00<?, ?B/s]",
            "application/vnd.jupyter.widget-view+json": {
              "version_major": 2,
              "version_minor": 0,
              "model_id": "255db21a8c8f42e5971dc91d7e5d0f78"
            }
          },
          "metadata": {}
        },
        {
          "output_type": "display_data",
          "data": {
            "text/plain": "Downloading data:   0%|          | 0.00/6.21M [00:00<?, ?B/s]",
            "application/vnd.jupyter.widget-view+json": {
              "version_major": 2,
              "version_minor": 0,
              "model_id": "2c39c8477bb84c32831f53ce4869f78b"
            }
          },
          "metadata": {}
        },
        {
          "output_type": "display_data",
          "data": {
            "text/plain": "Downloading data:   0%|          | 0.00/803k [00:00<?, ?B/s]",
            "application/vnd.jupyter.widget-view+json": {
              "version_major": 2,
              "version_minor": 0,
              "model_id": "c354536481754bf8a40482bda8a65da2"
            }
          },
          "metadata": {}
        },
        {
          "output_type": "display_data",
          "data": {
            "text/plain": "Downloading data:   0%|          | 0.00/752k [00:00<?, ?B/s]",
            "application/vnd.jupyter.widget-view+json": {
              "version_major": 2,
              "version_minor": 0,
              "model_id": "9a425e0d131745dfbca4d9978e96980b"
            }
          },
          "metadata": {}
        },
        {
          "output_type": "display_data",
          "data": {
            "text/plain": "Generating train split:   0%|          | 0/9565 [00:00<?, ? examples/s]",
            "application/vnd.jupyter.widget-view+json": {
              "version_major": 2,
              "version_minor": 0,
              "model_id": "b3540fcceb8e45fcb9447072264b0c85"
            }
          },
          "metadata": {}
        },
        {
          "output_type": "display_data",
          "data": {
            "text/plain": "Generating validation split:   0%|          | 0/1182 [00:00<?, ? examples/s]",
            "application/vnd.jupyter.widget-view+json": {
              "version_major": 2,
              "version_minor": 0,
              "model_id": "1212a03340974257bbf8a336c8782403"
            }
          },
          "metadata": {}
        },
        {
          "output_type": "display_data",
          "data": {
            "text/plain": "Generating test split:   0%|          | 0/1172 [00:00<?, ? examples/s]",
            "application/vnd.jupyter.widget-view+json": {
              "version_major": 2,
              "version_minor": 0,
              "model_id": "bbfc2d8ee06046bd8efd924665ba592f"
            }
          },
          "metadata": {}
        }
      ]
    },
    {
      "cell_type": "code",
      "source": [
        "# Function to get random subsets\n",
        "def get_random_subset(dataset, num_samples):\n",
        "    # Shuffle the dataset\n",
        "    shuffled_dataset = dataset.shuffle(seed=42)\n",
        "    # Select the first 'num_samples' samples\n",
        "    subset = shuffled_dataset.select(range(num_samples))\n",
        "    return subset"
      ],
      "metadata": {
        "execution": {
          "iopub.status.busy": "2024-06-15T14:40:36.205545Z",
          "iopub.execute_input": "2024-06-15T14:40:36.206120Z",
          "iopub.status.idle": "2024-06-15T14:40:36.211534Z",
          "shell.execute_reply.started": "2024-06-15T14:40:36.206087Z",
          "shell.execute_reply": "2024-06-15T14:40:36.210550Z"
        },
        "trusted": true,
        "id": "wL1ew0SwDzub"
      },
      "execution_count": null,
      "outputs": []
    },
    {
      "cell_type": "code",
      "source": [
        "# Define the number of samples you want for each split\n",
        "num_train_samples = 10000\n",
        "num_validation_samples = 1200\n",
        "num_test_samples = 1200"
      ],
      "metadata": {
        "execution": {
          "iopub.status.busy": "2024-06-15T14:40:36.213144Z",
          "iopub.execute_input": "2024-06-15T14:40:36.213470Z",
          "iopub.status.idle": "2024-06-15T14:40:36.263775Z",
          "shell.execute_reply.started": "2024-06-15T14:40:36.213446Z",
          "shell.execute_reply": "2024-06-15T14:40:36.262804Z"
        },
        "trusted": true,
        "id": "N2tJJ2ApDzub"
      },
      "execution_count": null,
      "outputs": []
    },
    {
      "cell_type": "code",
      "source": [
        "# Create new DatasetDict with random subsets\n",
        "random_subset_dict = DatasetDict({\n",
        "    'train': get_random_subset(dataset['train'], num_train_samples),\n",
        "    'validation': get_random_subset(dataset['validation'], num_validation_samples),\n",
        "    'test': get_random_subset(dataset['test'], num_test_samples)\n",
        "})"
      ],
      "metadata": {
        "execution": {
          "iopub.status.busy": "2024-06-15T14:40:36.266101Z",
          "iopub.execute_input": "2024-06-15T14:40:36.266442Z",
          "iopub.status.idle": "2024-06-15T14:40:36.357669Z",
          "shell.execute_reply.started": "2024-06-15T14:40:36.266414Z",
          "shell.execute_reply": "2024-06-15T14:40:36.356661Z"
        },
        "trusted": true,
        "id": "eaEgITolDzuc"
      },
      "execution_count": null,
      "outputs": []
    },
    {
      "cell_type": "code",
      "source": [
        "print(random_subset_dict)"
      ],
      "metadata": {
        "execution": {
          "iopub.status.busy": "2024-06-15T14:40:36.359111Z",
          "iopub.execute_input": "2024-06-15T14:40:36.359408Z",
          "iopub.status.idle": "2024-06-15T14:40:36.365429Z",
          "shell.execute_reply.started": "2024-06-15T14:40:36.359383Z",
          "shell.execute_reply": "2024-06-15T14:40:36.364026Z"
        },
        "trusted": true,
        "id": "E52qyWPDDzuc",
        "outputId": "2eb81c0c-89fb-4f62-ec08-6cfc88732e38"
      },
      "execution_count": null,
      "outputs": [
        {
          "name": "stdout",
          "text": "DatasetDict({\n    train: Dataset({\n        features: ['id', 'title', 'context', 'question', 'answers'],\n        num_rows: 10000\n    })\n    validation: Dataset({\n        features: ['id', 'title', 'context', 'question', 'answers'],\n        num_rows: 1200\n    })\n    test: Dataset({\n        features: ['id', 'title', 'context', 'question', 'answers'],\n        num_rows: 1200\n    })\n})\n",
          "output_type": "stream"
        }
      ]
    },
    {
      "cell_type": "markdown",
      "source": [
        "The `datasets` object itself is [`DatasetDict`](https://huggingface.co/docs/datasets/package_reference/main_classes.html#datasetdict), which contains one key for the training, validation and test set."
      ],
      "metadata": {
        "id": "RzfPtOMoIrIu"
      }
    },
    {
      "cell_type": "markdown",
      "source": [
        "**Creating the augmented dataset (Skip)**"
      ],
      "metadata": {
        "id": "kT-JLf--Dzuc"
      }
    },
    {
      "cell_type": "code",
      "source": [
        "# from datasets import DatasetDict, Dataset, load_dataset\n",
        "# import random"
      ],
      "metadata": {
        "execution": {
          "iopub.status.busy": "2024-06-15T14:40:36.367206Z",
          "iopub.execute_input": "2024-06-15T14:40:36.367579Z",
          "iopub.status.idle": "2024-06-15T14:40:36.380729Z",
          "shell.execute_reply.started": "2024-06-15T14:40:36.367545Z",
          "shell.execute_reply": "2024-06-15T14:40:36.379666Z"
        },
        "trusted": true,
        "id": "VW8YUiiKDzud"
      },
      "execution_count": null,
      "outputs": []
    },
    {
      "cell_type": "code",
      "source": [
        "# # Initialize a new dataset dictionary\n",
        "# datasets_combined = DatasetDict()"
      ],
      "metadata": {
        "execution": {
          "iopub.status.busy": "2024-06-15T14:40:36.381991Z",
          "iopub.execute_input": "2024-06-15T14:40:36.382330Z",
          "iopub.status.idle": "2024-06-15T14:40:36.390770Z",
          "shell.execute_reply.started": "2024-06-15T14:40:36.382299Z",
          "shell.execute_reply": "2024-06-15T14:40:36.389882Z"
        },
        "trusted": true,
        "id": "PtWspzx1Dzud"
      },
      "execution_count": null,
      "outputs": []
    },
    {
      "cell_type": "code",
      "source": [
        "# # Combine datasets for each split: train, validation, test\n",
        "# for split in datasets_brqa.keys():\n",
        "#     # Get all examples from brqa\n",
        "#     brqa_examples = datasets_brqa[split]\n",
        "\n",
        "#     # Get the number of examples in the current split of brqa\n",
        "#     brqa_len = len(brqa_examples)\n",
        "\n",
        "#     # Randomly select an equivalent number of examples from the corresponding split of squad\n",
        "#     squad_examples = datasets_squad[split].shuffle(seed=42).select(range(brqa_len))\n",
        "\n",
        "#     # Convert the datasets to lists of dictionaries\n",
        "#     brqa_examples_list = brqa_examples.to_dict()\n",
        "#     squad_examples_list = squad_examples.to_dict()\n",
        "\n",
        "#     # Manually combine the lists\n",
        "#     combined_examples_list = {key: brqa_examples_list[key] + squad_examples_list[key] for key in brqa_examples_list.keys()}\n",
        "\n",
        "#     # Convert the combined list of examples back to a Dataset object\n",
        "#     combined_dataset = Dataset.from_dict(combined_examples_list)\n",
        "\n",
        "#     # Add the combined split to the new dataset dictionary\n",
        "#     datasets_combined[split] = combined_dataset"
      ],
      "metadata": {
        "execution": {
          "iopub.status.busy": "2024-06-15T14:40:36.391856Z",
          "iopub.execute_input": "2024-06-15T14:40:36.392128Z",
          "iopub.status.idle": "2024-06-15T14:40:36.402674Z",
          "shell.execute_reply.started": "2024-06-15T14:40:36.392105Z",
          "shell.execute_reply": "2024-06-15T14:40:36.401570Z"
        },
        "trusted": true,
        "id": "WXjp7oomDzud"
      },
      "execution_count": null,
      "outputs": []
    },
    {
      "cell_type": "code",
      "source": [
        "# # Save or use the new dataset as needed\n",
        "# print(len(datasets_combined[\"train\"]))"
      ],
      "metadata": {
        "execution": {
          "iopub.status.busy": "2024-06-15T14:40:36.403945Z",
          "iopub.execute_input": "2024-06-15T14:40:36.404274Z",
          "iopub.status.idle": "2024-06-15T14:40:36.417029Z",
          "shell.execute_reply.started": "2024-06-15T14:40:36.404248Z",
          "shell.execute_reply": "2024-06-15T14:40:36.416173Z"
        },
        "trusted": true,
        "id": "LUKpQCktDzud"
      },
      "execution_count": null,
      "outputs": []
    },
    {
      "cell_type": "code",
      "source": [
        "# datasets_combined.push_to_hub(\"shakun42/BanglaRQA-SquadBn-Augmented\")"
      ],
      "metadata": {
        "execution": {
          "iopub.status.busy": "2024-06-15T14:40:36.419523Z",
          "iopub.execute_input": "2024-06-15T14:40:36.419817Z",
          "iopub.status.idle": "2024-06-15T14:40:36.428342Z",
          "shell.execute_reply.started": "2024-06-15T14:40:36.419793Z",
          "shell.execute_reply": "2024-06-15T14:40:36.427341Z"
        },
        "trusted": true,
        "id": "MEZkl02ZDzud"
      },
      "execution_count": null,
      "outputs": []
    },
    {
      "cell_type": "code",
      "source": [
        "# datasets= load_dataset(\"shakun42/BanglaRQA-SquadBn-Augmented\")"
      ],
      "metadata": {
        "execution": {
          "iopub.status.busy": "2024-06-15T14:40:36.429492Z",
          "iopub.execute_input": "2024-06-15T14:40:36.429842Z",
          "iopub.status.idle": "2024-06-15T14:40:36.438743Z",
          "shell.execute_reply.started": "2024-06-15T14:40:36.429804Z",
          "shell.execute_reply": "2024-06-15T14:40:36.437890Z"
        },
        "trusted": true,
        "id": "ZiIFBgfSDzul"
      },
      "execution_count": null,
      "outputs": []
    },
    {
      "cell_type": "code",
      "source": [
        "datasets=random_subset_dict"
      ],
      "metadata": {
        "id": "GWiVUF0jIrIv",
        "execution": {
          "iopub.status.busy": "2024-06-15T14:40:36.439812Z",
          "iopub.execute_input": "2024-06-15T14:40:36.440116Z",
          "iopub.status.idle": "2024-06-15T14:40:36.449618Z",
          "shell.execute_reply.started": "2024-06-15T14:40:36.440092Z",
          "shell.execute_reply": "2024-06-15T14:40:36.448669Z"
        },
        "trusted": true
      },
      "execution_count": null,
      "outputs": []
    },
    {
      "cell_type": "markdown",
      "source": [
        "We can see the training, validation and test sets all have a column for the context, the question and the answers to those questions."
      ],
      "metadata": {
        "id": "MYCQycO0w2D0"
      }
    },
    {
      "cell_type": "markdown",
      "source": [
        "To access an actual element, you need to select a split first, then give an index:"
      ],
      "metadata": {
        "id": "u3EtYfeHIrIz"
      }
    },
    {
      "cell_type": "code",
      "source": [
        "# # Assuming datasets is a DatasetDict and we are working with the \"train\" split\n",
        "# entries_with_minus_one = datasets[\"train\"].filter(lambda x: any(start == -1 for start in x['answers']['answer_start']))\n",
        "\n",
        "# # Display all entries that have -1 in 'answer_start'\n",
        "# for entry in entries_with_minus_one:\n",
        "#     print(entry)"
      ],
      "metadata": {
        "execution": {
          "iopub.status.busy": "2024-06-15T14:40:36.451539Z",
          "iopub.execute_input": "2024-06-15T14:40:36.452509Z",
          "iopub.status.idle": "2024-06-15T14:40:36.460321Z",
          "shell.execute_reply.started": "2024-06-15T14:40:36.452475Z",
          "shell.execute_reply": "2024-06-15T14:40:36.459357Z"
        },
        "trusted": true,
        "id": "-abPZ07CDzum"
      },
      "execution_count": null,
      "outputs": []
    },
    {
      "cell_type": "code",
      "source": [
        "filtered_dataset = datasets[\"validation\"].filter(lambda x: all(start != -1 for start in x['answers']['answer_start']))"
      ],
      "metadata": {
        "execution": {
          "iopub.status.busy": "2024-06-15T14:40:36.576757Z",
          "iopub.execute_input": "2024-06-15T14:40:36.577138Z",
          "iopub.status.idle": "2024-06-15T14:40:36.678661Z",
          "shell.execute_reply.started": "2024-06-15T14:40:36.577112Z",
          "shell.execute_reply": "2024-06-15T14:40:36.677680Z"
        },
        "trusted": true,
        "colab": {
          "referenced_widgets": [
            "ab0df8b560c447f3b2250ea85aef09da"
          ]
        },
        "id": "r1c0SL9NDzum",
        "outputId": "056ec28d-2fa2-4422-8bcb-54a11cabf7d4"
      },
      "execution_count": null,
      "outputs": [
        {
          "output_type": "display_data",
          "data": {
            "text/plain": "Filter:   0%|          | 0/1200 [00:00<?, ? examples/s]",
            "application/vnd.jupyter.widget-view+json": {
              "version_major": 2,
              "version_minor": 0,
              "model_id": "ab0df8b560c447f3b2250ea85aef09da"
            }
          },
          "metadata": {}
        }
      ]
    },
    {
      "cell_type": "code",
      "source": [
        "len(filtered_dataset)"
      ],
      "metadata": {
        "id": "X6HrpprwIrIz",
        "outputId": "d7670bc0-42e4-4c09-8a6a-5c018ded7d95",
        "execution": {
          "iopub.status.busy": "2024-06-15T14:40:36.759709Z",
          "iopub.execute_input": "2024-06-15T14:40:36.760584Z",
          "iopub.status.idle": "2024-06-15T14:40:36.767679Z",
          "shell.execute_reply.started": "2024-06-15T14:40:36.760547Z",
          "shell.execute_reply": "2024-06-15T14:40:36.766506Z"
        },
        "trusted": true
      },
      "execution_count": null,
      "outputs": [
        {
          "execution_count": 20,
          "output_type": "execute_result",
          "data": {
            "text/plain": "1200"
          },
          "metadata": {}
        }
      ]
    },
    {
      "cell_type": "markdown",
      "source": [
        "We can see the answers are indicated by their start position in the text (here at character 515) and their full text, which is a substring of the context as we mentioned above."
      ],
      "metadata": {
        "id": "A78GGG71w2D0"
      }
    },
    {
      "cell_type": "markdown",
      "source": [
        "To get a sense of what the data looks like, the following function will show some examples picked randomly in the dataset (automatically decoding the labels in passing)."
      ],
      "metadata": {
        "id": "WHUmphG3IrI3"
      }
    },
    {
      "cell_type": "code",
      "source": [
        "from datasets import ClassLabel, Sequence\n",
        "import random\n",
        "import pandas as pd\n",
        "from IPython.display import display, HTML\n",
        "\n",
        "def show_random_elements(dataset, num_examples=10):\n",
        "    assert num_examples <= len(dataset), \"Can't pick more elements than there are in the dataset.\"\n",
        "    picks = []\n",
        "    for _ in range(num_examples):\n",
        "        pick = random.randint(0, len(dataset)-1)\n",
        "        while pick in picks:\n",
        "            pick = random.randint(0, len(dataset)-1)\n",
        "        picks.append(pick)\n",
        "\n",
        "    df = pd.DataFrame(dataset[picks])\n",
        "    for column, typ in dataset.features.items():\n",
        "        if isinstance(typ, ClassLabel):\n",
        "            df[column] = df[column].transform(lambda i: typ.names[i])\n",
        "        elif isinstance(typ, Sequence) and isinstance(typ.feature, ClassLabel):\n",
        "            df[column] = df[column].transform(lambda x: [typ.feature.names[i] for i in x])\n",
        "    display(HTML(df.to_html()))"
      ],
      "metadata": {
        "id": "i3j8APAoIrI3",
        "execution": {
          "iopub.status.busy": "2024-06-15T14:40:37.438441Z",
          "iopub.execute_input": "2024-06-15T14:40:37.439364Z",
          "iopub.status.idle": "2024-06-15T14:40:37.448513Z",
          "shell.execute_reply.started": "2024-06-15T14:40:37.439331Z",
          "shell.execute_reply": "2024-06-15T14:40:37.447392Z"
        },
        "trusted": true
      },
      "execution_count": null,
      "outputs": []
    },
    {
      "cell_type": "code",
      "source": [
        "show_random_elements(datasets[\"train\"])"
      ],
      "metadata": {
        "id": "SZy5tRB_IrI7",
        "outputId": "ba8f2124-e485-488f-8c0c-254f34f24f13",
        "scrolled": true,
        "execution": {
          "iopub.status.busy": "2024-06-15T14:40:37.785767Z",
          "iopub.execute_input": "2024-06-15T14:40:37.786670Z",
          "iopub.status.idle": "2024-06-15T14:40:37.813337Z",
          "shell.execute_reply.started": "2024-06-15T14:40:37.786637Z",
          "shell.execute_reply": "2024-06-15T14:40:37.812295Z"
        },
        "trusted": true
      },
      "execution_count": null,
      "outputs": [
        {
          "output_type": "display_data",
          "data": {
            "text/plain": "<IPython.core.display.HTML object>",
            "text/html": "<table border=\"1\" class=\"dataframe\">\n  <thead>\n    <tr style=\"text-align: right;\">\n      <th></th>\n      <th>id</th>\n      <th>title</th>\n      <th>context</th>\n      <th>question</th>\n      <th>answers</th>\n    </tr>\n  </thead>\n  <tbody>\n    <tr>\n      <th>0</th>\n      <td>5a3b309a3ff257001ab843dd</td>\n      <td>Rule_of_law</td>\n      <td>\"আইনের শাসন\" শব্দটির প্রায়োগিক ব্যাখ্যা, ঐতিহ্যগত ইংরেজি অর্থের সাথে সঙ্গতিপূর্ণ, \"মানুষের শাসন\" এর সাথে \"আইনের শাসনের\" পার্থক্য করে। কার্যকরী দৃষ্টিভঙ্গি অনুসারে, এমন একটি সমাজ যেখানে সরকারী কর্মকর্তাদের প্রচুর পরিমাণে বিচক্ষণতার সাথে \"আইনের শাসন\" এর একটি নিম্ন মাত্রা রয়েছে, যেখানে সরকারী কর্মকর্তাদের খুব কমই বিচক্ষণতা থাকে, \"আইনের শাসনের\" একটি উচ্চ মাত্রা রয়েছে। আইনের শাসন সমুন্নত রাখার জন্য কখনও কখনও প্রাকৃতিক আইনের অধীনে ন্যায্য কিন্তু সংবিধিবদ্ধ আইনের অধীনে নয় এমন অপরাধ সংঘটনকারীদের শাস্তির প্রয়োজন হতে পারে। তাই, আইনের শাসন কিছুটা নমনীয়তার সঙ্গে অসামঞ্জস্যপূর্ণ, এমনকি যখন নমনীয়তা অগ্রাধিকারযোগ্যও হয়।</td>\n      <td>সরকারি কর্মকর্তাদের যদি প্রচুর বিচক্ষণতা থাকে, তা হলে একটা সমাজের কী উচ্চ মাত্রা রয়েছে?</td>\n      <td>{'text': [], 'answer_start': []}</td>\n    </tr>\n    <tr>\n      <th>1</th>\n      <td>57301733947a6a140053d0c0</td>\n      <td>San_Diego</td>\n      <td>যুক্তরাষ্ট্রের আদমশুমারি ব্যুরো রিপোর্ট করেছিল যে, ২০০০ সালে সান দিয়েগোর ২৪.০% অধিবাসীর বয়স ১৮ বছরের নিচে ছিল এবং ১০.৫% এর বেশি ছিল ৬৫ বছরেরও বেশি। ২০১১ সাল পর্যন্ত [আপডেট] মধ্যবয়স ছিল ৩৫.৬; বাসিন্দাদের এক চতুর্থাংশেরও বেশি ২০ বছরের কম বয়সী এবং ১১% এর বেশি বয়সী ছিল ৬৫ বছর। হাজার বছরের (বয়স ১৮ থেকে ৩৪ বছর) মধ্যে স্যান ডিয়েগোর জনসংখ্যা ২৭.১ শতাংশ, যা যুক্তরাষ্ট্রের একটা বড় শহরের দ্বিতীয় সর্বোচ্চ শতাংশ। সান দিয়েগো কাউন্টি আঞ্চলিক পরিকল্পনা সংস্থা, স্যান্ডাগ, শহরের জনসংখ্যাকে ৫ বছর বয়সী গোষ্ঠীতে বিভক্ত করার টেবিল এবং গ্রাফ সরবরাহ করে।</td>\n      <td>২০০০ সালের জনসংখ্যার ১০.৫% ছিল কোন বয়সের?</td>\n      <td>{'text': ['৬৫ বছরেরও বেশি'], 'answer_start': [134]}</td>\n    </tr>\n    <tr>\n      <th>2</th>\n      <td>56e76f9037bdd419002c3faa</td>\n      <td>Daylight_saving_time</td>\n      <td>বেশ কয়েকটি দেশে, অগ্নি নিরাপত্তা কর্মকর্তারা নাগরিকদের ধোঁয়া এবং কার্বন মনোক্সাইড ডিটেক্টরগুলির ব্যাটারিগুলির প্রতিস্থাপনের অনুস্মারক হিসাবে দুটি বার্ষিক ঘড়ি শিফ্ট ব্যবহার করতে উৎসাহিত করে, বিশেষ করে শরৎকালে, গরম এবং মোমবাতি মৌসুমের ঠিক আগে বাড়িতে আগুন বৃদ্ধি করে। বছরে দুবার একই কাজ করার অন্তর্ভুক্ত হল, অগ্নি থেকে রক্ষা পাওয়া এবং পারিবারিক দুর্যোগ পরিকল্পনাগুলো পুনরালোচনা করা ও সেগুলো অনুশীলন করা, গাড়ির আলোগুলো পরীক্ষা করা, ঝুঁকিপূর্ণ বস্তুগুলোর জন্য মজুত জায়গা পরীক্ষা করা, থার্মোস্টেটগুলোকে পুনরায় প্রোগ্রাম করা এবং ঋতুভিত্তিক টিকা দেওয়া। ডিএসপি ছাড়া অবস্থানগুলি পরিবর্তে বসন্ত এবং শরতের প্রথম দিনগুলি অনুস্মারক হিসাবে ব্যবহার করতে পারে।</td>\n      <td>আপনার গাড়ির কোন অংশটা বছরে দুবার পরীক্ষা করার কথা মনে রাখা উচিত?</td>\n      <td>{'text': ['আলো'], 'answer_start': [413]}</td>\n    </tr>\n    <tr>\n      <th>3</th>\n      <td>5ad3abec604f3c001a3feb98</td>\n      <td>High-definition_television</td>\n      <td>১৯৭৯ সালে, জাপানি রাষ্ট্রীয় সম্প্রচারকারী এনএইচকে প্রথম ভোক্তা হাই-ডেফিনিশন টেলিভিশন বিকশিত করে ৫:৩ প্রদর্শনের দৃষ্টিভঙ্গি অনুপাত দিয়ে। সিগন্যাল এনকোডিং করার জন্য মাল্টিপল সাব-নিকুইস্ট নমুনা এনকোডিং এর পরে হাই-ভিশন বা মিউজ নামে পরিচিত সিস্টেমটি বিদ্যমান এনটিএসসি সিস্টেমের ব্যান্ডউইথের প্রায় দ্বিগুণ প্রয়োজন কিন্তু রেজোলিউশনের (১০৮০আই/১১২৫ লাইন) প্রায় চারগুণ সরবরাহ করেছে। স্যাটেলাইট পরীক্ষা সম্প্রচার ১৯৮৯ সালে শুরু হয়, ১৯৯১ সালে নিয়মিত পরীক্ষা শুরু হয় এবং ১৯৯৪ সালের ২৫ নভেম্বর বিএস-৯সি নিয়মিত সম্প্রচার শুরু হয়, যার মধ্যে বাণিজ্যিক ও এনএইচকে প্রোগ্রামিং ছিল।</td>\n      <td>কে প্রথম ভোক্তা এইচডি টেলিভিশন তৈরি করেছিল ১:৩ দিক অনুপাতের সাথে?</td>\n      <td>{'text': [], 'answer_start': []}</td>\n    </tr>\n    <tr>\n      <th>4</th>\n      <td>5731138fe6313a140071cbf8</td>\n      <td>United_States_Air_Force</td>\n      <td>বিমান বাহিনী ঔষধ, আইন, ধর্ম, জৈবিক বিজ্ঞান বা স্বাস্থ্যসেবা প্রশাসনে তাদের শংসাপত্রের কারণে সরাসরি অ-লাইন পদে নিযুক্ত তিনটি উপাদানের কর্মকর্তাদের জন্য কমিশনড অফিসার প্রশিক্ষণ (সিওটি) প্রদান করে। মূলত এটিকে একটি \" ছুরি এবং কাঁটা স্কুল\" হিসাবে দেখা হয় যা ইউনিফর্মের মৌলিক পরিধানের চেয়ে সামান্য বেশি আচ্ছাদন করে, সাম্প্রতিক বছরগুলিতে এটি ওটিএস প্রোগ্রামের সাথে সম্পূর্ণরূপে একীভূত করা হয়েছে এবং আজ বিস্তৃত কোর্সের পাশাপাশি নেতৃত্বের, আস্থা, ফিটনেস এবং নিযুক্ত-পরিবেশ অপারেশনগুলিতে ক্ষেত্র অনুশীলন অন্তর্ভুক্ত।</td>\n      <td>বিমান বাহিনী সরাসরি অ-লাইন পদের কর্মকর্তাদের কী সরবরাহ করে?</td>\n      <td>{'text': ['কমিশনড অফিসার প্রশিক্ষণ'], 'answer_start': [151]}</td>\n    </tr>\n    <tr>\n      <th>5</th>\n      <td>5a7b5d5c21c2de001afe9f78</td>\n      <td>National_Archives_and_Records_Administration</td>\n      <td>প্রথম আর.ডি.ডব্লিউ. কনর ১৯৩৪ সালে কংগ্রেস কর্তৃক ন্যাশনাল আর্কাইভস প্রতিষ্ঠিত হওয়ার পর প্রথম আর্কাইভিস্ট হিসেবে কাজ শুরু করেছিলেন। হুভার কমিশনের প্রথম সুপারিশের ফলে ১৯৪৯ সালে জাতীয় আর্কাইভস নবগঠিত জেনারেল সার্ভিসেস অ্যাডমিনিস্ট্রেশন (জিএসএ)-এর মধ্যে ন্যস্ত করা হয়। ন্যাশনাল আর্কাইভস অ্যান্ড রেকর্ডস অ্যাডমিনিস্ট্রেশন এপ্রিল ১, ১৯৮৫ সালে একটি স্বাধীন সংস্থা হয়ে ওঠার আগ পর্যন্ত আর্কাইভিস্ট জিএসএ প্রশাসকের অধীনস্থ কর্মকর্তা হিসেবে দায়িত্ব পালন করেন।</td>\n      <td>১৯৮৫ সালের ১লা এপ্রিল থেকে কারা সেবা করতে শুরু করেছিল?</td>\n      <td>{'text': [], 'answer_start': []}</td>\n    </tr>\n    <tr>\n      <th>6</th>\n      <td>5ad4d10e5b96ef001a10a1a2</td>\n      <td>Immune_system</td>\n      <td>বি কোষ এবং টি কোষ উভয়ই রিসেপ্টর অণু বহন করে যা নির্দিষ্ট লক্ষ্য শনাক্ত করে। টি কোষ একটি \"আত্ম-নিরপেক্ষ\" লক্ষ্য শনাক্ত করে, যেমন একটি প্যাথোজেন, শুধুমাত্র অ্যান্টিজেন (প্যাথোজেনের ছোট টুকরা) প্রক্রিয়াকরণের পরে এবং একটি \"স্ব\" রিসেপ্টরের সাথে মিলিতভাবে উপস্থাপন করা হয় যাকে একটি প্রধান হিস্টোকম্প্যাটিবিলিটি কমপ্লেক্স (এমএইচসি) অণু বলে। টি কোষের দুটি প্রধান সাবটাইপ রয়েছে: খুনী টি সেল এবং সাহায্যকারী টি সেল। এছাড়াও রয়েছে নিয়ন্ত্রক টি কোষ যা রোগপ্রতিরোধ প্রতিক্রিয়া মড্যুলেশনে ভূমিকা রাখে। কিলার টি কোষগুলো শুধুমাত্র অ্যান্টিজেন এবং আই এম এইচ সি অণু চিনতে পারে, যেখানে সাহায্যকারী টি কোষ এবং নিয়ন্ত্রক টি কোষগুলো শুধুমাত্র দ্বিতীয় এমএইচসি অণুর সাথে অ্যান্টিজেন সনাক্ত করে। অ্যান্টিজেন উপস্থাপনার এই দুটি পদ্ধতি দুই ধরনের টি সেলের বিভিন্ন ভূমিকা প্রতিফলিত করে। একটি তৃতীয়, গৌণ উপটাইপ হল γδ টি কোষ যা এমএইচসি রিসেপ্টরগুলির সাথে আবদ্ধ নয় এমন অক্ষত অ্যান্টিজেনগুলিকে শনাক্ত করে।</td>\n      <td>কত ধরনের বি কোষ রয়েছে?</td>\n      <td>{'text': [], 'answer_start': []}</td>\n    </tr>\n    <tr>\n      <th>7</th>\n      <td>5a46ffc75fd40d001a27dd32</td>\n      <td>Rajasthan</td>\n      <td>রাজস্থান, যোধপুর ও কোটা দুটি প্রধান শিক্ষাকেন্দ্র। কোটা বিভিন্ন প্রতিযোগিতামূলক পরীক্ষার প্রস্তুতি, চিকিৎসা ও প্রকৌশল পরীক্ষার জন্য কোচিংয়ের জন্য পরিচিত, যখন যোধপুর আইআইটি, এআইএমএস, জাতীয় আইন বিশ্ববিদ্যালয়, সরদার প্যাটেল পুলিশ বিশ্ববিদ্যালয়, ফ্যাশন টেকনোলজির জাতীয় ইনস্টিটিউট, এমবিএম ইঞ্জিনিয়ারিং কলেজ ইত্যাদি অনেক উচ্চ শিক্ষা প্রতিষ্ঠানের বাড়ি। কোটাকে জনপ্রিয়ভাবে \"ভারতের কোচিং রাজধানী\" হিসাবে উল্লেখ করা হয়। অন্যান্য প্রধান শিক্ষা প্রতিষ্ঠান হল বিড়লা ইনস্টিটিউট অফ টেকনোলজি অ্যান্ড সায়েন্স পিলানি, মালব্য ন্যাশনাল ইনস্টিটিউট অফ টেকনোলজি জয়পুর, আইআইএম উদয়পুর আর এবং এলএনএমআইআইটি। রাজস্থানে নয়টি বিশ্ববিদ্যালয় এবং ২৫০ টিরও বেশি কলেজ, ৫৫,০০০ প্রাথমিক এবং ৭,৪০০ মাধ্যমিক বিদ্যালয় রয়েছে। এখানে ৪১টি ইঞ্জিনিয়ারিং কলেজ রয়েছে, যাদের বার্ষিক ভর্তির সংখ্যা প্রায় ১১,৫০০ জন। এছাড়া আমিতি বিশ্ববিদ্যালয় রাজস্থান, জয়পুর, মনিপাল বিশ্ববিদ্যালয় জয়পুর, ওপিজেএস বিশ্ববিদ্যালয়, চুরু, মোডি ইউনিভার্সিটি অব টেকনোলজি অ্যান্ড সায়েন্স লক্ষণগড় (মহিলা বিশ্ববিদ্যালয়, সিকার), আরএনবি গ্লোবাল ইউনিভার্সিটি, বিকানারের মতো ৪১টি বেসরকারি বিশ্ববিদ্যালয় রয়েছে। এই রাজ্যে ২৩টি পলিটেকনিক কলেজ এবং ১৫২টি ইন্ডাস্ট্রিয়াল ট্রেনিং ইনস্টিটিউট রয়েছে, যা বৃত্তিমূলক প্রশিক্ষণ প্রদান করে।</td>\n      <td>বিড়লাতে বার্ষিক ভর্তি কি?</td>\n      <td>{'text': [], 'answer_start': []}</td>\n    </tr>\n    <tr>\n      <th>8</th>\n      <td>5a637a8868151a001a922306</td>\n      <td>Victoria_(Australia)</td>\n      <td>বিশেষ করে আয়ারল্যান্ড ও চীন থেকে আসা অভিবাসীরা সারা পৃথিবী থেকে স্বর্ণের অন্বেষণে এসেছিল। অনেক চীনা খনি শ্রমিক ভিক্টোরিয়ায় কাজ করত এবং তাদের উত্তরাধিকার বিশেষভাবে বেন্ডিগো এবং এর পার্শ্ববর্তী অঞ্চলে শক্তিশালী। যদিও তাদের দিকে কিছু বর্ণবাদ নির্দেশিত ছিল, তবে চীনা-বিরোধী সহিংসতার মাত্রা ছিল না যা নিউ সাউথ ওয়েলসের ল্যাম্বিং ফ্লাট দাঙ্গায় দেখা গিয়েছিল। যাইহোক, ১৮৫৭ সালে ব্রাইটের নিকটবর্তী বাকল্যান্ড উপত্যকায় একটি দাঙ্গা হয়েছিল। স্বর্ণখনির অবস্থা ছিল দুর্গম ও অস্বাস্থ্যকর; ১৮৫৪ সালে বাকল্যান্ড উপত্যকায় টাইফয়েডের প্রাদুর্ভাবে ১,০০০ জনেরও বেশি খনি শ্রমিক নিহত হয়।</td>\n      <td>১৮৫৭ সালের স্বর্ণ অভিযান কোথায় ছিল?</td>\n      <td>{'text': [], 'answer_start': []}</td>\n    </tr>\n    <tr>\n      <th>9</th>\n      <td>5ad50f335b96ef001a10ab39</td>\n      <td>Paper</td>\n      <td>সিনথেটিক কোটিং (যেমন পিএফওএ) এবং হাইড্রোকার্বন ভিত্তিক পেট্রোকেমিক্যালের উচ্চ মূল্য সম্পর্কে পরিবেশগত উদ্বেগ বৃদ্ধির সাথে সাথে, পপকর্ন ব্যাগের মতো উচ্চ গ্রিজ অ্যাপ্লিকেশনগুলিতে কাগজের জন্য আবরণ হিসাবে জিন (কর্ন প্রোটিন) এর উপর একটি ফোকাস রয়েছে।</td>\n      <td>হাইড্রোকার্বন ব্যাগের মধ্যে সম্ভবত কোন ধরনের প্রলেপ দেওয়া হবে?</td>\n      <td>{'text': [], 'answer_start': []}</td>\n    </tr>\n  </tbody>\n</table>"
          },
          "metadata": {}
        }
      ]
    },
    {
      "cell_type": "markdown",
      "source": [
        "## Preprocessing the training data"
      ],
      "metadata": {
        "id": "n9qywopnIrJH"
      }
    },
    {
      "cell_type": "markdown",
      "source": [
        "Before we can feed those texts to our model, we need to preprocess them. This is done by a 🤗 Transformers `Tokenizer` which will (as the name indicates) tokenize the inputs (including converting the tokens to their corresponding IDs in the pretrained vocabulary) and put it in a format the model expects, as well as generate the other inputs that model requires.\n",
        "\n",
        "To do all of this, we instantiate our tokenizer with the `AutoTokenizer.from_pretrained` method, which will ensure:\n",
        "\n",
        "- we get a tokenizer that corresponds to the model architecture we want to use,\n",
        "- we download the vocabulary used when pretraining this specific checkpoint.\n",
        "\n",
        "That vocabulary will be cached, so it's not downloaded again the next time we run the cell."
      ],
      "metadata": {
        "id": "YVx71GdAIrJH"
      }
    },
    {
      "cell_type": "code",
      "source": [
        "from transformers import AutoTokenizer\n",
        "\n",
        "tokenizer = AutoTokenizer.from_pretrained(model_checkpoint)"
      ],
      "metadata": {
        "id": "eXNLu_-nIrJI",
        "execution": {
          "iopub.status.busy": "2024-06-15T14:40:38.741948Z",
          "iopub.execute_input": "2024-06-15T14:40:38.742328Z",
          "iopub.status.idle": "2024-06-15T14:40:40.157343Z",
          "shell.execute_reply.started": "2024-06-15T14:40:38.742294Z",
          "shell.execute_reply": "2024-06-15T14:40:40.156300Z"
        },
        "trusted": true,
        "colab": {
          "referenced_widgets": [
            "682ece4538694dbe858f4c5ca4e7f350",
            "6015f64ff93e4e30adf3811eb6c1a953"
          ]
        },
        "outputId": "b47e431d-1e65-4e79-9512-6787baf20bcb"
      },
      "execution_count": null,
      "outputs": [
        {
          "name": "stderr",
          "text": "/opt/conda/lib/python3.10/site-packages/huggingface_hub/file_download.py:1132: FutureWarning: `resume_download` is deprecated and will be removed in version 1.0.0. Downloads always resume when possible. If you want to force a new download, use `force_download=True`.\n  warnings.warn(\n",
          "output_type": "stream"
        },
        {
          "output_type": "display_data",
          "data": {
            "text/plain": "config.json:   0%|          | 0.00/491 [00:00<?, ?B/s]",
            "application/vnd.jupyter.widget-view+json": {
              "version_major": 2,
              "version_minor": 0,
              "model_id": "682ece4538694dbe858f4c5ca4e7f350"
            }
          },
          "metadata": {}
        },
        {
          "output_type": "display_data",
          "data": {
            "text/plain": "vocab.txt:   0%|          | 0.00/2.24M [00:00<?, ?B/s]",
            "application/vnd.jupyter.widget-view+json": {
              "version_major": 2,
              "version_minor": 0,
              "model_id": "6015f64ff93e4e30adf3811eb6c1a953"
            }
          },
          "metadata": {}
        }
      ]
    },
    {
      "cell_type": "markdown",
      "source": [
        "The following assertion ensures that our tokenizer is a fast tokenizers (backed by Rust) from the 🤗 Tokenizers library. Those fast tokenizers are available for almost all models, and we will need some of the special features they have for our preprocessing."
      ],
      "metadata": {
        "id": "Vl6IidfdIrJK"
      }
    },
    {
      "cell_type": "code",
      "source": [
        "import transformers\n",
        "assert isinstance(tokenizer, transformers.PreTrainedTokenizerFast)"
      ],
      "metadata": {
        "id": "tOaNREDfw2D1",
        "execution": {
          "iopub.status.busy": "2024-06-15T14:40:40.158935Z",
          "iopub.execute_input": "2024-06-15T14:40:40.159282Z",
          "iopub.status.idle": "2024-06-15T14:40:40.163863Z",
          "shell.execute_reply.started": "2024-06-15T14:40:40.159253Z",
          "shell.execute_reply": "2024-06-15T14:40:40.162871Z"
        },
        "trusted": true
      },
      "execution_count": null,
      "outputs": []
    },
    {
      "cell_type": "markdown",
      "source": [
        "You can check which type of models have a fast tokenizer available and which don't on the [big table of models](https://huggingface.co/transformers/index.html#bigtable)."
      ],
      "metadata": {
        "id": "21lBgET6w2D1"
      }
    },
    {
      "cell_type": "markdown",
      "source": [
        "You can directly call this tokenizer on two sentences (one for the answer, one for the context):"
      ],
      "metadata": {
        "id": "rowT4iCLIrJK"
      }
    },
    {
      "cell_type": "code",
      "source": [
        "tokenizer(\"What is your name?\", \"My name is Sylvain.\")"
      ],
      "metadata": {
        "id": "a5hBlsrHIrJL",
        "outputId": "acdaa98a-a8cd-4a20-89b8-cc26437bbe90",
        "execution": {
          "iopub.status.busy": "2024-06-15T14:40:40.192352Z",
          "iopub.execute_input": "2024-06-15T14:40:40.192655Z",
          "iopub.status.idle": "2024-06-15T14:40:40.202270Z",
          "shell.execute_reply.started": "2024-06-15T14:40:40.192630Z",
          "shell.execute_reply": "2024-06-15T14:40:40.201131Z"
        },
        "trusted": true
      },
      "execution_count": null,
      "outputs": [
        {
          "execution_count": 25,
          "output_type": "execute_result",
          "data": {
            "text/plain": "{'input_ids': [101, 100, 100, 100, 100, 1045, 102, 100, 100, 100, 100, 1013, 102], 'token_type_ids': [0, 0, 0, 0, 0, 0, 0, 1, 1, 1, 1, 1, 1], 'attention_mask': [1, 1, 1, 1, 1, 1, 1, 1, 1, 1, 1, 1, 1]}"
          },
          "metadata": {}
        }
      ]
    },
    {
      "cell_type": "markdown",
      "source": [
        "Depending on the model you selected, you will see different keys in the dictionary returned by the cell above. They don't matter much for what we're doing here (just know they are required by the model we will instantiate later), you can learn more about them in [this tutorial](https://huggingface.co/transformers/preprocessing.html) if you're interested.\n",
        "\n",
        "Now one specific thing for the preprocessing in question answering is how to deal with very long documents. We usually truncate them in other tasks, when they are longer than the model maximum sentence length, but here, removing part of the the context might result in losing the answer we are looking for. To deal with this, we will allow one (long) example in our dataset to give several input features, each of length shorter than the maximum length of the model (or the one we set as a hyper-parameter). Also, just in case the answer lies at the point we split a long context, we allow some overlap between the features we generate controlled by the hyper-parameter `doc_stride`:"
      ],
      "metadata": {
        "id": "oqQ2CLb-w2D1"
      }
    },
    {
      "cell_type": "code",
      "source": [
        "max_length = 384 # The maximum length of a feature (question and context)\n",
        "doc_stride = 128 # The authorized overlap between two part of the context when splitting it is needed."
      ],
      "metadata": {
        "id": "4P0uKYRuw2D1",
        "execution": {
          "iopub.status.busy": "2024-06-15T14:40:40.752087Z",
          "iopub.execute_input": "2024-06-15T14:40:40.752461Z",
          "iopub.status.idle": "2024-06-15T14:40:40.757432Z",
          "shell.execute_reply.started": "2024-06-15T14:40:40.752430Z",
          "shell.execute_reply": "2024-06-15T14:40:40.756369Z"
        },
        "trusted": true
      },
      "execution_count": null,
      "outputs": []
    },
    {
      "cell_type": "markdown",
      "source": [
        "Let's find one long example in our dataset:"
      ],
      "metadata": {
        "id": "2UJIphP-w2D9"
      }
    },
    {
      "cell_type": "code",
      "source": [
        "for i, example in enumerate(datasets[\"train\"]):\n",
        "    if len(tokenizer(example[\"question\"], example[\"context\"])[\"input_ids\"]) > 384:\n",
        "        break\n",
        "example = datasets[\"train\"][i]"
      ],
      "metadata": {
        "id": "5jg0jZ6Gw2D9",
        "execution": {
          "iopub.status.busy": "2024-06-15T14:40:41.477248Z",
          "iopub.execute_input": "2024-06-15T14:40:41.477609Z",
          "iopub.status.idle": "2024-06-15T14:40:41.493727Z",
          "shell.execute_reply.started": "2024-06-15T14:40:41.477584Z",
          "shell.execute_reply": "2024-06-15T14:40:41.492984Z"
        },
        "trusted": true
      },
      "execution_count": null,
      "outputs": []
    },
    {
      "cell_type": "markdown",
      "source": [
        "Without any truncation, we get the following length for the input IDs:"
      ],
      "metadata": {
        "id": "VSWU9_HLw2D9"
      }
    },
    {
      "cell_type": "code",
      "source": [
        "len(tokenizer(example[\"question\"], example[\"context\"])[\"input_ids\"])"
      ],
      "metadata": {
        "id": "dWg7_JThw2D9",
        "outputId": "e5b31ac3-18a8-469a-ed8c-46e046f32973",
        "execution": {
          "iopub.status.busy": "2024-06-15T14:40:41.873407Z",
          "iopub.execute_input": "2024-06-15T14:40:41.873752Z",
          "iopub.status.idle": "2024-06-15T14:40:41.882379Z",
          "shell.execute_reply.started": "2024-06-15T14:40:41.873727Z",
          "shell.execute_reply": "2024-06-15T14:40:41.881263Z"
        },
        "trusted": true
      },
      "execution_count": null,
      "outputs": [
        {
          "execution_count": 28,
          "output_type": "execute_result",
          "data": {
            "text/plain": "472"
          },
          "metadata": {}
        }
      ]
    },
    {
      "cell_type": "markdown",
      "source": [
        "Now, if we just truncate, we will lose information (and possibly the answer to our question):"
      ],
      "metadata": {
        "id": "fDa18m0sw2D9"
      }
    },
    {
      "cell_type": "code",
      "source": [
        "len(tokenizer(example[\"question\"], example[\"context\"], max_length=max_length, truncation=\"only_second\")[\"input_ids\"])"
      ],
      "metadata": {
        "id": "qppHwgT9w2D9",
        "outputId": "253e6b6d-644a-4302-9b25-0530f27d97b6",
        "execution": {
          "iopub.status.busy": "2024-06-15T14:40:42.481954Z",
          "iopub.execute_input": "2024-06-15T14:40:42.482362Z",
          "iopub.status.idle": "2024-06-15T14:40:42.491154Z",
          "shell.execute_reply.started": "2024-06-15T14:40:42.482330Z",
          "shell.execute_reply": "2024-06-15T14:40:42.490128Z"
        },
        "trusted": true
      },
      "execution_count": null,
      "outputs": [
        {
          "execution_count": 29,
          "output_type": "execute_result",
          "data": {
            "text/plain": "384"
          },
          "metadata": {}
        }
      ]
    },
    {
      "cell_type": "markdown",
      "source": [
        "Note that we never want to truncate the question, only the context, else the `only_second` truncation picked. Now, our tokenizer can automatically return us a list of features capped by a certain maximum length, with the overlap we talked above, we just have to tell it with `return_overflowing_tokens=True` and by passing the stride:"
      ],
      "metadata": {
        "id": "EX2DHM0Bw2D9"
      }
    },
    {
      "cell_type": "code",
      "source": [
        "tokenized_example = tokenizer(\n",
        "    example[\"question\"],\n",
        "    example[\"context\"],\n",
        "    max_length=max_length,\n",
        "    truncation=\"only_second\",\n",
        "    return_overflowing_tokens=True,\n",
        "    stride=doc_stride\n",
        ")"
      ],
      "metadata": {
        "id": "S00XKvzNw2D9",
        "execution": {
          "iopub.status.busy": "2024-06-15T14:40:43.287547Z",
          "iopub.execute_input": "2024-06-15T14:40:43.287921Z",
          "iopub.status.idle": "2024-06-15T14:40:43.294618Z",
          "shell.execute_reply.started": "2024-06-15T14:40:43.287891Z",
          "shell.execute_reply": "2024-06-15T14:40:43.293614Z"
        },
        "trusted": true
      },
      "execution_count": null,
      "outputs": []
    },
    {
      "cell_type": "markdown",
      "source": [
        "Now we don't have one list of `input_ids`, but several:"
      ],
      "metadata": {
        "id": "kG9D9IXzw2D9"
      }
    },
    {
      "cell_type": "code",
      "source": [
        "[len(x) for x in tokenized_example[\"input_ids\"]]"
      ],
      "metadata": {
        "id": "syNI763Yw2D9",
        "outputId": "7ec41d41-f766-4519-adff-8e1091c99b01",
        "execution": {
          "iopub.status.busy": "2024-06-15T14:40:44.282625Z",
          "iopub.execute_input": "2024-06-15T14:40:44.283360Z",
          "iopub.status.idle": "2024-06-15T14:40:44.290002Z",
          "shell.execute_reply.started": "2024-06-15T14:40:44.283326Z",
          "shell.execute_reply": "2024-06-15T14:40:44.288827Z"
        },
        "trusted": true
      },
      "execution_count": null,
      "outputs": [
        {
          "execution_count": 31,
          "output_type": "execute_result",
          "data": {
            "text/plain": "[384, 230]"
          },
          "metadata": {}
        }
      ]
    },
    {
      "cell_type": "markdown",
      "source": [
        "And if we decode them, we can see the overlap:"
      ],
      "metadata": {
        "id": "ZZCm44MZw2D9"
      }
    },
    {
      "cell_type": "code",
      "source": [
        "for x in tokenized_example[\"input_ids\"][:2]:\n",
        "    print(tokenizer.decode(x))"
      ],
      "metadata": {
        "id": "xyVviuaew2D9",
        "outputId": "5721e20f-e6b3-4103-804e-7372175380e4",
        "execution": {
          "iopub.status.busy": "2024-06-15T14:40:45.372111Z",
          "iopub.execute_input": "2024-06-15T14:40:45.372468Z",
          "iopub.status.idle": "2024-06-15T14:40:57.116701Z",
          "shell.execute_reply.started": "2024-06-15T14:40:45.372442Z",
          "shell.execute_reply": "2024-06-15T14:40:57.115651Z"
        },
        "trusted": true
      },
      "execution_count": null,
      "outputs": [
        {
          "name": "stderr",
          "text": "2024-06-15 14:40:47.167784: E external/local_xla/xla/stream_executor/cuda/cuda_dnn.cc:9261] Unable to register cuDNN factory: Attempting to register factory for plugin cuDNN when one has already been registered\n2024-06-15 14:40:47.167907: E external/local_xla/xla/stream_executor/cuda/cuda_fft.cc:607] Unable to register cuFFT factory: Attempting to register factory for plugin cuFFT when one has already been registered\n2024-06-15 14:40:47.299635: E external/local_xla/xla/stream_executor/cuda/cuda_blas.cc:1515] Unable to register cuBLAS factory: Attempting to register factory for plugin cuBLAS when one has already been registered\n",
          "output_type": "stream"
        },
        {
          "name": "stdout",
          "text": "[CLS] এশিযার লকআউট চিপ নামবারটা কি? [SEP] ফযামিকমে কোন লকআউট হারডওযযার ছিল না এবং ফলসবরপ, লাইসেনসবিহীন কারতজ ( বৈধ এবং বটলেগ উভযই ) জাপান এবং দরপরাচয জডে অতযনত সাধারণ ছিল । মল এনইএস ( কিনত শীরষ লোডিং এনইএস - [UNK] ) [UNK] লকআউট চিপ ধারণ করে নি, যা লাইসেনসবিহীন ডেভেলপারদের সমমখীন চযালেঞজগলি উললেখযোগযভাবে বদধি করেছে । পরবরতী বছরগলিতে টিঙকাররা আবিষকার করে যে এনইএস এবং লকআউট চিপের চতরথ পিনটি কেটে ফেললে চিপের কারযকারিতার ধরন \" লক \" থেকে \" কী \" তে পরিবরতিত হবে, সমসত পরভাব মছে ফেলা হবে এবং কনসোলের আইনি গেমস খেলার কষমতা বযাপকভাবে উননত করা হবে, পাশাপাশি বটলেগগলি এবং পরিবরতিত আমদানি । বিভিনন অঞচলে বিকরি করা এনইএস কনসোলগলিতে বিভিনন লকআউট চিপ ছিল, তাই একটি অঞচলে বাজারজাত গেমগলি অনয অঞচল থেকে কনসোলে কাজ করবে না । মারকিন যকতরাষটর / কানাডা ( [UNK] লকআউট চিপ ), ইউরোপ ( [UNK] ), এশিযা ( [UNK] ) এবং যকতরাজয, ইতালি ও অসটরেলিযা ( [UNK] ) এর অধিকাংশ অঞচল পরিচিত । ইউরোপে দই ধরনের লকআউট চিপ বযবহার করা হয, ইউরোপীয এনইএস গেম বকসের সামনে পরাযই একটি \" এ \" বা \" বি \" অকষর থাকত, যা নিরদেশ করে যে খেলাটি যকতরাজয / ইতালীয / অসটরেলিযান কনসোলস ( এ ), বা বাকি ইউরোপ ( বি ) এর সাথে সামঞজসযপরণ কিনা । বাকি ইউরোপ গেমগলোতে সাধারণত বকসে লেখা থাকত \" এই গেমটি [SEP]\n[CLS] এশিযার লকআউট চিপ নামবারটা কি? [SEP] এশিযা ( [UNK] ) এবং যকতরাজয, ইতালি ও অসটরেলিযা ( [UNK] ) এর অধিকাংশ অঞচল পরিচিত । ইউরোপে দই ধরনের লকআউট চিপ বযবহার করা হয, ইউরোপীয এনইএস গেম বকসের সামনে পরাযই একটি \" এ \" বা \" বি \" অকষর থাকত, যা নিরদেশ করে যে খেলাটি যকতরাজয / ইতালীয / অসটরেলিযান কনসোলস ( এ ), বা বাকি ইউরোপ ( বি ) এর সাথে সামঞজসযপরণ কিনা । বাকি ইউরোপ গেমগলোতে সাধারণত বকসে লেখা থাকত \" এই গেমটি নিনটেনডো এনটারটেনমেনট সিসটেমের মযাটেল বা এনইএস সংসকরণের সাথে সামঞজসযপরণ নয । \" একইভাবে, যকতরাজয / ইটালি / অসটরেলিযার খেলাগলোয উললেখ করা হয যে, \" এই খেলাটি শধমাতর নিনটেনডো এনটারটেইনমেনট সিসটেমের মযাটেল বা এনইএস সংসকরণের সাথে সামঞজসযপরণ \" । [SEP]\n",
          "output_type": "stream"
        }
      ]
    },
    {
      "cell_type": "markdown",
      "source": [
        "Now this will give us some work to properly treat the answers: we need to find in which of those features the answer actually is, and where exactly in that feature. The models we will use require the start and end positions of these answers in the tokens, so we will also need to to map parts of the original context to some tokens. Thankfully, the tokenizer we're using can help us with that by returning an `offset_mapping`:"
      ],
      "metadata": {
        "id": "N9NESL_dw2D-"
      }
    },
    {
      "cell_type": "code",
      "source": [
        "tokenized_example = tokenizer(\n",
        "    example[\"question\"],\n",
        "    example[\"context\"],\n",
        "    max_length=max_length,\n",
        "    truncation=\"only_second\",\n",
        "    return_overflowing_tokens=True,\n",
        "    return_offsets_mapping=True,\n",
        "    stride=doc_stride\n",
        ")\n",
        "print(tokenized_example[\"offset_mapping\"][0][:100])"
      ],
      "metadata": {
        "id": "FBwK2V0lw2D-",
        "outputId": "9ce1a925-dd15-403f-8141-46ee1cfa889b",
        "execution": {
          "iopub.status.busy": "2024-06-15T14:40:57.118753Z",
          "iopub.execute_input": "2024-06-15T14:40:57.119425Z",
          "iopub.status.idle": "2024-06-15T14:40:57.128889Z",
          "shell.execute_reply.started": "2024-06-15T14:40:57.119392Z",
          "shell.execute_reply": "2024-06-15T14:40:57.127879Z"
        },
        "trusted": true
      },
      "execution_count": null,
      "outputs": [
        {
          "name": "stdout",
          "text": "[(0, 0), (0, 1), (1, 3), (3, 7), (8, 10), (10, 13), (14, 17), (18, 23), (23, 25), (25, 27), (28, 30), (30, 31), (0, 0), (0, 1), (2, 5), (5, 7), (7, 9), (10, 12), (11, 13), (14, 16), (16, 19), (20, 23), (24, 25), (25, 26), (26, 27), (29, 32), (33, 36), (37, 39), (40, 43), (44, 47), (48, 50), (51, 52), (52, 53), (54, 58), (58, 62), (62, 67), (68, 71), (72, 75), (76, 77), (77, 80), (81, 84), (85, 88), (88, 91), (92, 94), (94, 95), (96, 97), (97, 98), (99, 104), (105, 108), (109, 112), (112, 116), (116, 117), (118, 119), (120, 121), (122, 125), (126, 128), (129, 131), (132, 133), (134, 140), (141, 144), (144, 145), (146, 149), (150, 154), (154, 155), (156, 157), (157, 162), (164, 166), (166, 167), (168, 169), (170, 172), (171, 173), (173, 175), (176, 180), (180, 181), (181, 182), (182, 185), (185, 186), (187, 194), (195, 197), (197, 200), (201, 204), (205, 209), (210, 213), (214, 216), (216, 217), (218, 220), (221, 225), (225, 229), (229, 234), (235, 246), (247, 249), (250, 251), (252, 254), (254, 255), (256, 257), (258, 260), (260, 262), (262, 263), (264, 266), (267, 269)]\n",
          "output_type": "stream"
        }
      ]
    },
    {
      "cell_type": "markdown",
      "source": [
        "This gives, for each index of our input IDS, the corresponding start and end character in the original text that gave our token. The very first token (`[CLS]`) has (0, 0) because it doesn't correspond to any part of the question/answer, then the second token is the same as the characters 0 to 3 of the question:"
      ],
      "metadata": {
        "id": "DR2d7y4hw2D-"
      }
    },
    {
      "cell_type": "code",
      "source": [
        "first_token_id = tokenized_example[\"input_ids\"][0][1]\n",
        "offsets = tokenized_example[\"offset_mapping\"][0][1]\n",
        "print(tokenizer.convert_ids_to_tokens([first_token_id])[0], example[\"question\"][offsets[0]:offsets[1]])"
      ],
      "metadata": {
        "id": "FWRnknAIw2D-",
        "outputId": "866b9dd2-33c1-42b4-be47-2240f8a78d86",
        "execution": {
          "iopub.status.busy": "2024-06-15T14:40:57.130641Z",
          "iopub.execute_input": "2024-06-15T14:40:57.131494Z",
          "iopub.status.idle": "2024-06-15T14:40:57.149601Z",
          "shell.execute_reply.started": "2024-06-15T14:40:57.131457Z",
          "shell.execute_reply": "2024-06-15T14:40:57.148586Z"
        },
        "trusted": true
      },
      "execution_count": null,
      "outputs": [
        {
          "name": "stdout",
          "text": "এ এ\n",
          "output_type": "stream"
        }
      ]
    },
    {
      "cell_type": "markdown",
      "source": [
        "So we can use this mapping to find the position of the start and end tokens of our answer in a given feature. We just have to distinguish which parts of the offsets correspond to the question and which part correspond to the context, this is where the `sequence_ids` method of our `tokenized_example` can be useful:"
      ],
      "metadata": {
        "id": "BwM6CAaMw2D-"
      }
    },
    {
      "cell_type": "code",
      "source": [
        "sequence_ids = tokenized_example.sequence_ids()\n",
        "print(sequence_ids)"
      ],
      "metadata": {
        "id": "WCZgd3w4w2D-",
        "outputId": "7e8a06fc-59f1-4292-c68a-4a781b31306b",
        "execution": {
          "iopub.status.busy": "2024-06-15T14:40:57.151945Z",
          "iopub.execute_input": "2024-06-15T14:40:57.152271Z",
          "iopub.status.idle": "2024-06-15T14:40:57.160109Z",
          "shell.execute_reply.started": "2024-06-15T14:40:57.152244Z",
          "shell.execute_reply": "2024-06-15T14:40:57.159148Z"
        },
        "trusted": true
      },
      "execution_count": null,
      "outputs": [
        {
          "name": "stdout",
          "text": "[None, 0, 0, 0, 0, 0, 0, 0, 0, 0, 0, 0, None, 1, 1, 1, 1, 1, 1, 1, 1, 1, 1, 1, 1, 1, 1, 1, 1, 1, 1, 1, 1, 1, 1, 1, 1, 1, 1, 1, 1, 1, 1, 1, 1, 1, 1, 1, 1, 1, 1, 1, 1, 1, 1, 1, 1, 1, 1, 1, 1, 1, 1, 1, 1, 1, 1, 1, 1, 1, 1, 1, 1, 1, 1, 1, 1, 1, 1, 1, 1, 1, 1, 1, 1, 1, 1, 1, 1, 1, 1, 1, 1, 1, 1, 1, 1, 1, 1, 1, 1, 1, 1, 1, 1, 1, 1, 1, 1, 1, 1, 1, 1, 1, 1, 1, 1, 1, 1, 1, 1, 1, 1, 1, 1, 1, 1, 1, 1, 1, 1, 1, 1, 1, 1, 1, 1, 1, 1, 1, 1, 1, 1, 1, 1, 1, 1, 1, 1, 1, 1, 1, 1, 1, 1, 1, 1, 1, 1, 1, 1, 1, 1, 1, 1, 1, 1, 1, 1, 1, 1, 1, 1, 1, 1, 1, 1, 1, 1, 1, 1, 1, 1, 1, 1, 1, 1, 1, 1, 1, 1, 1, 1, 1, 1, 1, 1, 1, 1, 1, 1, 1, 1, 1, 1, 1, 1, 1, 1, 1, 1, 1, 1, 1, 1, 1, 1, 1, 1, 1, 1, 1, 1, 1, 1, 1, 1, 1, 1, 1, 1, 1, 1, 1, 1, 1, 1, 1, 1, 1, 1, 1, 1, 1, 1, 1, 1, 1, 1, 1, 1, 1, 1, 1, 1, 1, 1, 1, 1, 1, 1, 1, 1, 1, 1, 1, 1, 1, 1, 1, 1, 1, 1, 1, 1, 1, 1, 1, 1, 1, 1, 1, 1, 1, 1, 1, 1, 1, 1, 1, 1, 1, 1, 1, 1, 1, 1, 1, 1, 1, 1, 1, 1, 1, 1, 1, 1, 1, 1, 1, 1, 1, 1, 1, 1, 1, 1, 1, 1, 1, 1, 1, 1, 1, 1, 1, 1, 1, 1, 1, 1, 1, 1, 1, 1, 1, 1, 1, 1, 1, 1, 1, 1, 1, 1, 1, 1, 1, 1, 1, 1, 1, 1, 1, 1, 1, 1, 1, 1, 1, 1, 1, 1, 1, 1, 1, 1, 1, 1, 1, 1, 1, 1, 1, 1, 1, 1, 1, 1, 1, 1, 1, 1, None]\n",
          "output_type": "stream"
        }
      ]
    },
    {
      "cell_type": "markdown",
      "source": [
        "It returns `None` for the special tokens, then 0 or 1 depending on whether the corresponding token comes from the first sentence past (the question) or the second (the context). Now with all of this, we can find the first and last token of the answer in one of our input feature (or if the answer is not in this feature):"
      ],
      "metadata": {
        "id": "ourFlAeXw2D-"
      }
    },
    {
      "cell_type": "code",
      "source": [
        "answers = example[\"answers\"]\n",
        "start_char = answers[\"answer_start\"][0]\n",
        "end_char = start_char + len(answers[\"text\"][0])\n",
        "\n",
        "# Start token index of the current span in the text.\n",
        "token_start_index = 0\n",
        "while sequence_ids[token_start_index] != 1:\n",
        "    token_start_index += 1\n",
        "\n",
        "# End token index of the current span in the text.\n",
        "token_end_index = len(tokenized_example[\"input_ids\"][0]) - 1\n",
        "while sequence_ids[token_end_index] != 1:\n",
        "    token_end_index -= 1\n",
        "\n",
        "# Detect if the answer is out of the span (in which case this feature is labeled with the CLS index).\n",
        "offsets = tokenized_example[\"offset_mapping\"][0]\n",
        "if (offsets[token_start_index][0] <= start_char and offsets[token_end_index][1] >= end_char):\n",
        "    # Move the token_start_index and token_end_index to the two ends of the answer.\n",
        "    # Note: we could go after the last offset if the answer is the last word (edge case).\n",
        "    while token_start_index < len(offsets) and offsets[token_start_index][0] <= start_char:\n",
        "        token_start_index += 1\n",
        "    start_position = token_start_index - 1\n",
        "    while offsets[token_end_index][1] >= end_char:\n",
        "        token_end_index -= 1\n",
        "    end_position = token_end_index + 1\n",
        "    print(start_position, end_position)\n",
        "else:\n",
        "    print(\"The answer is not in this feature.\")"
      ],
      "metadata": {
        "id": "3Yasb24rw2D-",
        "outputId": "60de6ee5-968f-4bb8-a538-89d6dfa11e44",
        "execution": {
          "iopub.status.busy": "2024-06-15T14:40:57.161161Z",
          "iopub.execute_input": "2024-06-15T14:40:57.161441Z",
          "iopub.status.idle": "2024-06-15T14:40:57.172865Z",
          "shell.execute_reply.started": "2024-06-15T14:40:57.161417Z",
          "shell.execute_reply": "2024-06-15T14:40:57.171881Z"
        },
        "trusted": true
      },
      "execution_count": null,
      "outputs": [
        {
          "name": "stdout",
          "text": "259 259\n",
          "output_type": "stream"
        }
      ]
    },
    {
      "cell_type": "markdown",
      "source": [
        "And we can double check that it is indeed the theoretical answer:"
      ],
      "metadata": {
        "id": "Tb8YZi6Nw2D-"
      }
    },
    {
      "cell_type": "code",
      "source": [
        "print(tokenizer.decode(tokenized_example[\"input_ids\"][0][start_position: end_position+1]))\n",
        "print(answers[\"text\"][0])"
      ],
      "metadata": {
        "id": "VECpa_rhw2D-",
        "outputId": "d2510149-3e8e-431b-d3d9-67b93074a6b9",
        "execution": {
          "iopub.status.busy": "2024-06-15T14:40:57.174311Z",
          "iopub.execute_input": "2024-06-15T14:40:57.174690Z",
          "iopub.status.idle": "2024-06-15T14:40:57.183609Z",
          "shell.execute_reply.started": "2024-06-15T14:40:57.174657Z",
          "shell.execute_reply": "2024-06-15T14:40:57.182745Z"
        },
        "trusted": true
      },
      "execution_count": null,
      "outputs": [
        {
          "name": "stdout",
          "text": "[UNK]\n৩১৯৬\n",
          "output_type": "stream"
        }
      ]
    },
    {
      "cell_type": "markdown",
      "source": [
        "For this notebook to work with any kind of models, we need to account for the special case where the model expects padding on the left (in which case we switch the order of the question and the context):"
      ],
      "metadata": {
        "id": "nQnfldBsw2D-"
      }
    },
    {
      "cell_type": "code",
      "source": [
        "pad_on_right = tokenizer.padding_side == \"right\""
      ],
      "metadata": {
        "id": "lLPTEjfYw2D-",
        "execution": {
          "iopub.status.busy": "2024-06-15T14:40:57.184715Z",
          "iopub.execute_input": "2024-06-15T14:40:57.185105Z",
          "iopub.status.idle": "2024-06-15T14:40:57.193254Z",
          "shell.execute_reply.started": "2024-06-15T14:40:57.185068Z",
          "shell.execute_reply": "2024-06-15T14:40:57.192443Z"
        },
        "trusted": true
      },
      "execution_count": null,
      "outputs": []
    },
    {
      "cell_type": "markdown",
      "source": [
        "Now let's put everything together in one function we will apply to our training set. In the case of impossible answers (the answer is in another feature given by an example with a long context), we set the cls index for both the start and end position. We could also simply discard those examples from the training set if the flag `allow_impossible_answers` is `False`. Since the preprocessing is already complex enough as it is, we've kept is simple for this part."
      ],
      "metadata": {
        "id": "iRlloYl_w2D_"
      }
    },
    {
      "cell_type": "code",
      "source": [
        "def prepare_train_features(examples):\n",
        "    # Some of the questions have lots of whitespace on the left, which is not useful and will make the\n",
        "    # truncation of the context fail (the tokenized question will take a lots of space). So we remove that\n",
        "    # left whitespace\n",
        "    examples[\"question\"] = [q.lstrip() for q in examples[\"question\"]]\n",
        "\n",
        "    # Tokenize our examples with truncation and padding, but keep the overflows using a stride. This results\n",
        "    # in one example possible giving several features when a context is long, each of those features having a\n",
        "    # context that overlaps a bit the context of the previous feature.\n",
        "    tokenized_examples = tokenizer(\n",
        "        examples[\"question\" if pad_on_right else \"context\"],\n",
        "        examples[\"context\" if pad_on_right else \"question\"],\n",
        "        truncation=\"only_second\" if pad_on_right else \"only_first\",\n",
        "        max_length=max_length,\n",
        "        stride=doc_stride,\n",
        "        return_overflowing_tokens=True,\n",
        "        return_offsets_mapping=True,\n",
        "        padding=\"max_length\",\n",
        "    )\n",
        "\n",
        "    # Since one example might give us several features if it has a long context, we need a map from a feature to\n",
        "    # its corresponding example. This key gives us just that.\n",
        "    sample_mapping = tokenized_examples.pop(\"overflow_to_sample_mapping\")\n",
        "    # The offset mappings will give us a map from token to character position in the original context. This will\n",
        "    # help us compute the start_positions and end_positions.\n",
        "    offset_mapping = tokenized_examples.pop(\"offset_mapping\")\n",
        "\n",
        "    # Let's label those examples!\n",
        "    tokenized_examples[\"start_positions\"] = []\n",
        "    tokenized_examples[\"end_positions\"] = []\n",
        "\n",
        "    for i, offsets in enumerate(offset_mapping):\n",
        "        # We will label impossible answers with the index of the CLS token.\n",
        "        input_ids = tokenized_examples[\"input_ids\"][i]\n",
        "        cls_index = input_ids.index(tokenizer.cls_token_id)\n",
        "\n",
        "        # Grab the sequence corresponding to that example (to know what is the context and what is the question).\n",
        "        sequence_ids = tokenized_examples.sequence_ids(i)\n",
        "\n",
        "        # One example can give several spans, this is the index of the example containing this span of text.\n",
        "        sample_index = sample_mapping[i]\n",
        "        answers = examples[\"answers\"][sample_index]\n",
        "        # If no answers are given, set the cls_index as answer.\n",
        "        if len(answers[\"answer_start\"]) == 0:\n",
        "            tokenized_examples[\"start_positions\"].append(cls_index)\n",
        "            tokenized_examples[\"end_positions\"].append(cls_index)\n",
        "        else:\n",
        "            # Start/end character index of the answer in the text.\n",
        "            start_char = answers[\"answer_start\"][0]\n",
        "            end_char = start_char + len(answers[\"text\"][0])\n",
        "\n",
        "            # Start token index of the current span in the text.\n",
        "            token_start_index = 0\n",
        "            while sequence_ids[token_start_index] != (1 if pad_on_right else 0):\n",
        "                token_start_index += 1\n",
        "\n",
        "            # End token index of the current span in the text.\n",
        "            token_end_index = len(input_ids) - 1\n",
        "            while sequence_ids[token_end_index] != (1 if pad_on_right else 0):\n",
        "                token_end_index -= 1\n",
        "\n",
        "            # Detect if the answer is out of the span (in which case this feature is labeled with the CLS index).\n",
        "            if not (offsets[token_start_index][0] <= start_char and offsets[token_end_index][1] >= end_char):\n",
        "                tokenized_examples[\"start_positions\"].append(cls_index)\n",
        "                tokenized_examples[\"end_positions\"].append(cls_index)\n",
        "            else:\n",
        "                # Otherwise move the token_start_index and token_end_index to the two ends of the answer.\n",
        "                # Note: we could go after the last offset if the answer is the last word (edge case).\n",
        "                while token_start_index < len(offsets) and offsets[token_start_index][0] <= start_char:\n",
        "                    token_start_index += 1\n",
        "                tokenized_examples[\"start_positions\"].append(token_start_index - 1)\n",
        "                while offsets[token_end_index][1] >= end_char:\n",
        "                    token_end_index -= 1\n",
        "                tokenized_examples[\"end_positions\"].append(token_end_index + 1)\n",
        "\n",
        "    return tokenized_examples"
      ],
      "metadata": {
        "id": "R5Ou_Vnnw2D_",
        "execution": {
          "iopub.status.busy": "2024-06-15T14:40:57.194447Z",
          "iopub.execute_input": "2024-06-15T14:40:57.194791Z",
          "iopub.status.idle": "2024-06-15T14:40:57.211294Z",
          "shell.execute_reply.started": "2024-06-15T14:40:57.194758Z",
          "shell.execute_reply": "2024-06-15T14:40:57.210376Z"
        },
        "trusted": true
      },
      "execution_count": null,
      "outputs": []
    },
    {
      "cell_type": "markdown",
      "source": [
        "This function works with one or several examples. In the case of several examples, the tokenizer will return a list of lists for each key:"
      ],
      "metadata": {
        "id": "0lm8ozrJIrJR"
      }
    },
    {
      "cell_type": "code",
      "source": [
        "features = prepare_train_features(datasets['train'][:5])"
      ],
      "metadata": {
        "id": "-b70jh26IrJS",
        "execution": {
          "iopub.status.busy": "2024-06-15T14:40:57.212426Z",
          "iopub.execute_input": "2024-06-15T14:40:57.212754Z",
          "iopub.status.idle": "2024-06-15T14:40:57.229573Z",
          "shell.execute_reply.started": "2024-06-15T14:40:57.212730Z",
          "shell.execute_reply": "2024-06-15T14:40:57.228677Z"
        },
        "trusted": true
      },
      "execution_count": null,
      "outputs": []
    },
    {
      "cell_type": "markdown",
      "source": [
        "To apply this function on all the sentences (or pairs of sentences) in our dataset, we just use the `map` method of our `dataset` object we created earlier. This will apply the function on all the elements of all the splits in `dataset`, so our training, validation and testing data will be preprocessed in one single command. Since our preprocessing changes the number of samples, we need to remove the old columns when applying it."
      ],
      "metadata": {
        "id": "zS-6iXTkIrJT"
      }
    },
    {
      "cell_type": "code",
      "source": [
        "tokenized_datasets = datasets.map(prepare_train_features, batched=True, remove_columns=datasets[\"train\"].column_names)"
      ],
      "metadata": {
        "id": "DDtsaJeVIrJT",
        "outputId": "aa4734bf-4ef5-4437-9948-2c16363da719",
        "execution": {
          "iopub.status.busy": "2024-06-15T14:40:57.232047Z",
          "iopub.execute_input": "2024-06-15T14:40:57.232309Z",
          "iopub.status.idle": "2024-06-15T14:41:10.935049Z",
          "shell.execute_reply.started": "2024-06-15T14:40:57.232286Z",
          "shell.execute_reply": "2024-06-15T14:41:10.934097Z"
        },
        "trusted": true,
        "colab": {
          "referenced_widgets": [
            "62ba3a2ef49a413fbf05c7bf18221118",
            "293ab520771f4258a69148b964cb9763",
            "d089c4058c0546a39e6bb0c7b2d9b45b"
          ]
        }
      },
      "execution_count": null,
      "outputs": [
        {
          "name": "stdout",
          "text": "The OrderedVocab you are attempting to save contains holes for indices [1015, 1016, 1017, 1018, 1053, 1054, 1055, 1056, 1057, 1060, 1061, 1062, 1064, 1065, 1066, 1067, 1068, 1069, 1070, 1071, 1072, 1073, 1074, 1075, 1076, 1077, 1079, 1080, 1081, 1082, 1083, 1084, 1085, 1086, 1087, 1088, 1089, 1090, 1091, 1092, 1093, 1094, 1095, 1099, 1101, 1112, 1113, 1556, 1557, 1568], your vocabulary could be corrupted !\n",
          "output_type": "stream"
        },
        {
          "output_type": "display_data",
          "data": {
            "text/plain": "Map:   0%|          | 0/10000 [00:00<?, ? examples/s]",
            "application/vnd.jupyter.widget-view+json": {
              "version_major": 2,
              "version_minor": 0,
              "model_id": "62ba3a2ef49a413fbf05c7bf18221118"
            }
          },
          "metadata": {}
        },
        {
          "name": "stdout",
          "text": "The OrderedVocab you are attempting to save contains holes for indices [1015, 1016, 1017, 1018, 1053, 1054, 1055, 1056, 1057, 1060, 1061, 1062, 1064, 1065, 1066, 1067, 1068, 1069, 1070, 1071, 1072, 1073, 1074, 1075, 1076, 1077, 1079, 1080, 1081, 1082, 1083, 1084, 1085, 1086, 1087, 1088, 1089, 1090, 1091, 1092, 1093, 1094, 1095, 1099, 1101, 1112, 1113, 1556, 1557, 1568], your vocabulary could be corrupted !\n",
          "output_type": "stream"
        },
        {
          "output_type": "display_data",
          "data": {
            "text/plain": "Map:   0%|          | 0/1200 [00:00<?, ? examples/s]",
            "application/vnd.jupyter.widget-view+json": {
              "version_major": 2,
              "version_minor": 0,
              "model_id": "293ab520771f4258a69148b964cb9763"
            }
          },
          "metadata": {}
        },
        {
          "name": "stdout",
          "text": "The OrderedVocab you are attempting to save contains holes for indices [1015, 1016, 1017, 1018, 1053, 1054, 1055, 1056, 1057, 1060, 1061, 1062, 1064, 1065, 1066, 1067, 1068, 1069, 1070, 1071, 1072, 1073, 1074, 1075, 1076, 1077, 1079, 1080, 1081, 1082, 1083, 1084, 1085, 1086, 1087, 1088, 1089, 1090, 1091, 1092, 1093, 1094, 1095, 1099, 1101, 1112, 1113, 1556, 1557, 1568], your vocabulary could be corrupted !\n",
          "output_type": "stream"
        },
        {
          "output_type": "display_data",
          "data": {
            "text/plain": "Map:   0%|          | 0/1200 [00:00<?, ? examples/s]",
            "application/vnd.jupyter.widget-view+json": {
              "version_major": 2,
              "version_minor": 0,
              "model_id": "d089c4058c0546a39e6bb0c7b2d9b45b"
            }
          },
          "metadata": {}
        }
      ]
    },
    {
      "cell_type": "markdown",
      "source": [
        "Even better, the results are automatically cached by the 🤗 Datasets library to avoid spending time on this step the next time you run your notebook. The 🤗 Datasets library is normally smart enough to detect when the function you pass to map has changed (and thus requires to not use the cache data). For instance, it will properly detect if you change the task in the first cell and rerun the notebook. 🤗 Datasets warns you when it uses cached files, you can pass `load_from_cache_file=False` in the call to `map` to not use the cached files and force the preprocessing to be applied again.\n",
        "\n",
        "Note that we passed `batched=True` to encode the texts by batches together. This is to leverage the full benefit of the fast tokenizer we loaded earlier, which will use multi-threading to treat the texts in a batch concurrently."
      ],
      "metadata": {
        "id": "voWiw8C7IrJV"
      }
    },
    {
      "cell_type": "markdown",
      "source": [
        "## Fine-tuning the model"
      ],
      "metadata": {
        "id": "545PP3o8IrJV"
      }
    },
    {
      "cell_type": "markdown",
      "source": [
        "Now that our data is ready for training, we can download the pretrained model and fine-tune it. Since our task is question answering, we use the `AutoModelForQuestionAnswering` class. Like with the tokenizer, the `from_pretrained` method will download and cache the model for us:"
      ],
      "metadata": {
        "id": "FBiW8UpKIrJW"
      }
    },
    {
      "cell_type": "code",
      "source": [
        "from transformers import AutoModelForQuestionAnswering, TrainingArguments, Trainer\n",
        "\n",
        "model = AutoModelForQuestionAnswering.from_pretrained(model_checkpoint)"
      ],
      "metadata": {
        "id": "TlqNaB8jIrJW",
        "outputId": "84916cf3-6e6c-47f3-d081-032ec30a4132",
        "execution": {
          "iopub.status.busy": "2024-06-15T14:41:10.936269Z",
          "iopub.execute_input": "2024-06-15T14:41:10.936587Z",
          "iopub.status.idle": "2024-06-15T14:41:20.275668Z",
          "shell.execute_reply.started": "2024-06-15T14:41:10.936560Z",
          "shell.execute_reply": "2024-06-15T14:41:20.274842Z"
        },
        "trusted": true,
        "colab": {
          "referenced_widgets": [
            "7acd446cae6149dcac1cd493c621be63"
          ]
        }
      },
      "execution_count": null,
      "outputs": [
        {
          "output_type": "display_data",
          "data": {
            "text/plain": "model.safetensors:   0%|          | 0.00/660M [00:00<?, ?B/s]",
            "application/vnd.jupyter.widget-view+json": {
              "version_major": 2,
              "version_minor": 0,
              "model_id": "7acd446cae6149dcac1cd493c621be63"
            }
          },
          "metadata": {}
        },
        {
          "name": "stderr",
          "text": "Some weights of BertForQuestionAnswering were not initialized from the model checkpoint at sagorsarker/bangla-bert-base and are newly initialized: ['qa_outputs.bias', 'qa_outputs.weight']\nYou should probably TRAIN this model on a down-stream task to be able to use it for predictions and inference.\n",
          "output_type": "stream"
        }
      ]
    },
    {
      "cell_type": "markdown",
      "source": [
        "The warning is telling us we are throwing away some weights (the `vocab_transform` and `vocab_layer_norm` layers) and randomly initializing some other (the `pre_classifier` and `classifier` layers). This is absolutely normal in this case, because we are removing the head used to pretrain the model on a masked language modeling objective and replacing it with a new head for which we don't have pretrained weights, so the library warns us we should fine-tune this model before using it for inference, which is exactly what we are going to do."
      ],
      "metadata": {
        "id": "CczA5lJlIrJX"
      }
    },
    {
      "cell_type": "markdown",
      "source": [
        "\n",
        "To instantiate a `Trainer`, we will need to define three more things. The most important is the [`TrainingArguments`](https://huggingface.co/transformers/main_classes/trainer.html#transformers.TrainingArguments), which is a class that contains all the attributes to customize the training. It requires one folder name, which will be used to save the checkpoints of the model, and all other arguments are optional:"
      ],
      "metadata": {
        "id": "_N8urzhyIrJY"
      }
    },
    {
      "cell_type": "code",
      "source": [
        "model_name = model_checkpoint.split(\"/\")[-1]\n",
        "args = TrainingArguments(\n",
        "#     f\"{model_name}-finetuned-squad1.2\",\n",
        "    f\"{model_name}-finetuned-brqa-confirmation\",\n",
        "    evaluation_strategy = \"epoch\",\n",
        "    learning_rate=2e-5,\n",
        "    per_device_train_batch_size=batch_size,\n",
        "    per_device_eval_batch_size=batch_size,\n",
        "    num_train_epochs=3,\n",
        "    weight_decay=0.01,\n",
        "    save_strategy=\"no\",\n",
        "    push_to_hub=True,\n",
        ")"
      ],
      "metadata": {
        "id": "Bliy8zgjIrJY",
        "execution": {
          "iopub.status.busy": "2024-06-15T14:41:20.276914Z",
          "iopub.execute_input": "2024-06-15T14:41:20.277208Z",
          "iopub.status.idle": "2024-06-15T14:41:20.359056Z",
          "shell.execute_reply.started": "2024-06-15T14:41:20.277183Z",
          "shell.execute_reply": "2024-06-15T14:41:20.357902Z"
        },
        "trusted": true,
        "outputId": "b2864adf-f576-4aa1-f7f4-c1a2c69b1a41"
      },
      "execution_count": null,
      "outputs": [
        {
          "name": "stderr",
          "text": "/opt/conda/lib/python3.10/site-packages/transformers/training_args.py:1474: FutureWarning: `evaluation_strategy` is deprecated and will be removed in version 4.46 of 🤗 Transformers. Use `eval_strategy` instead\n  warnings.warn(\n",
          "output_type": "stream"
        }
      ]
    },
    {
      "cell_type": "markdown",
      "source": [
        "Here we set the evaluation to be done at the end of each epoch, tweak the learning rate, use the `batch_size` defined at the top of the notebook and customize the number of epochs for training, as well as the weight decay.\n",
        "\n",
        "The last argument to setup everything so we can push the model to the [Hub](https://huggingface.co/models) regularly during training. Remove it if you didn't follow the installation steps at the top of the notebook. If you want to save your model locally in a name that is different than the name of the repository it will be pushed, or if you want to push your model under an organization and not your name space, use the `hub_model_id` argument to set the repo name (it needs to be the full name, including your namespace: for instance `\"sgugger/bert-finetuned-squad\"` or `\"huggingface/bert-finetuned-squad\"`)."
      ],
      "metadata": {
        "id": "km3pGVdTIrJc"
      }
    },
    {
      "cell_type": "markdown",
      "source": [
        "Then we will need a data collator that will batch our processed examples together, here the default one will work:"
      ],
      "metadata": {
        "id": "I-84Z1Vxw2D_"
      }
    },
    {
      "cell_type": "code",
      "source": [
        "from transformers import default_data_collator\n",
        "\n",
        "data_collator = default_data_collator"
      ],
      "metadata": {
        "id": "-NIrFiIjw2D_",
        "execution": {
          "iopub.status.busy": "2024-06-15T14:41:23.387939Z",
          "iopub.execute_input": "2024-06-15T14:41:23.388594Z",
          "iopub.status.idle": "2024-06-15T14:41:23.393376Z",
          "shell.execute_reply.started": "2024-06-15T14:41:23.388562Z",
          "shell.execute_reply": "2024-06-15T14:41:23.392342Z"
        },
        "trusted": true
      },
      "execution_count": null,
      "outputs": []
    },
    {
      "cell_type": "markdown",
      "source": [
        "We will evaluate our model and compute metrics in the next section (this is a very long operation, so we will only compute the evaluation loss during training).\n",
        "\n",
        "Then we just need to pass all of this along with our datasets to the `Trainer`:"
      ],
      "metadata": {
        "id": "rXuFTAzDIrJe"
      }
    },
    {
      "cell_type": "code",
      "source": [
        "# small_train_dataset = tokenized_datasets[\"train\"].select(range(80000))  # Selecting the first 1000 examples\n",
        "\n",
        "# Now, you can pass this smaller dataset to the Trainer\n",
        "trainer = Trainer(\n",
        "    model,\n",
        "    args,\n",
        "    train_dataset=tokenized_datasets[\"train\"],\n",
        "    eval_dataset=tokenized_datasets[\"validation\"],\n",
        "    data_collator=data_collator,\n",
        "    tokenizer=tokenizer,\n",
        ")"
      ],
      "metadata": {
        "id": "imY1oC3SIrJf",
        "execution": {
          "iopub.status.busy": "2024-06-15T14:41:25.081189Z",
          "iopub.execute_input": "2024-06-15T14:41:25.081874Z",
          "iopub.status.idle": "2024-06-15T14:41:26.113620Z",
          "shell.execute_reply.started": "2024-06-15T14:41:25.081840Z",
          "shell.execute_reply": "2024-06-15T14:41:26.112805Z"
        },
        "trusted": true
      },
      "execution_count": null,
      "outputs": []
    },
    {
      "cell_type": "markdown",
      "source": [
        "We can now finetune our model by just calling the `train` method:"
      ],
      "metadata": {
        "id": "CdzABDVcIrJg"
      }
    },
    {
      "cell_type": "code",
      "source": [
        "trainer.train()"
      ],
      "metadata": {
        "id": "uNx5pyRlIrJh",
        "outputId": "077e661e-d36c-469b-89b8-7ff7f73541ec",
        "execution": {
          "iopub.status.busy": "2024-06-15T14:41:27.892758Z",
          "iopub.execute_input": "2024-06-15T14:41:27.894070Z",
          "iopub.status.idle": "2024-06-15T15:05:22.542925Z",
          "shell.execute_reply.started": "2024-06-15T14:41:27.894019Z",
          "shell.execute_reply": "2024-06-15T15:05:22.541675Z"
        },
        "trusted": true
      },
      "execution_count": null,
      "outputs": [
        {
          "name": "stderr",
          "text": "\u001b[34m\u001b[1mwandb\u001b[0m: \u001b[33mWARNING\u001b[0m The `run_name` is currently set to the same value as `TrainingArguments.output_dir`. If this was not intended, please specify a different run name by setting the `TrainingArguments.run_name` parameter.\n\u001b[34m\u001b[1mwandb\u001b[0m: Logging into wandb.ai. (Learn how to deploy a W&B server locally: https://wandb.me/wandb-server)\n\u001b[34m\u001b[1mwandb\u001b[0m: You can find your API key in your browser here: https://wandb.ai/authorize\n\u001b[34m\u001b[1mwandb\u001b[0m: Paste an API key from your profile and hit enter, or press ctrl+c to quit:",
          "output_type": "stream"
        },
        {
          "output_type": "stream",
          "name": "stdin",
          "text": "  ········································\n"
        },
        {
          "name": "stderr",
          "text": "\u001b[34m\u001b[1mwandb\u001b[0m: Appending key for api.wandb.ai to your netrc file: /root/.netrc\n",
          "output_type": "stream"
        },
        {
          "output_type": "display_data",
          "data": {
            "text/plain": "<IPython.core.display.HTML object>",
            "text/html": "wandb version 0.17.1 is available!  To upgrade, please run:\n $ pip install wandb --upgrade"
          },
          "metadata": {}
        },
        {
          "output_type": "display_data",
          "data": {
            "text/plain": "<IPython.core.display.HTML object>",
            "text/html": "Tracking run with wandb version 0.17.0"
          },
          "metadata": {}
        },
        {
          "output_type": "display_data",
          "data": {
            "text/plain": "<IPython.core.display.HTML object>",
            "text/html": "Run data is saved locally in <code>/kaggle/working/wandb/run-20240615_144144-q6h1xhgz</code>"
          },
          "metadata": {}
        },
        {
          "output_type": "display_data",
          "data": {
            "text/plain": "<IPython.core.display.HTML object>",
            "text/html": "Syncing run <strong><a href='https://wandb.ai/shakuniut/huggingface/runs/q6h1xhgz' target=\"_blank\">bangla-bert-base-finetuned-squadbn</a></strong> to <a href='https://wandb.ai/shakuniut/huggingface' target=\"_blank\">Weights & Biases</a> (<a href='https://wandb.me/run' target=\"_blank\">docs</a>)<br/>"
          },
          "metadata": {}
        },
        {
          "output_type": "display_data",
          "data": {
            "text/plain": "<IPython.core.display.HTML object>",
            "text/html": " View project at <a href='https://wandb.ai/shakuniut/huggingface' target=\"_blank\">https://wandb.ai/shakuniut/huggingface</a>"
          },
          "metadata": {}
        },
        {
          "output_type": "display_data",
          "data": {
            "text/plain": "<IPython.core.display.HTML object>",
            "text/html": " View run at <a href='https://wandb.ai/shakuniut/huggingface/runs/q6h1xhgz' target=\"_blank\">https://wandb.ai/shakuniut/huggingface/runs/q6h1xhgz</a>"
          },
          "metadata": {}
        },
        {
          "output_type": "display_data",
          "data": {
            "text/plain": "<IPython.core.display.HTML object>",
            "text/html": "\n    <div>\n      \n      <progress value='2043' max='2043' style='width:300px; height:20px; vertical-align: middle;'></progress>\n      [2043/2043 23:19, Epoch 3/3]\n    </div>\n    <table border=\"1\" class=\"dataframe\">\n  <thead>\n <tr style=\"text-align: left;\">\n      <th>Epoch</th>\n      <th>Training Loss</th>\n      <th>Validation Loss</th>\n    </tr>\n  </thead>\n  <tbody>\n    <tr>\n      <td>1</td>\n      <td>2.861400</td>\n      <td>2.272128</td>\n    </tr>\n    <tr>\n      <td>2</td>\n      <td>2.345100</td>\n      <td>2.240340</td>\n    </tr>\n    <tr>\n      <td>3</td>\n      <td>1.813600</td>\n      <td>2.324868</td>\n    </tr>\n  </tbody>\n</table><p>"
          },
          "metadata": {}
        },
        {
          "execution_count": 46,
          "output_type": "execute_result",
          "data": {
            "text/plain": "TrainOutput(global_step=2043, training_loss=2.2644820957865366, metrics={'train_runtime': 1434.2996, 'train_samples_per_second': 22.759, 'train_steps_per_second': 1.424, 'total_flos': 6397132522599936.0, 'train_loss': 2.2644820957865366, 'epoch': 3.0})"
          },
          "metadata": {}
        }
      ]
    },
    {
      "cell_type": "markdown",
      "source": [
        "Since this training is particularly long, let's save the model just in case we need to restart."
      ],
      "metadata": {
        "id": "MCbpvHopw2EA"
      }
    },
    {
      "cell_type": "code",
      "source": [
        "trainer.save_model(\"test-brqa-squad-augmented-trained-indic\")\n",
        "# trainer.save_model(\"test-BanglaRQA-squad-trained-indic\")"
      ],
      "metadata": {
        "id": "FM8cWwnvw2EA",
        "execution": {
          "iopub.status.busy": "2024-06-12T04:47:23.297673Z",
          "iopub.execute_input": "2024-06-12T04:47:23.298090Z",
          "iopub.status.idle": "2024-06-12T04:47:30.527270Z",
          "shell.execute_reply.started": "2024-06-12T04:47:23.298035Z",
          "shell.execute_reply": "2024-06-12T04:47:30.526110Z"
        },
        "trusted": true
      },
      "execution_count": null,
      "outputs": []
    },
    {
      "cell_type": "markdown",
      "source": [
        "## Evaluation"
      ],
      "metadata": {
        "id": "L1P5VpM4w2EA"
      }
    },
    {
      "cell_type": "markdown",
      "source": [
        "Evaluating our model will require a bit more work, as we will need to map the predictions of our model back to parts of the context. The model itself predicts logits for the start and en position of our answers: if we take a batch from our validation datalaoder, here is the output our model gives us:"
      ],
      "metadata": {
        "id": "bmOY1b2Lw2EA"
      }
    },
    {
      "cell_type": "code",
      "source": [
        "import torch\n",
        "\n",
        "for batch in trainer.get_eval_dataloader():\n",
        "    break\n",
        "batch = {k: v.to(trainer.args.device) for k, v in batch.items()}\n",
        "with torch.no_grad():\n",
        "    output = trainer.model(**batch)\n",
        "output.keys()"
      ],
      "metadata": {
        "id": "0R6UKhL7w2EA",
        "outputId": "2ccaec67-e456-42b0-ce44-4cdcb1c82353",
        "execution": {
          "iopub.status.busy": "2024-06-15T15:09:41.369534Z",
          "iopub.execute_input": "2024-06-15T15:09:41.369983Z",
          "iopub.status.idle": "2024-06-15T15:09:41.439989Z",
          "shell.execute_reply.started": "2024-06-15T15:09:41.369949Z",
          "shell.execute_reply": "2024-06-15T15:09:41.438642Z"
        },
        "trusted": true
      },
      "execution_count": null,
      "outputs": [
        {
          "execution_count": 47,
          "output_type": "execute_result",
          "data": {
            "text/plain": "odict_keys(['loss', 'start_logits', 'end_logits'])"
          },
          "metadata": {}
        }
      ]
    },
    {
      "cell_type": "markdown",
      "source": [
        "The output of the model is a dict-like object that contains the loss (since we provided labels), the start and end logits. We won't need the loss for our predictions, let's have a look a the logits:"
      ],
      "metadata": {
        "id": "CefzV1Oqw2EA"
      }
    },
    {
      "cell_type": "code",
      "source": [
        "output.start_logits.shape, output.end_logits.shape"
      ],
      "metadata": {
        "id": "VETC3NLdw2EA",
        "outputId": "5bade4c5-a3aa-4d7a-a28c-5b14713297d7",
        "execution": {
          "iopub.status.busy": "2024-06-15T15:09:41.847875Z",
          "iopub.execute_input": "2024-06-15T15:09:41.848668Z",
          "iopub.status.idle": "2024-06-15T15:09:41.858989Z",
          "shell.execute_reply.started": "2024-06-15T15:09:41.848627Z",
          "shell.execute_reply": "2024-06-15T15:09:41.857963Z"
        },
        "trusted": true
      },
      "execution_count": null,
      "outputs": [
        {
          "execution_count": 48,
          "output_type": "execute_result",
          "data": {
            "text/plain": "(torch.Size([16, 384]), torch.Size([16, 384]))"
          },
          "metadata": {}
        }
      ]
    },
    {
      "cell_type": "markdown",
      "source": [
        "We have one logit for each feature and each token. The most obvious thing to predict an answer for each featyre is to take the index for the maximum of the start logits as a start position and the index of the maximum of the end logits as an end position."
      ],
      "metadata": {
        "id": "JJnbu47hw2EA"
      }
    },
    {
      "cell_type": "code",
      "source": [
        "output.start_logits.argmax(dim=-1), output.end_logits.argmax(dim=-1)"
      ],
      "metadata": {
        "id": "h6A7QokVw2EA",
        "outputId": "8cb18000-10f7-40da-980f-4c5d433ba9d5",
        "execution": {
          "iopub.status.busy": "2024-06-15T15:09:42.368832Z",
          "iopub.execute_input": "2024-06-15T15:09:42.369252Z",
          "iopub.status.idle": "2024-06-15T15:09:42.394944Z",
          "shell.execute_reply.started": "2024-06-15T15:09:42.369222Z",
          "shell.execute_reply": "2024-06-15T15:09:42.393644Z"
        },
        "trusted": true
      },
      "execution_count": null,
      "outputs": [
        {
          "execution_count": 49,
          "output_type": "execute_result",
          "data": {
            "text/plain": "(tensor([36,  0,  0,  0,  0, 69,  0,  0,  0,  0, 81, 18, 17,  0,  0, 16],\n        device='cuda:0'),\n tensor([33,  0,  0,  0,  0, 76,  0,  0,  0,  0, 86, 18,  0,  0,  0, 19],\n        device='cuda:0'))"
          },
          "metadata": {}
        }
      ]
    },
    {
      "cell_type": "markdown",
      "source": [
        "This will work great in a lot of cases, but what if this prediction gives us something impossible: the start position could be greater than the end position, or point to a span of text in the question instead of the answer. In that case, we might want to look at the second best prediction to see if it gives a possible answer and select that instead.\n",
        "\n",
        "However, picking the second best answer is not as easy as picking the best one: is it the second best index in the start logits with the best index in the end logits? Or the best index in the start logits with the second best index in the end logits? And if that second best answer is not possible either, it gets even trickier for the third best answer.\n",
        "\n",
        "\n",
        "To classify our answers, we will use the score obtained by adding the start and end logits. We won't try to order all the possible answers and limit ourselves to with a hyper-parameter we call `n_best_size`. We'll pick the best indices in the start and end logits and gather all the answers this predicts. After checking if each one is valid, we will sort them by their score and keep the best one. Here is how we would do this on the first feature in the batch:"
      ],
      "metadata": {
        "id": "uJQJZJYRw2EA"
      }
    },
    {
      "cell_type": "code",
      "source": [
        "n_best_size = 10"
      ],
      "metadata": {
        "id": "9ffQ5ca_w2EA",
        "execution": {
          "iopub.status.busy": "2024-06-15T15:09:43.046248Z",
          "iopub.execute_input": "2024-06-15T15:09:43.046678Z",
          "iopub.status.idle": "2024-06-15T15:09:43.052972Z",
          "shell.execute_reply.started": "2024-06-15T15:09:43.046645Z",
          "shell.execute_reply": "2024-06-15T15:09:43.051688Z"
        },
        "trusted": true
      },
      "execution_count": null,
      "outputs": []
    },
    {
      "cell_type": "code",
      "source": [
        "import numpy as np\n",
        "\n",
        "start_logits = output.start_logits[0].cpu().numpy()\n",
        "end_logits = output.end_logits[0].cpu().numpy()\n",
        "# Gather the indices the best start/end logits:\n",
        "start_indexes = np.argsort(start_logits)[-1 : -n_best_size - 1 : -1].tolist()\n",
        "end_indexes = np.argsort(end_logits)[-1 : -n_best_size - 1 : -1].tolist()\n",
        "valid_answers = []\n",
        "for start_index in start_indexes:\n",
        "    for end_index in end_indexes:\n",
        "        if start_index <= end_index: # We need to refine that test to check the answer is inside the context\n",
        "            valid_answers.append(\n",
        "                {\n",
        "                    \"score\": start_logits[start_index] + end_logits[end_index],\n",
        "                    \"text\": \"\" # We need to find a way to get back the original substring corresponding to the answer in the context\n",
        "                }\n",
        "            )"
      ],
      "metadata": {
        "id": "b-adKL89w2EA",
        "execution": {
          "iopub.status.busy": "2024-06-15T15:09:43.286468Z",
          "iopub.execute_input": "2024-06-15T15:09:43.287100Z",
          "iopub.status.idle": "2024-06-15T15:09:43.300631Z",
          "shell.execute_reply.started": "2024-06-15T15:09:43.287066Z",
          "shell.execute_reply": "2024-06-15T15:09:43.299227Z"
        },
        "trusted": true
      },
      "execution_count": null,
      "outputs": []
    },
    {
      "cell_type": "markdown",
      "source": [
        "And then we can sort the `valid_answers` according to their `score` and only keep the best one. The only point left is how to check a given span is inside the context (and not the question) and how to get back the text inside. To do this, we need to add two things to our validation features:\n",
        "- the ID of the example that generated the feature (since each example can generate several features, as seen before);\n",
        "- the offset mapping that will give us a map from token indices to character positions in the context.\n",
        "\n",
        "That's why we will re-process the validation set with the following function, slightly different from `prepare_train_features`:"
      ],
      "metadata": {
        "id": "N-pXkEb3w2EA"
      }
    },
    {
      "cell_type": "code",
      "source": [
        "def prepare_validation_features(examples):\n",
        "    # Some of the questions have lots of whitespace on the left, which is not useful and will make the\n",
        "    # truncation of the context fail (the tokenized question will take a lots of space). So we remove that\n",
        "    # left whitespace\n",
        "    examples[\"question\"] = [q.lstrip() for q in examples[\"question\"]]\n",
        "\n",
        "    # Tokenize our examples with truncation and maybe padding, but keep the overflows using a stride. This results\n",
        "    # in one example possible giving several features when a context is long, each of those features having a\n",
        "    # context that overlaps a bit the context of the previous feature.\n",
        "    tokenized_examples = tokenizer(\n",
        "        examples[\"question\" if pad_on_right else \"context\"],\n",
        "        examples[\"context\" if pad_on_right else \"question\"],\n",
        "        truncation=\"only_second\" if pad_on_right else \"only_first\",\n",
        "        max_length=max_length,\n",
        "        stride=doc_stride,\n",
        "        return_overflowing_tokens=True,\n",
        "        return_offsets_mapping=True,\n",
        "        padding=\"max_length\",\n",
        "    )\n",
        "\n",
        "    # Since one example might give us several features if it has a long context, we need a map from a feature to\n",
        "    # its corresponding example. This key gives us just that.\n",
        "    sample_mapping = tokenized_examples.pop(\"overflow_to_sample_mapping\")\n",
        "\n",
        "    # We keep the example_id that gave us this feature and we will store the offset mappings.\n",
        "    tokenized_examples[\"example_id\"] = []\n",
        "\n",
        "    for i in range(len(tokenized_examples[\"input_ids\"])):\n",
        "        # Grab the sequence corresponding to that example (to know what is the context and what is the question).\n",
        "        sequence_ids = tokenized_examples.sequence_ids(i)\n",
        "        context_index = 1 if pad_on_right else 0\n",
        "\n",
        "        # One example can give several spans, this is the index of the example containing this span of text.\n",
        "        sample_index = sample_mapping[i]\n",
        "        tokenized_examples[\"example_id\"].append(examples[\"id\"][sample_index])\n",
        "\n",
        "        # Set to None the offset_mapping that are not part of the context so it's easy to determine if a token\n",
        "        # position is part of the context or not.\n",
        "        tokenized_examples[\"offset_mapping\"][i] = [\n",
        "            (o if sequence_ids[k] == context_index else None)\n",
        "            for k, o in enumerate(tokenized_examples[\"offset_mapping\"][i])\n",
        "        ]\n",
        "\n",
        "    return tokenized_examples"
      ],
      "metadata": {
        "id": "RPszZgmew2EA",
        "execution": {
          "iopub.status.busy": "2024-06-15T15:09:43.701848Z",
          "iopub.execute_input": "2024-06-15T15:09:43.702270Z",
          "iopub.status.idle": "2024-06-15T15:09:43.713480Z",
          "shell.execute_reply.started": "2024-06-15T15:09:43.702241Z",
          "shell.execute_reply": "2024-06-15T15:09:43.712107Z"
        },
        "trusted": true
      },
      "execution_count": null,
      "outputs": []
    },
    {
      "cell_type": "markdown",
      "source": [
        "And like before, we can apply that function to our validation set easily:"
      ],
      "metadata": {
        "id": "ovv2b2CEw2EB"
      }
    },
    {
      "cell_type": "code",
      "source": [
        "validation_features = datasets[\"validation\"].map(\n",
        "    prepare_validation_features,\n",
        "    batched=True,\n",
        "    remove_columns=datasets[\"validation\"].column_names\n",
        ")"
      ],
      "metadata": {
        "id": "kfzv5g0ww2EB",
        "outputId": "93fad142-d7ec-4a2f-893d-b909ca7096ea",
        "execution": {
          "iopub.status.busy": "2024-06-15T15:09:44.069483Z",
          "iopub.execute_input": "2024-06-15T15:09:44.069928Z",
          "iopub.status.idle": "2024-06-15T15:09:45.561253Z",
          "shell.execute_reply.started": "2024-06-15T15:09:44.069883Z",
          "shell.execute_reply": "2024-06-15T15:09:45.559980Z"
        },
        "trusted": true,
        "colab": {
          "referenced_widgets": [
            "5c710ad50130431885b38e050335a6f2"
          ]
        }
      },
      "execution_count": null,
      "outputs": [
        {
          "name": "stdout",
          "text": "The OrderedVocab you are attempting to save contains holes for indices [1015, 1016, 1017, 1018, 1053, 1054, 1055, 1056, 1057, 1060, 1061, 1062, 1064, 1065, 1066, 1067, 1068, 1069, 1070, 1071, 1072, 1073, 1074, 1075, 1076, 1077, 1079, 1080, 1081, 1082, 1083, 1084, 1085, 1086, 1087, 1088, 1089, 1090, 1091, 1092, 1093, 1094, 1095, 1099, 1101, 1112, 1113, 1556, 1557, 1568], your vocabulary could be corrupted !\n",
          "output_type": "stream"
        },
        {
          "output_type": "display_data",
          "data": {
            "text/plain": "Map:   0%|          | 0/1200 [00:00<?, ? examples/s]",
            "application/vnd.jupyter.widget-view+json": {
              "version_major": 2,
              "version_minor": 0,
              "model_id": "5c710ad50130431885b38e050335a6f2"
            }
          },
          "metadata": {}
        }
      ]
    },
    {
      "cell_type": "markdown",
      "source": [
        "Now we can grab the predictions for all features by using the `Trainer.predict` method:"
      ],
      "metadata": {
        "id": "sGpSTWzgw2EB"
      }
    },
    {
      "cell_type": "code",
      "source": [
        "raw_predictions = trainer.predict(validation_features)"
      ],
      "metadata": {
        "id": "Et4sZmqQw2EB",
        "outputId": "98a3ca75-e328-4691-d8b6-a598d4298404",
        "execution": {
          "iopub.status.busy": "2024-06-15T15:09:45.563498Z",
          "iopub.execute_input": "2024-06-15T15:09:45.563912Z",
          "iopub.status.idle": "2024-06-15T15:10:02.952317Z",
          "shell.execute_reply.started": "2024-06-15T15:09:45.563872Z",
          "shell.execute_reply": "2024-06-15T15:10:02.951302Z"
        },
        "trusted": true
      },
      "execution_count": null,
      "outputs": [
        {
          "output_type": "display_data",
          "data": {
            "text/plain": "<IPython.core.display.HTML object>",
            "text/html": ""
          },
          "metadata": {}
        }
      ]
    },
    {
      "cell_type": "markdown",
      "source": [
        "The `Trainer` *hides* the columns that are not used by the model (here `example_id` and `offset_mapping` which we will need for our post-processing), so we set them back:"
      ],
      "metadata": {
        "id": "BC1T0lh3w2EB"
      }
    },
    {
      "cell_type": "code",
      "source": [
        "validation_features.set_format(type=validation_features.format[\"type\"], columns=list(validation_features.features.keys()))"
      ],
      "metadata": {
        "id": "2Z_X9fTGw2EB",
        "execution": {
          "iopub.status.busy": "2024-06-15T15:10:02.953744Z",
          "iopub.execute_input": "2024-06-15T15:10:02.954150Z",
          "iopub.status.idle": "2024-06-15T15:10:02.963550Z",
          "shell.execute_reply.started": "2024-06-15T15:10:02.954116Z",
          "shell.execute_reply": "2024-06-15T15:10:02.962422Z"
        },
        "trusted": true
      },
      "execution_count": null,
      "outputs": []
    },
    {
      "cell_type": "markdown",
      "source": [
        "We can now refine the test we had before: since we set `None` in the offset mappings when it corresponds to a part of the question, it's easy to check if an answer is fully inside the context. We also eliminate very long answers from our considerations (with an hyper-parameter we can tune)"
      ],
      "metadata": {
        "id": "Ke82o_Faw2EB"
      }
    },
    {
      "cell_type": "code",
      "source": [
        "max_answer_length = 15"
      ],
      "metadata": {
        "id": "O486GLyuw2EB",
        "execution": {
          "iopub.status.busy": "2024-06-15T15:10:02.966191Z",
          "iopub.execute_input": "2024-06-15T15:10:02.966549Z",
          "iopub.status.idle": "2024-06-15T15:10:02.975998Z",
          "shell.execute_reply.started": "2024-06-15T15:10:02.966512Z",
          "shell.execute_reply": "2024-06-15T15:10:02.974887Z"
        },
        "trusted": true
      },
      "execution_count": null,
      "outputs": []
    },
    {
      "cell_type": "code",
      "source": [
        "start_logits = output.start_logits[0].cpu().numpy()\n",
        "end_logits = output.end_logits[0].cpu().numpy()\n",
        "offset_mapping = validation_features[0][\"offset_mapping\"]\n",
        "# The first feature comes from the first example. For the more general case, we will need to be match the example_id to\n",
        "# an example index\n",
        "context = datasets[\"validation\"][0][\"context\"]\n",
        "\n",
        "# Gather the indices the best start/end logits:\n",
        "start_indexes = np.argsort(start_logits)[-1 : -n_best_size - 1 : -1].tolist()\n",
        "end_indexes = np.argsort(end_logits)[-1 : -n_best_size - 1 : -1].tolist()\n",
        "valid_answers = []\n",
        "for start_index in start_indexes:\n",
        "    for end_index in end_indexes:\n",
        "        # Don't consider out-of-scope answers, either because the indices are out of bounds or correspond\n",
        "        # to part of the input_ids that are not in the context.\n",
        "        if (\n",
        "            start_index >= len(offset_mapping)\n",
        "            or end_index >= len(offset_mapping)\n",
        "            or offset_mapping[start_index] is None\n",
        "            or offset_mapping[end_index] is None\n",
        "        ):\n",
        "            continue\n",
        "        # Don't consider answers with a length that is either < 0 or > max_answer_length.\n",
        "        if end_index < start_index or end_index - start_index + 1 > max_answer_length:\n",
        "            continue\n",
        "        if start_index <= end_index: # We need to refine that test to check the answer is inside the context\n",
        "            start_char = offset_mapping[start_index][0]\n",
        "            end_char = offset_mapping[end_index][1]\n",
        "            valid_answers.append(\n",
        "                {\n",
        "                    \"score\": start_logits[start_index] + end_logits[end_index],\n",
        "                    \"text\": context[start_char: end_char]\n",
        "                }\n",
        "            )\n",
        "\n",
        "valid_answers = sorted(valid_answers, key=lambda x: x[\"score\"], reverse=True)[:n_best_size]\n",
        "valid_answers"
      ],
      "metadata": {
        "id": "Nd4-9OwVw2EB",
        "outputId": "8e510576-1b5b-4999-d7c0-77b524f6b91d",
        "execution": {
          "iopub.status.busy": "2024-06-15T15:10:02.977336Z",
          "iopub.execute_input": "2024-06-15T15:10:02.977720Z",
          "iopub.status.idle": "2024-06-15T15:10:03.006309Z",
          "shell.execute_reply.started": "2024-06-15T15:10:02.977686Z",
          "shell.execute_reply": "2024-06-15T15:10:03.002341Z"
        },
        "trusted": true
      },
      "execution_count": null,
      "outputs": [
        {
          "execution_count": 57,
          "output_type": "execute_result",
          "data": {
            "text/plain": "[{'score': 9.310168, 'text': 'গদাধর'},\n {'score': 8.037401, 'text': '১৮৮৬; পূর্বাশ্রম'},\n {'score': 7.6550946, 'text': 'পূর্বাশ্রম'},\n {'score': 7.5971627, 'text': '১৮৮৬'},\n {'score': 7.488945, 'text': 'গদাধর চট্টোপাধ্যায'},\n {'score': 7.351264, 'text': '১৮৩৬ – ১৬ই আগস্ট, ১৮৮৬; পূর্বাশ্রম'},\n {'score': 7.241181, 'text': '১৮ই ফেব্রুয়ারি, ১৮৩৬ – ১৬ই আগস্ট, ১৮৮৬'},\n {'score': 6.911026, 'text': '১৮৩৬ – ১৬ই আগস্ট, ১৮৮৬'},\n {'score': 6.4823627, 'text': 'আগস্ট, ১৮৮৬; পূর্বাশ্রম'},\n {'score': 6.423315, 'text': '১৮৮৬; পূর্বাশ্রমের নাম গদাধর'}]"
          },
          "metadata": {}
        }
      ]
    },
    {
      "cell_type": "markdown",
      "source": [
        "We can compare to the actual ground-truth answer:"
      ],
      "metadata": {
        "id": "_SzL9tUWw2EB"
      }
    },
    {
      "cell_type": "code",
      "source": [
        "datasets[\"validation\"][0][\"answers\"]"
      ],
      "metadata": {
        "id": "omSsQ4Pjw2EB",
        "outputId": "4753889e-47ad-45a7-c07a-7e6dbeffcf1f",
        "execution": {
          "iopub.status.busy": "2024-06-15T15:10:03.008508Z",
          "iopub.execute_input": "2024-06-15T15:10:03.008953Z",
          "iopub.status.idle": "2024-06-15T15:10:03.018664Z",
          "shell.execute_reply.started": "2024-06-15T15:10:03.008909Z",
          "shell.execute_reply": "2024-06-15T15:10:03.017607Z"
        },
        "trusted": true
      },
      "execution_count": null,
      "outputs": [
        {
          "execution_count": 58,
          "output_type": "execute_result",
          "data": {
            "text/plain": "{'text': ['গদাধর চট্টোপাধ্যায়'], 'answer_start': [75]}"
          },
          "metadata": {}
        }
      ]
    },
    {
      "cell_type": "markdown",
      "source": [
        "Our model picked the right as the most likely answer!\n",
        "\n",
        "As we mentioned in the code above, this was easy on the first feature because we knew it comes from the first example. For the other features, we will need a map between examples and their corresponding features. Also, since one example can give several features, we will need to gather together all the answers in all the features generated by a given example, then pick the best one. The following code builds a map from example index to its corresponding features indices:"
      ],
      "metadata": {
        "id": "XG5kWsMGw2EB"
      }
    },
    {
      "cell_type": "code",
      "source": [
        "import collections\n",
        "\n",
        "examples = datasets[\"validation\"]\n",
        "features = validation_features\n",
        "\n",
        "example_id_to_index = {k: i for i, k in enumerate(examples[\"id\"])}\n",
        "features_per_example = collections.defaultdict(list)\n",
        "for i, feature in enumerate(features):\n",
        "    features_per_example[example_id_to_index[feature[\"example_id\"]]].append(i)"
      ],
      "metadata": {
        "id": "7suYtpYjw2EB",
        "execution": {
          "iopub.status.busy": "2024-06-15T15:10:03.020148Z",
          "iopub.execute_input": "2024-06-15T15:10:03.020618Z",
          "iopub.status.idle": "2024-06-15T15:10:05.732280Z",
          "shell.execute_reply.started": "2024-06-15T15:10:03.020585Z",
          "shell.execute_reply": "2024-06-15T15:10:05.731121Z"
        },
        "trusted": true
      },
      "execution_count": null,
      "outputs": []
    },
    {
      "cell_type": "markdown",
      "source": [
        "We're almost ready for our post-processing function. The last bit to deal with is the impossible answer (when `squad_v2 = True`). The code above only keeps answers that are inside the context, we need to also grab the score for the impossible answer (which has start and end indices corresponding to the index of the CLS token). When one example gives several features, we have to predict the impossible answer when all the features give a high score to the impossible answer (since one feature could predict the impossible answer just because the answer isn't in the part of the context it has access too), which is why the score of the impossible answer for one example is the *minimum* of the scores for the impossible answer in each feature generated by the example.\n",
        "\n",
        "We then predict the impossible answer when that score is greater than the score of the best non-impossible answer. All combined together, this gives us this post-processing function:"
      ],
      "metadata": {
        "id": "hcB5GyLPw2EB"
      }
    },
    {
      "cell_type": "code",
      "source": [
        "from tqdm.auto import tqdm\n",
        "\n",
        "def postprocess_qa_predictions(examples, features, raw_predictions, n_best_size = 20, max_answer_length = 30):\n",
        "    all_start_logits, all_end_logits = raw_predictions\n",
        "    # Build a map example to its corresponding features.\n",
        "    example_id_to_index = {k: i for i, k in enumerate(examples[\"id\"])}\n",
        "    features_per_example = collections.defaultdict(list)\n",
        "    for i, feature in enumerate(features):\n",
        "        features_per_example[example_id_to_index[feature[\"example_id\"]]].append(i)\n",
        "\n",
        "    # The dictionaries we have to fill.\n",
        "    predictions = collections.OrderedDict()\n",
        "\n",
        "    # Logging.\n",
        "    print(f\"Post-processing {len(examples)} example predictions split into {len(features)} features.\")\n",
        "\n",
        "    # Let's loop over all the examples!\n",
        "    for example_index, example in enumerate(tqdm(examples)):\n",
        "        # Those are the indices of the features associated to the current example.\n",
        "        feature_indices = features_per_example[example_index]\n",
        "\n",
        "        min_null_score = None # Only used if squad_v2 is True.\n",
        "        valid_answers = []\n",
        "\n",
        "        context = example[\"context\"]\n",
        "        # Looping through all the features associated to the current example.\n",
        "        for feature_index in feature_indices:\n",
        "            # We grab the predictions of the model for this feature.\n",
        "            start_logits = all_start_logits[feature_index]\n",
        "            end_logits = all_end_logits[feature_index]\n",
        "            # This is what will allow us to map some the positions in our logits to span of texts in the original\n",
        "            # context.\n",
        "            offset_mapping = features[feature_index][\"offset_mapping\"]\n",
        "\n",
        "            # Update minimum null prediction.\n",
        "            cls_index = features[feature_index][\"input_ids\"].index(tokenizer.cls_token_id)\n",
        "            feature_null_score = start_logits[cls_index] + end_logits[cls_index]\n",
        "            if min_null_score is None or min_null_score < feature_null_score:\n",
        "                min_null_score = feature_null_score\n",
        "\n",
        "            # Go through all possibilities for the `n_best_size` greater start and end logits.\n",
        "            start_indexes = np.argsort(start_logits)[-1 : -n_best_size - 1 : -1].tolist()\n",
        "            end_indexes = np.argsort(end_logits)[-1 : -n_best_size - 1 : -1].tolist()\n",
        "            for start_index in start_indexes:\n",
        "                for end_index in end_indexes:\n",
        "                    # Don't consider out-of-scope answers, either because the indices are out of bounds or correspond\n",
        "                    # to part of the input_ids that are not in the context.\n",
        "                    if (\n",
        "                        start_index >= len(offset_mapping)\n",
        "                        or end_index >= len(offset_mapping)\n",
        "                        or offset_mapping[start_index] is None\n",
        "                        or offset_mapping[end_index] is None\n",
        "                    ):\n",
        "                        continue\n",
        "                    # Don't consider answers with a length that is either < 0 or > max_answer_length.\n",
        "                    if end_index < start_index or end_index - start_index + 1 > max_answer_length:\n",
        "                        continue\n",
        "\n",
        "                    start_char = offset_mapping[start_index][0]\n",
        "                    end_char = offset_mapping[end_index][1]\n",
        "                    valid_answers.append(\n",
        "                        {\n",
        "                            \"score\": start_logits[start_index] + end_logits[end_index],\n",
        "                            \"text\": context[start_char: end_char]\n",
        "                        }\n",
        "                    )\n",
        "\n",
        "        if len(valid_answers) > 0:\n",
        "            best_answer = sorted(valid_answers, key=lambda x: x[\"score\"], reverse=True)[0]\n",
        "        else:\n",
        "            # In the very rare edge case we have not a single non-null prediction, we create a fake prediction to avoid\n",
        "            # failure.\n",
        "            best_answer = {\"text\": \"\", \"score\": 0.0}\n",
        "\n",
        "        # Let's pick our final answer: the best one or the null answer (only for squad_v2)\n",
        "        if not squad_v2:\n",
        "            predictions[example[\"id\"]] = best_answer[\"text\"]\n",
        "        else:\n",
        "            answer = best_answer[\"text\"] if best_answer[\"score\"] > min_null_score else \"\"\n",
        "            predictions[example[\"id\"]] = answer\n",
        "\n",
        "    return predictions"
      ],
      "metadata": {
        "id": "ASgyIP4Rw2EB",
        "execution": {
          "iopub.status.busy": "2024-06-15T15:10:05.734174Z",
          "iopub.execute_input": "2024-06-15T15:10:05.734535Z",
          "iopub.status.idle": "2024-06-15T15:10:05.754880Z",
          "shell.execute_reply.started": "2024-06-15T15:10:05.734502Z",
          "shell.execute_reply": "2024-06-15T15:10:05.753741Z"
        },
        "trusted": true
      },
      "execution_count": null,
      "outputs": []
    },
    {
      "cell_type": "markdown",
      "source": [
        "And we can apply our post-processing function to our raw predictions:"
      ],
      "metadata": {
        "id": "4sSSQRBlw2EC"
      }
    },
    {
      "cell_type": "code",
      "source": [
        "final_predictions = postprocess_qa_predictions(datasets[\"validation\"], validation_features, raw_predictions.predictions)"
      ],
      "metadata": {
        "id": "p593YBskw2EC",
        "outputId": "5a280295-d51a-42b2-cef2-4f5e119a979e",
        "execution": {
          "iopub.status.busy": "2024-06-15T15:10:05.756470Z",
          "iopub.execute_input": "2024-06-15T15:10:05.756882Z",
          "iopub.status.idle": "2024-06-15T15:10:15.138396Z",
          "shell.execute_reply.started": "2024-06-15T15:10:05.756840Z",
          "shell.execute_reply": "2024-06-15T15:10:15.136992Z"
        },
        "trusted": true,
        "colab": {
          "referenced_widgets": [
            "547ce08ccfe14a5083843a79b3364d76"
          ]
        }
      },
      "execution_count": null,
      "outputs": [
        {
          "name": "stdout",
          "text": "Post-processing 1200 example predictions split into 1310 features.\n",
          "output_type": "stream"
        },
        {
          "output_type": "display_data",
          "data": {
            "text/plain": "  0%|          | 0/1200 [00:00<?, ?it/s]",
            "application/vnd.jupyter.widget-view+json": {
              "version_major": 2,
              "version_minor": 0,
              "model_id": "547ce08ccfe14a5083843a79b3364d76"
            }
          },
          "metadata": {}
        }
      ]
    },
    {
      "cell_type": "markdown",
      "source": [
        "Then we can load the metric from the datasets library."
      ],
      "metadata": {
        "id": "NanNCGPVw2EC"
      }
    },
    {
      "cell_type": "code",
      "source": [
        "\n",
        "!pip install evaluate -q"
      ],
      "metadata": {
        "execution": {
          "iopub.status.busy": "2024-06-15T15:10:15.143039Z",
          "iopub.execute_input": "2024-06-15T15:10:15.143475Z",
          "iopub.status.idle": "2024-06-15T15:10:29.882967Z",
          "shell.execute_reply.started": "2024-06-15T15:10:15.143434Z",
          "shell.execute_reply": "2024-06-15T15:10:29.878621Z"
        },
        "trusted": true,
        "id": "fXh5zJNUDzvF",
        "outputId": "76241a4a-4539-49b3-bd31-dfe4f81136d4"
      },
      "execution_count": null,
      "outputs": [
        {
          "name": "stderr",
          "text": "/opt/conda/lib/python3.10/pty.py:89: RuntimeWarning: os.fork() was called. os.fork() is incompatible with multithreaded code, and JAX is multithreaded, so this will likely lead to a deadlock.\n  pid, fd = os.forkpty()\nhuggingface/tokenizers: The current process just got forked, after parallelism has already been used. Disabling parallelism to avoid deadlocks...\nTo disable this warning, you can either:\n\t- Avoid using `tokenizers` before the fork if possible\n\t- Explicitly set the environment variable TOKENIZERS_PARALLELISM=(true | false)\n",
          "output_type": "stream"
        }
      ]
    },
    {
      "cell_type": "code",
      "source": [
        "import evaluate\n",
        "\n",
        "metric = evaluate.load(\"squad_v2\")"
      ],
      "metadata": {
        "id": "SxSZEwIkw2EC",
        "execution": {
          "iopub.status.busy": "2024-06-15T15:10:29.885191Z",
          "iopub.execute_input": "2024-06-15T15:10:29.886036Z",
          "iopub.status.idle": "2024-06-15T15:10:30.618474Z",
          "shell.execute_reply.started": "2024-06-15T15:10:29.885979Z",
          "shell.execute_reply": "2024-06-15T15:10:30.614183Z"
        },
        "trusted": true,
        "colab": {
          "referenced_widgets": [
            "a3fd94c293fe4ffca86da8f570fdfd48",
            "45c1ea6edd56400481df77ed637f461f"
          ]
        },
        "outputId": "ec8b10c3-3b40-4e3b-8987-4dcd025127bd"
      },
      "execution_count": null,
      "outputs": [
        {
          "output_type": "display_data",
          "data": {
            "text/plain": "Downloading builder script:   0%|          | 0.00/6.47k [00:00<?, ?B/s]",
            "application/vnd.jupyter.widget-view+json": {
              "version_major": 2,
              "version_minor": 0,
              "model_id": "a3fd94c293fe4ffca86da8f570fdfd48"
            }
          },
          "metadata": {}
        },
        {
          "output_type": "display_data",
          "data": {
            "text/plain": "Downloading extra modules:   0%|          | 0.00/11.3k [00:00<?, ?B/s]",
            "application/vnd.jupyter.widget-view+json": {
              "version_major": 2,
              "version_minor": 0,
              "model_id": "45c1ea6edd56400481df77ed637f461f"
            }
          },
          "metadata": {}
        }
      ]
    },
    {
      "cell_type": "code",
      "source": [
        "theoretical_answers = [\n",
        "    {\"id\": ex[\"id\"], \"answers\": ex[\"answers\"]} for ex in datasets[\"validation\"]\n",
        "]"
      ],
      "metadata": {
        "execution": {
          "iopub.status.busy": "2024-06-15T15:10:30.619945Z",
          "iopub.execute_input": "2024-06-15T15:10:30.622897Z",
          "iopub.status.idle": "2024-06-15T15:10:30.817014Z",
          "shell.execute_reply.started": "2024-06-15T15:10:30.622822Z",
          "shell.execute_reply": "2024-06-15T15:10:30.815677Z"
        },
        "trusted": true,
        "id": "Rr8s539pDzvG"
      },
      "execution_count": null,
      "outputs": []
    },
    {
      "cell_type": "code",
      "source": [
        " formatted_predictions = [{\"id\": k, \"prediction_text\": v} for k, v in final_predictions.items()]\n",
        "formatted_predictions = [{\"id\": k, \"prediction_text\": v, \"no_answer_probability\": 0.0} for k, v in final_predictions.items()]\n",
        ""
      ],
      "metadata": {
        "execution": {
          "iopub.status.busy": "2024-06-15T15:10:30.819804Z",
          "iopub.execute_input": "2024-06-15T15:10:30.820470Z",
          "iopub.status.idle": "2024-06-15T15:10:30.831124Z",
          "shell.execute_reply.started": "2024-06-15T15:10:30.820424Z",
          "shell.execute_reply": "2024-06-15T15:10:30.829630Z"
        },
        "trusted": true,
        "id": "6xAgIwH8DzvG"
      },
      "execution_count": null,
      "outputs": []
    },
    {
      "cell_type": "code",
      "source": [
        "for pred, true in zip(formatted_predictions, theoretical_answers):\n",
        "    print(\"ID:\", pred[\"id\"])\n",
        "    print(\"Predicted Answer:\", pred[\"prediction_text\"])\n",
        "    print(\"True Answer:\", true[\"answers\"])\n",
        "    print()"
      ],
      "metadata": {
        "trusted": true,
        "id": "CfszmEm3DzvH"
      },
      "execution_count": null,
      "outputs": []
    },
    {
      "cell_type": "code",
      "source": [
        "theoretical_answers[2]\n",
        ""
      ],
      "metadata": {
        "execution": {
          "iopub.status.busy": "2024-06-15T15:10:31.790810Z",
          "iopub.execute_input": "2024-06-15T15:10:31.791918Z",
          "iopub.status.idle": "2024-06-15T15:10:31.799557Z",
          "shell.execute_reply.started": "2024-06-15T15:10:31.791879Z",
          "shell.execute_reply": "2024-06-15T15:10:31.798504Z"
        },
        "trusted": true,
        "id": "CreTezGTDzvH",
        "outputId": "e54eaeb3-1e2d-4c96-cadc-73d47b999bdc"
      },
      "execution_count": null,
      "outputs": [
        {
          "execution_count": 67,
          "output_type": "execute_result",
          "data": {
            "text/plain": "{'id': 'bengali--2853336909275171308-23-211',\n 'answers': {'text': [], 'answer_start': []}}"
          },
          "metadata": {}
        }
      ]
    },
    {
      "cell_type": "markdown",
      "source": [
        "Then we can call compute on it. We just need to format predictions and labels a bit as it expects a list of dictionaries and not one big dictionary. In the case of squad_v2, we also have to set a `no_answer_probability` argument (which we set to 0.0 here as we have already set the answer to empty if we picked it)."
      ],
      "metadata": {
        "id": "gi-AbCjpw2EC"
      }
    },
    {
      "cell_type": "code",
      "source": [
        "metric.compute(predictions=formatted_predictions, references=theoretical_answers)"
      ],
      "metadata": {
        "execution": {
          "iopub.status.busy": "2024-06-15T15:10:31.800928Z",
          "iopub.execute_input": "2024-06-15T15:10:31.801886Z",
          "iopub.status.idle": "2024-06-15T15:10:32.058483Z",
          "shell.execute_reply.started": "2024-06-15T15:10:31.801821Z",
          "shell.execute_reply": "2024-06-15T15:10:32.057418Z"
        },
        "trusted": true,
        "id": "cb3bnH2ADzvI",
        "outputId": "967546be-f5ba-42c6-8846-b5df9b290b41"
      },
      "execution_count": null,
      "outputs": [
        {
          "execution_count": 68,
          "output_type": "execute_result",
          "data": {
            "text/plain": "{'exact': 9.25,\n 'f1': 16.132710539947382,\n 'total': 1200,\n 'HasAns_exact': 17.44,\n 'HasAns_f1': 30.654804236698972,\n 'HasAns_total': 625,\n 'NoAns_exact': 0.34782608695652173,\n 'NoAns_f1': 0.34782608695652173,\n 'NoAns_total': 575,\n 'best_exact': 47.916666666666664,\n 'best_exact_thresh': 0.0,\n 'best_f1': 47.97222222222222,\n 'best_f1_thresh': 0.0}"
          },
          "metadata": {}
        }
      ]
    },
    {
      "cell_type": "code",
      "source": [
        "context = 'পৃথিবী বাঁচার সম্পর্কে জানা গেছে যে জলবায়ু পরিবর্তনের কারণে একটি প্রধান সংকেত বৃদ্ধি পাবে বিপ্লবী পরিবেশ। জলবায়ু পরিবর্তনের মোট প্রভাব ও প্রতিক্রিয়া এখনো সম্পূর্ণ জানা নেই। তবে, এটির সাথে সম্পর্কিত অনেক কারণ ও কারণ সমূহ অবশ্যই বিবেচনা করা উচিত। এটি মানুষের জীবনের অনেক দিক প্রভাবিত করতে পারে, যেমন আপেক্ষিক তাপমাত্রা, সমুদ্র স্তর, ও জলপাই ঘাতক প্রাকৃতিক ঘটনা সহ।'\n",
        "question='কোন উপায়ে মানুষের কার্বন নির্গত অংশ কমিয়ে তুলতে পারে এবং পরিবেশের জলবায়ু পরিবর্তনের প্রতিরোধ করতে সাহায্য করতে পারে?'"
      ],
      "metadata": {
        "execution": {
          "iopub.status.busy": "2024-06-15T15:10:32.059820Z",
          "iopub.execute_input": "2024-06-15T15:10:32.060442Z",
          "iopub.status.idle": "2024-06-15T15:10:32.069117Z",
          "shell.execute_reply.started": "2024-06-15T15:10:32.060406Z",
          "shell.execute_reply": "2024-06-15T15:10:32.067910Z"
        },
        "trusted": true,
        "id": "bJBqmywODzvI"
      },
      "execution_count": null,
      "outputs": []
    },
    {
      "cell_type": "code",
      "source": [
        "import torch\n",
        "\n",
        "# Tokenize inputs\n",
        "tokenized_input = tokenizer.encode_plus(context, question, return_tensors=\"pt\")\n",
        "\n",
        "# Print tokenized input\n",
        "print(\"Tokenized Input:\", tokenized_input)\n",
        "\n",
        "# Model Inference\n",
        "with torch.no_grad():\n",
        "    # Move input tensors to the same device as the model\n",
        "    tokenized_input = {key: value.to(model.device) for key, value in tokenized_input.items()}\n",
        "    # Forward pass\n",
        "    outputs = model(**tokenized_input)\n",
        "    start_logits, end_logits = outputs.start_logits, outputs.end_logits\n",
        "\n",
        "# Decode Answers\n",
        "start_index = torch.argmax(start_logits)\n",
        "end_index = torch.argmax(end_logits)\n",
        "answer_span = tokenized_input['input_ids'][0][start_index : end_index + 1]\n",
        "\n",
        "# Post-processing\n",
        "answer = tokenizer.decode(answer_span)\n",
        "\n",
        "print(\"Predicted Answer:\", answer)\n",
        "print(\"Start Logits:\", start_logits)\n",
        "print(\"End Logits:\", end_logits)\n"
      ],
      "metadata": {
        "id": "6X8dijfrw2EC",
        "outputId": "18856d34-b382-44d8-ecde-b8637000f5e8",
        "execution": {
          "iopub.status.busy": "2024-06-15T15:10:32.070996Z",
          "iopub.execute_input": "2024-06-15T15:10:32.071472Z",
          "iopub.status.idle": "2024-06-15T15:10:32.260841Z",
          "shell.execute_reply.started": "2024-06-15T15:10:32.071436Z",
          "shell.execute_reply": "2024-06-15T15:10:32.259590Z"
        },
        "trusted": true
      },
      "execution_count": null,
      "outputs": [
        {
          "name": "stdout",
          "text": "Tokenized Input: {'input_ids': tensor([[  101,  2415, 21701,  2765, 37053,  2046,  7505, 12041,  2071,  2295,\n          2149,  2060,  4368,  4393,  9294, 96754,  2040,  2147,  2051,  2076,\n         21992,  6311, 26535, 19349,  3428, 37320, 44929,  2765,  2679,  1014,\n          4368,  4393,  9294, 96754,  2040,  2446, 21327,  2076, 14504,  2038,\n         50569,  3924,  5561,  7724,  2112,  2094,  2395,  7505, 12041,  2772,\n          2295,  2128,  1014,  2087,  1011,  5182,  2179,  7505, 12041, 59134,\n          2115,  2164,  2038,  2164,  7505,  5694, 26465,  9294,  2062,  3388,\n          2047,  2351,  1014,  2135,  3175, 47678,  2960,  2115,  2753,  2076,\n         53609,  3283,  2059,  2083,  1011,  2292, 67162, 77260,  3924,  8230,\n         32641,  2429,  1011,  7505, 23054, 36079,  2046,  1011,  2038, 11012,\n         14018,  6407, 81528,  3012,  2367,  3169,  1014,   102,  2285,  5803,\n         43006,  8844,  3175, 47678,  3697, 12532, 21962,  4359,  2202, 46972,\n          8844, 14973,  2200,  2083,  2042,  6359,  4368,  4393,  9294, 96754,\n          2040, 50569,  4999,  2094, 41100,  2059,  6475,  9294,  9294,  2059,\n          2083,  1045,   102]]), 'token_type_ids': tensor([[0, 0, 0, 0, 0, 0, 0, 0, 0, 0, 0, 0, 0, 0, 0, 0, 0, 0, 0, 0, 0, 0, 0, 0,\n         0, 0, 0, 0, 0, 0, 0, 0, 0, 0, 0, 0, 0, 0, 0, 0, 0, 0, 0, 0, 0, 0, 0, 0,\n         0, 0, 0, 0, 0, 0, 0, 0, 0, 0, 0, 0, 0, 0, 0, 0, 0, 0, 0, 0, 0, 0, 0, 0,\n         0, 0, 0, 0, 0, 0, 0, 0, 0, 0, 0, 0, 0, 0, 0, 0, 0, 0, 0, 0, 0, 0, 0, 0,\n         0, 0, 0, 0, 0, 0, 0, 0, 0, 0, 0, 0, 1, 1, 1, 1, 1, 1, 1, 1, 1, 1, 1, 1,\n         1, 1, 1, 1, 1, 1, 1, 1, 1, 1, 1, 1, 1, 1, 1, 1, 1, 1, 1, 1, 1, 1, 1]]), 'attention_mask': tensor([[1, 1, 1, 1, 1, 1, 1, 1, 1, 1, 1, 1, 1, 1, 1, 1, 1, 1, 1, 1, 1, 1, 1, 1,\n         1, 1, 1, 1, 1, 1, 1, 1, 1, 1, 1, 1, 1, 1, 1, 1, 1, 1, 1, 1, 1, 1, 1, 1,\n         1, 1, 1, 1, 1, 1, 1, 1, 1, 1, 1, 1, 1, 1, 1, 1, 1, 1, 1, 1, 1, 1, 1, 1,\n         1, 1, 1, 1, 1, 1, 1, 1, 1, 1, 1, 1, 1, 1, 1, 1, 1, 1, 1, 1, 1, 1, 1, 1,\n         1, 1, 1, 1, 1, 1, 1, 1, 1, 1, 1, 1, 1, 1, 1, 1, 1, 1, 1, 1, 1, 1, 1, 1,\n         1, 1, 1, 1, 1, 1, 1, 1, 1, 1, 1, 1, 1, 1, 1, 1, 1, 1, 1, 1, 1, 1, 1]])}\nPredicted Answer: [CLS]\nStart Logits: tensor([[  6.7384,  -1.9442,  -8.1632,  -9.6384,  -6.6449,  -9.7262,  -7.0621,\n          -9.2361, -10.2423,  -7.5488,  -8.3637,  -7.5276,  -0.6325,  -7.9306,\n          -9.4584,  -6.5725,  -9.0031,  -7.8480,  -3.4421,  -2.9593,  -8.9733,\n          -6.6556,  -4.6214,  -9.8159,  -7.4119,  -1.8598,  -7.7434,  -9.7885,\n          -7.0660,  -6.4457,  -1.4467,  -8.2868,  -9.5567,  -5.4576,  -7.1558,\n          -4.0552,  -8.7077,  -5.9558,  -7.3318,  -6.4462,  -4.9740,  -9.3603,\n          -9.7593,  -9.7083,  -4.5933,  -7.4116,  -7.8821,  -5.0479,  -8.3674,\n         -10.0941,  -7.4897,  -7.7713,  -6.2600,  -5.9014,  -7.1972,  -4.8977,\n          -7.1213,  -4.7044,  -8.1810,  -9.4088,  -4.0396,  -5.4588,  -5.1225,\n          -6.2632,  -4.1544,  -9.3717,  -8.1186,  -9.7872,  -9.2742,  -6.9324,\n          -6.6048,  -5.9237,  -6.1651,  -4.2038,  -1.9133,  -8.2542,  -3.9913,\n          -5.1520,  -8.1586,  -6.1269,  -9.1736,  -9.3604,  -7.9811,  -8.3996,\n          -7.5513,  -7.4812,  -0.7624,  -4.9952,  -8.7817,  -5.3357,  -8.4321,\n          -7.9108,  -7.2838,  -1.9897,  -8.9107,  -6.2266,  -9.0901,  -8.1507,\n          -2.6810,  -4.6913,  -5.6690,  -3.1166,  -9.1048,  -9.5574,  -6.2982,\n          -8.1249,  -6.0441,  -2.9408,   2.7152,  -1.8809,  -1.9331,  -6.7373,\n           1.4282,  -5.0144,   4.0071,   0.1009,   3.3608,  -2.5808,  -2.4061,\n           4.7424,  -2.3629,  -1.1606,  -2.6145,  -2.2600,  -2.0065,   5.1650,\n           4.6352,   2.4524,   0.1852,   3.1858,  -1.2306,   4.4733,   0.4055,\n          -2.3407,  -1.4718,   0.4563,   4.6666,  -1.4162,  -2.1128,   0.5134,\n           1.8314,  -1.3257,   0.1092]], device='cuda:0')\nEnd Logits: tensor([[ 6.2965, -6.9138, -7.1219, -5.0126, -7.1005, -4.3470, -9.4099, -6.4854,\n         -4.8719, -7.6661, -6.7871, -7.6703, -5.1541, -7.2272, -6.8506, -4.1062,\n         -4.1775, -6.3739, -6.9971, -8.1659, -5.7596, -5.2523, -8.9666, -5.5847,\n         -5.9097, -8.2615, -8.2653, -5.9881, -3.0390, -3.1004, -4.9299, -6.8323,\n         -6.3251, -4.2811, -5.6930, -7.2400, -4.5610, -6.9452, -6.4271, -6.1505,\n         -8.5971, -6.7726, -5.9605, -2.8425, -7.1387, -5.8388, -6.7894, -9.5291,\n         -8.3008, -4.5787, -6.5777, -5.1069, -2.8296, -7.0541, -7.1813, -7.4250,\n         -8.2853, -9.3975, -8.4227, -5.2371, -6.1858, -5.7641, -5.6391, -3.6234,\n         -8.0587, -4.4516, -7.1973, -5.6691, -4.9856, -7.0052, -5.6285, -4.6971,\n         -2.7867, -7.1465, -7.5831, -3.7755, -3.8372, -6.9253, -5.2950, -8.4173,\n         -7.4892, -6.2729, -7.3287, -5.8583, -5.7751, -6.9222, -6.3190, -6.4951,\n         -4.6421, -6.6614, -6.0393, -3.0861, -5.8341, -8.2624, -4.9320, -7.5675,\n         -2.7879, -4.9796, -7.0892, -3.3818, -1.4989, -7.9789, -6.7151, -1.8248,\n         -1.5518, -3.6799, -2.5248, -3.4649, -0.4534, -1.3084, -5.0918, -1.1048,\n         -2.7462,  1.7362,  0.2223,  0.9175, -1.4803,  2.0081,  4.4925, -0.3689,\n          3.0823,  2.3418,  4.3438,  2.0243, -0.7949,  2.5837,  3.7894,  1.1387,\n          2.2336,  3.0313,  3.7702,  1.3170,  3.7395,  2.5348,  4.5668,  2.2208,\n          2.4730,  2.8113,  1.7262,  1.6476,  3.8186,  0.6467,  0.2277]],\n       device='cuda:0')\n",
          "output_type": "stream"
        }
      ]
    },
    {
      "cell_type": "code",
      "source": [
        "print(answer)"
      ],
      "metadata": {
        "execution": {
          "iopub.status.busy": "2024-06-15T15:17:33.859959Z",
          "iopub.execute_input": "2024-06-15T15:17:33.860377Z",
          "iopub.status.idle": "2024-06-15T15:17:33.868931Z",
          "shell.execute_reply.started": "2024-06-15T15:17:33.860344Z",
          "shell.execute_reply": "2024-06-15T15:17:33.867401Z"
        },
        "trusted": true,
        "id": "YG3GakKPDzvJ",
        "outputId": "187b3859-1a44-43fa-e67d-d91fca80cc81"
      },
      "execution_count": null,
      "outputs": [
        {
          "name": "stdout",
          "text": "[CLS]\n",
          "output_type": "stream"
        }
      ]
    },
    {
      "cell_type": "markdown",
      "source": [
        "You can now upload the result of the training to the Hub, just execute this instruction:"
      ],
      "metadata": {
        "id": "pRhdqJq8w2EC"
      }
    },
    {
      "cell_type": "code",
      "source": [
        "trainer.push_to_hub()"
      ],
      "metadata": {
        "id": "23qNplt8w2EC",
        "execution": {
          "iopub.status.busy": "2024-06-15T15:17:36.301914Z",
          "iopub.execute_input": "2024-06-15T15:17:36.302351Z",
          "iopub.status.idle": "2024-06-15T15:18:00.442511Z",
          "shell.execute_reply.started": "2024-06-15T15:17:36.302304Z",
          "shell.execute_reply": "2024-06-15T15:18:00.441424Z"
        },
        "trusted": true,
        "colab": {
          "referenced_widgets": [
            "ee98e8776ab94f73b725037e0a6061a4",
            "d552ce370b354da2b31afe940bbbf786",
            "bc6f3d324b8847d291febb797d1d622f",
            "f20f1862fd0e4fe19df5a0d1b8b717d1"
          ]
        },
        "outputId": "ddf54b71-a092-4acc-dbbf-14a74fefb46b"
      },
      "execution_count": null,
      "outputs": [
        {
          "name": "stdout",
          "text": "The OrderedVocab you are attempting to save contains holes for indices [1015, 1016, 1017, 1018, 1053, 1054, 1055, 1056, 1057, 1060, 1061, 1062, 1064, 1065, 1066, 1067, 1068, 1069, 1070, 1071, 1072, 1073, 1074, 1075, 1076, 1077, 1079, 1080, 1081, 1082, 1083, 1084, 1085, 1086, 1087, 1088, 1089, 1090, 1091, 1092, 1093, 1094, 1095, 1099, 1101, 1112, 1113, 1556, 1557, 1568], your vocabulary could be corrupted !\n",
          "output_type": "stream"
        },
        {
          "output_type": "display_data",
          "data": {
            "text/plain": "events.out.tfevents.1718462488.b8e72f4d4b07.34.0:   0%|          | 0.00/6.85k [00:00<?, ?B/s]",
            "application/vnd.jupyter.widget-view+json": {
              "version_major": 2,
              "version_minor": 0,
              "model_id": "ee98e8776ab94f73b725037e0a6061a4"
            }
          },
          "metadata": {}
        },
        {
          "output_type": "display_data",
          "data": {
            "text/plain": "training_args.bin:   0%|          | 0.00/5.18k [00:00<?, ?B/s]",
            "application/vnd.jupyter.widget-view+json": {
              "version_major": 2,
              "version_minor": 0,
              "model_id": "d552ce370b354da2b31afe940bbbf786"
            }
          },
          "metadata": {}
        },
        {
          "output_type": "display_data",
          "data": {
            "text/plain": "model.safetensors:   0%|          | 0.00/655M [00:00<?, ?B/s]",
            "application/vnd.jupyter.widget-view+json": {
              "version_major": 2,
              "version_minor": 0,
              "model_id": "bc6f3d324b8847d291febb797d1d622f"
            }
          },
          "metadata": {}
        },
        {
          "output_type": "display_data",
          "data": {
            "text/plain": "Upload 3 LFS files:   0%|          | 0/3 [00:00<?, ?it/s]",
            "application/vnd.jupyter.widget-view+json": {
              "version_major": 2,
              "version_minor": 0,
              "model_id": "f20f1862fd0e4fe19df5a0d1b8b717d1"
            }
          },
          "metadata": {}
        },
        {
          "execution_count": 73,
          "output_type": "execute_result",
          "data": {
            "text/plain": "CommitInfo(commit_url='https://huggingface.co/shakun42/bangla-bert-base-finetuned-squadbn/commit/8c8df60f90a6c7d9f08c89b0e09ab9e5d063d89b', commit_message='End of training', commit_description='', oid='8c8df60f90a6c7d9f08c89b0e09ab9e5d063d89b', pr_url=None, pr_revision=None, pr_num=None)"
          },
          "metadata": {}
        }
      ]
    },
    {
      "cell_type": "markdown",
      "source": [
        "You can now share this model with all your friends, family, favorite pets: they can all load it with the identifier `\"your-username/the-name-you-picked\"` so for instance:\n",
        "\n",
        "```python\n",
        "from transformers import AutoModelForQuestionAnswering\n",
        "\n",
        "model = AutoModelForQuestionAnswering.from_pretrained(\"sgugger/my-awesome-model\")\n",
        "```"
      ],
      "metadata": {
        "id": "7jVZosDPw2EC"
      }
    },
    {
      "cell_type": "code",
      "source": [
        "from transformers import AutoModelForQuestionAnswering, AutoTokenizer, pipeline\n",
        "\n",
        "model_name = \"shakun42/bangla-bert-base-finetuned-squadbn\"\n",
        "model = AutoModelForQuestionAnswering.from_pretrained(model_name)\n",
        "tokenizer = AutoTokenizer.from_pretrained(model_name)\n",
        "\n",
        "nlp = pipeline('question-answering', model=model_name, tokenizer=model_name)\n"
      ],
      "metadata": {
        "id": "9p-yLV09w2EC",
        "execution": {
          "iopub.status.busy": "2024-06-15T15:30:34.469406Z",
          "iopub.execute_input": "2024-06-15T15:30:34.469781Z",
          "iopub.status.idle": "2024-06-15T15:30:45.274731Z",
          "shell.execute_reply.started": "2024-06-15T15:30:34.469753Z",
          "shell.execute_reply": "2024-06-15T15:30:45.273634Z"
        },
        "trusted": true,
        "colab": {
          "referenced_widgets": [
            "9905aff2e0624d6db4f5a45a4aaf5af9",
            "fab4a03add274150b1dbd6c357ac48b3",
            "e5e0b8fecafc44a3baa0907315a2d0f1",
            "da1cb53f30c6430e80108d7343d1bd67",
            "54d24ada9fd34c6085260d4cbae3d847",
            "622fba938086417eac3c9930511bf35e"
          ]
        },
        "outputId": "c58800ad-1198-46fa-e2b9-614e9ddc02e1"
      },
      "execution_count": null,
      "outputs": [
        {
          "output_type": "display_data",
          "data": {
            "text/plain": "config.json:   0%|          | 0.00/650 [00:00<?, ?B/s]",
            "application/vnd.jupyter.widget-view+json": {
              "version_major": 2,
              "version_minor": 0,
              "model_id": "9905aff2e0624d6db4f5a45a4aaf5af9"
            }
          },
          "metadata": {}
        },
        {
          "output_type": "display_data",
          "data": {
            "text/plain": "model.safetensors:   0%|          | 0.00/655M [00:00<?, ?B/s]",
            "application/vnd.jupyter.widget-view+json": {
              "version_major": 2,
              "version_minor": 0,
              "model_id": "fab4a03add274150b1dbd6c357ac48b3"
            }
          },
          "metadata": {}
        },
        {
          "output_type": "display_data",
          "data": {
            "text/plain": "tokenizer_config.json:   0%|          | 0.00/1.27k [00:00<?, ?B/s]",
            "application/vnd.jupyter.widget-view+json": {
              "version_major": 2,
              "version_minor": 0,
              "model_id": "e5e0b8fecafc44a3baa0907315a2d0f1"
            }
          },
          "metadata": {}
        },
        {
          "output_type": "display_data",
          "data": {
            "text/plain": "vocab.txt:   0%|          | 0.00/2.24M [00:00<?, ?B/s]",
            "application/vnd.jupyter.widget-view+json": {
              "version_major": 2,
              "version_minor": 0,
              "model_id": "da1cb53f30c6430e80108d7343d1bd67"
            }
          },
          "metadata": {}
        },
        {
          "output_type": "display_data",
          "data": {
            "text/plain": "tokenizer.json:   0%|          | 0.00/3.86M [00:00<?, ?B/s]",
            "application/vnd.jupyter.widget-view+json": {
              "version_major": 2,
              "version_minor": 0,
              "model_id": "54d24ada9fd34c6085260d4cbae3d847"
            }
          },
          "metadata": {}
        },
        {
          "output_type": "display_data",
          "data": {
            "text/plain": "special_tokens_map.json:   0%|          | 0.00/125 [00:00<?, ?B/s]",
            "application/vnd.jupyter.widget-view+json": {
              "version_major": 2,
              "version_minor": 0,
              "model_id": "622fba938086417eac3c9930511bf35e"
            }
          },
          "metadata": {}
        }
      ]
    },
    {
      "cell_type": "code",
      "source": [
        "qa_input = {\n",
        "    'question': 'লালন ফকির কোন সঙ্গীতধারার প্রধান ব্যক্তিত্ব?',\n",
        "    'context': 'বাংলায় বাউল সংগীত একটি জনপ্রিয় সঙ্গীতধারা। লালন ফকির বাউল গানের একজন প্রধান ব্যক্তিত্ব। তার গানগুলির মধ্যে দার্শনিক ও আধ্যাত্মিক বিষয়বস্তু আছে।'\n",
        "}\n",
        "result = nlp(qa_input)\n",
        "print(result)"
      ],
      "metadata": {
        "execution": {
          "iopub.status.busy": "2024-06-15T15:30:45.276936Z",
          "iopub.execute_input": "2024-06-15T15:30:45.277369Z",
          "iopub.status.idle": "2024-06-15T15:30:45.411684Z",
          "shell.execute_reply.started": "2024-06-15T15:30:45.277328Z",
          "shell.execute_reply": "2024-06-15T15:30:45.409630Z"
        },
        "trusted": true,
        "id": "o-k32uaoDzvK",
        "outputId": "25cfd2a2-8ab5-41f1-bb3d-3ae84720e5e1"
      },
      "execution_count": null,
      "outputs": [
        {
          "name": "stdout",
          "text": "{'score': 0.19587421417236328, 'start': 55, 'end': 65, 'answer': 'বাউল গানের'}\n",
          "output_type": "stream"
        }
      ]
    },
    {
      "cell_type": "code",
      "source": [],
      "metadata": {
        "id": "JhJl6oOFDzvK"
      },
      "execution_count": null,
      "outputs": []
    }
  ]
}